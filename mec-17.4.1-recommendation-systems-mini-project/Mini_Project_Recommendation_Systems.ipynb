{
  "cells": [
    {
      "cell_type": "markdown",
      "metadata": {
        "id": "KkqlbEEvsHuw"
      },
      "source": [
        "# Recommendation Systems"
      ]
    },
    {
      "cell_type": "markdown",
      "metadata": {
        "id": "JXCjew2ItepU"
      },
      "source": [
        "Companies like Amazon(books, items), Netflix(movies), Google(News,Search), and Pandora/Spotify(music) leverage recommendation systems to help users discover new and relevant items (products, videos, jobs, music), creating a delightful user experience while driving incremental revenue. \n",
        "\n",
        "The need to build robust recommendation systems is extremely important given the huge demand for personalized content of modern consumers.\n"
      ]
    },
    {
      "cell_type": "markdown",
      "metadata": {
        "id": "_lc420j2uhwZ"
      },
      "source": [
        "In this assignment, you will be applying your learning of recommendation systems in this Unit towards building the following four different types of recommendation systems:\n",
        "\n",
        "1.   Global Recommendation Systems (Statistical)   \n",
        "2.   Content-based Recommendation Systems\n",
        "3.   Collaborative Filtering (User-Item) Recommendation Systems\n",
        "4.   Hybrid Recommendation Systems\n",
        "\n",
        "The focus of the mini-project here would be to build a movie recommendation system.\n"
      ]
    },
    {
      "cell_type": "markdown",
      "metadata": {
        "id": "CL3nuM_Kv17_"
      },
      "source": [
        "## 1. Dataset Acquisition\n",
        "\n",
        "Following are the key descriptions of the datasets you will be using. The data used here has been compiled from various movie datasets like Netflix and IMDb.\n",
        "\n",
        "1. __Filename: `movie_titles.csv`:__\n",
        "\n",
        "  - __`MovieID`__: MovieID does not correspond to actual Netflix movie ids or IMDB movie ids\n",
        "  - __`YearOfRelease`__: YearOfRelease can range from 1890 to 2005 and may correspond to the release of corresponding DVD, not necessarily its theaterical release\n",
        "  - __`Title`__: Title is the Netflix movie title and may not correspond to titles used on other sites. Titles are in English\n",
        "\n",
        "\n",
        "2. __Combined User-Ratings Dataset Description - `combined_data.csv`:__\n",
        "\n",
        "  - The first line of the contains the movie id followed by a colon.    \n",
        "  - Each subsequent line in the file corresponds to a rating from a customer and its date in the following format:\n",
        "\n",
        "    - MovieIDs range from 1 to 17770 sequentially.\n",
        "    - CustomerIDs range from 1 to 2649429, with gaps. There are 480189 users. \n",
        "    - Ratings are on a five star (integral) scale from 1 to 5.\n",
        "    - Dates have the format YYYY-MM-DD.\n",
        "\n",
        "\n",
        "3. __Filename: `movies_metadata.csv`__\n",
        "\n",
        "The main Movies Metadata file. Contains information on 45,000 movies featured in the Full MovieLens dataset. Features include posters, backdrops, budget, revenue, release dates, languages, production countries and companies.\n"
      ]
    },
    {
      "cell_type": "markdown",
      "metadata": {
        "id": "aaic3a2Cw0T5"
      },
      "source": [
        "## 2: Import Necessary Dependencies\n",
        "\n",
        "We will be leveraging __`keras`__ on top of __`tensorflow`__ for building some of the collaborative filtering and hybrid models. There are compatibility issues with handling sparse layers with dense layers till now in TensorFlow 2 hence we are leveraging native Keras but in the long run once this issue is resolved we can leverage __`tf.keras`__ with minimal code updates."
      ]
    },
    {
      "cell_type": "code",
      "execution_count": 1,
      "metadata": {
        "id": "iX9t8rYaxVGh"
      },
      "outputs": [],
      "source": [
        "# filter out unncessary warnings\n",
        "import warnings\n",
        "warnings.filterwarnings('ignore')"
      ]
    },
    {
      "cell_type": "code",
      "execution_count": 2,
      "metadata": {
        "id": "JGWCPwAiP7vv"
      },
      "outputs": [],
      "source": [
        "# To store\\load the data\n",
        "import pandas as pd\n",
        "\n",
        "# To do linear algebra\n",
        "import numpy as np\n",
        "\n",
        "# To create plots\n",
        "import matplotlib.pyplot as plt\n",
        "import seaborn as sns\n",
        "\n",
        "\n",
        "# To compute similarities between vectors\n",
        "from sklearn.metrics import mean_squared_error\n",
        "from sklearn.metrics.pairwise import cosine_similarity\n",
        "from sklearn.feature_extraction.text import TfidfVectorizer\n",
        "\n",
        "# data load progress bars\n",
        "from tqdm import tqdm\n",
        "\n",
        "from collections import deque\n",
        "\n",
        "# To create deep learning models\n",
        "import tensorflow as tf\n",
        "import keras\n",
        "from keras.layers import Input, Embedding, Reshape, Dot, Concatenate, Dense, Dropout\n",
        "from keras.models import Model\n",
        "\n",
        "# To stack sparse matrices\n",
        "from scipy.sparse import vstack"
      ]
    },
    {
      "cell_type": "code",
      "execution_count": 3,
      "metadata": {
        "id": "whZc1FgzyPyY"
      },
      "outputs": [],
      "source": [
        "# remove unnecessary TF logs\n",
        "import logging\n",
        "tf.get_logger().setLevel(logging.ERROR)"
      ]
    },
    {
      "cell_type": "code",
      "execution_count": 4,
      "metadata": {
        "colab": {
          "base_uri": "https://localhost:8080/"
        },
        "id": "Ce2tjPHPzWFd",
        "outputId": "59940144-b8ef-44f3-cdea-0da63613273c"
      },
      "outputs": [
        {
          "output_type": "stream",
          "name": "stdout",
          "text": [
            "TF Version: 2.12.0\n",
            "Keras Version: 2.12.0\n"
          ]
        }
      ],
      "source": [
        "# check keras and TF version used\n",
        "print('TF Version:', tf.__version__)\n",
        "print('Keras Version:', keras.__version__)\n",
        "# TF Version: 1.15.0\n",
        "# Keras Version: 2.2.5"
      ]
    },
    {
      "cell_type": "markdown",
      "metadata": {
        "id": "lXXYudDD0Coy"
      },
      "source": [
        "Let's start loading data that will be used for building the recommendation systems"
      ]
    },
    {
      "cell_type": "markdown",
      "metadata": {
        "id": "6FJZmUvExOYt"
      },
      "source": [
        "# 3. Load Datasets"
      ]
    },
    {
      "cell_type": "markdown",
      "metadata": {
        "id": "AnAU78S7xz-H"
      },
      "source": [
        "## 3.1: Load Movie Metadata Datasets\n",
        "\n",
        "First, we will load the movie_titles.csv data from the Netflix prize data source"
      ]
    },
    {
      "cell_type": "code",
      "source": [
        "import os\n",
        "from google.colab import drive\n",
        "\n",
        "GD_PATH = '/content/drive'\n",
        "\n",
        "if os.path.exists(GD_PATH) :\n",
        "  print ('Google drive has mounted.')\n",
        "else : \n",
        "  drive.mount(GD_PATH)\n",
        "\n",
        "MYDRIVE_PATH = os.path.join(GD_PATH, 'MyDrive')\n",
        "# Path to cell images\n",
        "PRJ_PATH = os.path.join(MYDRIVE_PATH, 'mec-17.4.1-recommendation-systems-mini-project')"
      ],
      "metadata": {
        "colab": {
          "base_uri": "https://localhost:8080/"
        },
        "id": "r52frijxibUe",
        "outputId": "3c723c7a-f5b7-40d9-bb9d-0dfb6fa29288"
      },
      "execution_count": 5,
      "outputs": [
        {
          "output_type": "stream",
          "name": "stdout",
          "text": [
            "Mounted at /content/drive\n"
          ]
        }
      ]
    },
    {
      "cell_type": "code",
      "execution_count": 35,
      "metadata": {
        "colab": {
          "base_uri": "https://localhost:8080/",
          "height": 255
        },
        "id": "tgD9whbBfcWW",
        "outputId": "7dfac2b1-e2d8-4cd0-e270-6ba721577d71"
      },
      "outputs": [
        {
          "output_type": "stream",
          "name": "stdout",
          "text": [
            "Shape Movie-Titles:\t(17434, 2)\n"
          ]
        },
        {
          "output_type": "execute_result",
          "data": {
            "text/plain": [
              "         Year                                      Name\n",
              "Id                                                     \n",
              "4339   2000.0                     Shadow of the Vampire\n",
              "9166   1997.0            Cheap Trick: Live in Australia\n",
              "15143  1986.0                        MacGyver: Season 2\n",
              "6511   1938.0  The Three Stooges: Stooged and Confoosed\n",
              "10148  2000.0                                 Va Savoir"
            ],
            "text/html": [
              "\n",
              "  <div id=\"df-476ad082-da1b-4b0c-a6e6-5e86004d5fa2\">\n",
              "    <div class=\"colab-df-container\">\n",
              "      <div>\n",
              "<style scoped>\n",
              "    .dataframe tbody tr th:only-of-type {\n",
              "        vertical-align: middle;\n",
              "    }\n",
              "\n",
              "    .dataframe tbody tr th {\n",
              "        vertical-align: top;\n",
              "    }\n",
              "\n",
              "    .dataframe thead th {\n",
              "        text-align: right;\n",
              "    }\n",
              "</style>\n",
              "<table border=\"1\" class=\"dataframe\">\n",
              "  <thead>\n",
              "    <tr style=\"text-align: right;\">\n",
              "      <th></th>\n",
              "      <th>Year</th>\n",
              "      <th>Name</th>\n",
              "    </tr>\n",
              "    <tr>\n",
              "      <th>Id</th>\n",
              "      <th></th>\n",
              "      <th></th>\n",
              "    </tr>\n",
              "  </thead>\n",
              "  <tbody>\n",
              "    <tr>\n",
              "      <th>4339</th>\n",
              "      <td>2000.0</td>\n",
              "      <td>Shadow of the Vampire</td>\n",
              "    </tr>\n",
              "    <tr>\n",
              "      <th>9166</th>\n",
              "      <td>1997.0</td>\n",
              "      <td>Cheap Trick: Live in Australia</td>\n",
              "    </tr>\n",
              "    <tr>\n",
              "      <th>15143</th>\n",
              "      <td>1986.0</td>\n",
              "      <td>MacGyver: Season 2</td>\n",
              "    </tr>\n",
              "    <tr>\n",
              "      <th>6511</th>\n",
              "      <td>1938.0</td>\n",
              "      <td>The Three Stooges: Stooged and Confoosed</td>\n",
              "    </tr>\n",
              "    <tr>\n",
              "      <th>10148</th>\n",
              "      <td>2000.0</td>\n",
              "      <td>Va Savoir</td>\n",
              "    </tr>\n",
              "  </tbody>\n",
              "</table>\n",
              "</div>\n",
              "      <button class=\"colab-df-convert\" onclick=\"convertToInteractive('df-476ad082-da1b-4b0c-a6e6-5e86004d5fa2')\"\n",
              "              title=\"Convert this dataframe to an interactive table.\"\n",
              "              style=\"display:none;\">\n",
              "        \n",
              "  <svg xmlns=\"http://www.w3.org/2000/svg\" height=\"24px\"viewBox=\"0 0 24 24\"\n",
              "       width=\"24px\">\n",
              "    <path d=\"M0 0h24v24H0V0z\" fill=\"none\"/>\n",
              "    <path d=\"M18.56 5.44l.94 2.06.94-2.06 2.06-.94-2.06-.94-.94-2.06-.94 2.06-2.06.94zm-11 1L8.5 8.5l.94-2.06 2.06-.94-2.06-.94L8.5 2.5l-.94 2.06-2.06.94zm10 10l.94 2.06.94-2.06 2.06-.94-2.06-.94-.94-2.06-.94 2.06-2.06.94z\"/><path d=\"M17.41 7.96l-1.37-1.37c-.4-.4-.92-.59-1.43-.59-.52 0-1.04.2-1.43.59L10.3 9.45l-7.72 7.72c-.78.78-.78 2.05 0 2.83L4 21.41c.39.39.9.59 1.41.59.51 0 1.02-.2 1.41-.59l7.78-7.78 2.81-2.81c.8-.78.8-2.07 0-2.86zM5.41 20L4 18.59l7.72-7.72 1.47 1.35L5.41 20z\"/>\n",
              "  </svg>\n",
              "      </button>\n",
              "      \n",
              "  <style>\n",
              "    .colab-df-container {\n",
              "      display:flex;\n",
              "      flex-wrap:wrap;\n",
              "      gap: 12px;\n",
              "    }\n",
              "\n",
              "    .colab-df-convert {\n",
              "      background-color: #E8F0FE;\n",
              "      border: none;\n",
              "      border-radius: 50%;\n",
              "      cursor: pointer;\n",
              "      display: none;\n",
              "      fill: #1967D2;\n",
              "      height: 32px;\n",
              "      padding: 0 0 0 0;\n",
              "      width: 32px;\n",
              "    }\n",
              "\n",
              "    .colab-df-convert:hover {\n",
              "      background-color: #E2EBFA;\n",
              "      box-shadow: 0px 1px 2px rgba(60, 64, 67, 0.3), 0px 1px 3px 1px rgba(60, 64, 67, 0.15);\n",
              "      fill: #174EA6;\n",
              "    }\n",
              "\n",
              "    [theme=dark] .colab-df-convert {\n",
              "      background-color: #3B4455;\n",
              "      fill: #D2E3FC;\n",
              "    }\n",
              "\n",
              "    [theme=dark] .colab-df-convert:hover {\n",
              "      background-color: #434B5C;\n",
              "      box-shadow: 0px 1px 3px 1px rgba(0, 0, 0, 0.15);\n",
              "      filter: drop-shadow(0px 1px 2px rgba(0, 0, 0, 0.3));\n",
              "      fill: #FFFFFF;\n",
              "    }\n",
              "  </style>\n",
              "\n",
              "      <script>\n",
              "        const buttonEl =\n",
              "          document.querySelector('#df-476ad082-da1b-4b0c-a6e6-5e86004d5fa2 button.colab-df-convert');\n",
              "        buttonEl.style.display =\n",
              "          google.colab.kernel.accessAllowed ? 'block' : 'none';\n",
              "\n",
              "        async function convertToInteractive(key) {\n",
              "          const element = document.querySelector('#df-476ad082-da1b-4b0c-a6e6-5e86004d5fa2');\n",
              "          const dataTable =\n",
              "            await google.colab.kernel.invokeFunction('convertToInteractive',\n",
              "                                                     [key], {});\n",
              "          if (!dataTable) return;\n",
              "\n",
              "          const docLinkHtml = 'Like what you see? Visit the ' +\n",
              "            '<a target=\"_blank\" href=https://colab.research.google.com/notebooks/data_table.ipynb>data table notebook</a>'\n",
              "            + ' to learn more about interactive tables.';\n",
              "          element.innerHTML = '';\n",
              "          dataTable['output_type'] = 'display_data';\n",
              "          await google.colab.output.renderOutput(dataTable, element);\n",
              "          const docLink = document.createElement('div');\n",
              "          docLink.innerHTML = docLinkHtml;\n",
              "          element.appendChild(docLink);\n",
              "        }\n",
              "      </script>\n",
              "    </div>\n",
              "  </div>\n",
              "  "
            ]
          },
          "metadata": {},
          "execution_count": 35
        }
      ],
      "source": [
        "# Load data for all movies\n",
        "movie_titles = pd.read_csv(os.path.join(PRJ_PATH, 'data', 'movie_titles.csv.zip'),\n",
        "                           encoding = 'ISO-8859-1',\n",
        "                           header = None,\n",
        "                           names = ['Id', 'Year', 'Name'],\n",
        "                           on_bad_lines='skip').set_index('Id')\n",
        "\n",
        "print('Shape Movie-Titles:\\t{}'.format(movie_titles.shape))\n",
        "movie_titles.sample(5)"
      ]
    },
    {
      "cell_type": "markdown",
      "metadata": {
        "id": "SYafEzcYxa09"
      },
      "source": [
        "There are approximately 18000 movies in the ratings dataset and the metadata information includes the year of release and movie title"
      ]
    },
    {
      "cell_type": "markdown",
      "metadata": {
        "id": "aE4QaObcyAup"
      },
      "source": [
        "Next, we will load the movie_metadata.csv from The movies dataset source. This is to get the metadata information like description etc. related to each movie."
      ]
    },
    {
      "cell_type": "code",
      "execution_count": 7,
      "metadata": {
        "colab": {
          "base_uri": "https://localhost:8080/",
          "height": 255
        },
        "id": "WWig4ePBqGSD",
        "outputId": "27691a0c-75b4-45fc-fc3b-cbd1c94d78ae"
      },
      "outputs": [
        {
          "output_type": "stream",
          "name": "stdout",
          "text": [
            "Shape Movie-Metadata:\t(21604, 1)\n"
          ]
        },
        {
          "output_type": "execute_result",
          "data": {
            "text/plain": [
              "                                                                                            overview\n",
              "original_title                                                                                      \n",
              "Drowning by Numbers                                An ironic black comedy of love and death that ...\n",
              "Princess                                           The story of August who loses his beloved sist...\n",
              "Debug                                              Six young computer hackers sent to work on a d...\n",
              "Agnes of God                                       When a dead newborn is found, wrapped in blood...\n",
              "Michael Jackson Dangerous Tour - Bucharest - 1992  Michael Jackson's Dangerous Tour Live in Bucha..."
            ],
            "text/html": [
              "\n",
              "  <div id=\"df-4f22deb8-72c0-454a-a4d7-4e0e089b2e44\">\n",
              "    <div class=\"colab-df-container\">\n",
              "      <div>\n",
              "<style scoped>\n",
              "    .dataframe tbody tr th:only-of-type {\n",
              "        vertical-align: middle;\n",
              "    }\n",
              "\n",
              "    .dataframe tbody tr th {\n",
              "        vertical-align: top;\n",
              "    }\n",
              "\n",
              "    .dataframe thead th {\n",
              "        text-align: right;\n",
              "    }\n",
              "</style>\n",
              "<table border=\"1\" class=\"dataframe\">\n",
              "  <thead>\n",
              "    <tr style=\"text-align: right;\">\n",
              "      <th></th>\n",
              "      <th>overview</th>\n",
              "    </tr>\n",
              "    <tr>\n",
              "      <th>original_title</th>\n",
              "      <th></th>\n",
              "    </tr>\n",
              "  </thead>\n",
              "  <tbody>\n",
              "    <tr>\n",
              "      <th>Drowning by Numbers</th>\n",
              "      <td>An ironic black comedy of love and death that ...</td>\n",
              "    </tr>\n",
              "    <tr>\n",
              "      <th>Princess</th>\n",
              "      <td>The story of August who loses his beloved sist...</td>\n",
              "    </tr>\n",
              "    <tr>\n",
              "      <th>Debug</th>\n",
              "      <td>Six young computer hackers sent to work on a d...</td>\n",
              "    </tr>\n",
              "    <tr>\n",
              "      <th>Agnes of God</th>\n",
              "      <td>When a dead newborn is found, wrapped in blood...</td>\n",
              "    </tr>\n",
              "    <tr>\n",
              "      <th>Michael Jackson Dangerous Tour - Bucharest - 1992</th>\n",
              "      <td>Michael Jackson's Dangerous Tour Live in Bucha...</td>\n",
              "    </tr>\n",
              "  </tbody>\n",
              "</table>\n",
              "</div>\n",
              "      <button class=\"colab-df-convert\" onclick=\"convertToInteractive('df-4f22deb8-72c0-454a-a4d7-4e0e089b2e44')\"\n",
              "              title=\"Convert this dataframe to an interactive table.\"\n",
              "              style=\"display:none;\">\n",
              "        \n",
              "  <svg xmlns=\"http://www.w3.org/2000/svg\" height=\"24px\"viewBox=\"0 0 24 24\"\n",
              "       width=\"24px\">\n",
              "    <path d=\"M0 0h24v24H0V0z\" fill=\"none\"/>\n",
              "    <path d=\"M18.56 5.44l.94 2.06.94-2.06 2.06-.94-2.06-.94-.94-2.06-.94 2.06-2.06.94zm-11 1L8.5 8.5l.94-2.06 2.06-.94-2.06-.94L8.5 2.5l-.94 2.06-2.06.94zm10 10l.94 2.06.94-2.06 2.06-.94-2.06-.94-.94-2.06-.94 2.06-2.06.94z\"/><path d=\"M17.41 7.96l-1.37-1.37c-.4-.4-.92-.59-1.43-.59-.52 0-1.04.2-1.43.59L10.3 9.45l-7.72 7.72c-.78.78-.78 2.05 0 2.83L4 21.41c.39.39.9.59 1.41.59.51 0 1.02-.2 1.41-.59l7.78-7.78 2.81-2.81c.8-.78.8-2.07 0-2.86zM5.41 20L4 18.59l7.72-7.72 1.47 1.35L5.41 20z\"/>\n",
              "  </svg>\n",
              "      </button>\n",
              "      \n",
              "  <style>\n",
              "    .colab-df-container {\n",
              "      display:flex;\n",
              "      flex-wrap:wrap;\n",
              "      gap: 12px;\n",
              "    }\n",
              "\n",
              "    .colab-df-convert {\n",
              "      background-color: #E8F0FE;\n",
              "      border: none;\n",
              "      border-radius: 50%;\n",
              "      cursor: pointer;\n",
              "      display: none;\n",
              "      fill: #1967D2;\n",
              "      height: 32px;\n",
              "      padding: 0 0 0 0;\n",
              "      width: 32px;\n",
              "    }\n",
              "\n",
              "    .colab-df-convert:hover {\n",
              "      background-color: #E2EBFA;\n",
              "      box-shadow: 0px 1px 2px rgba(60, 64, 67, 0.3), 0px 1px 3px 1px rgba(60, 64, 67, 0.15);\n",
              "      fill: #174EA6;\n",
              "    }\n",
              "\n",
              "    [theme=dark] .colab-df-convert {\n",
              "      background-color: #3B4455;\n",
              "      fill: #D2E3FC;\n",
              "    }\n",
              "\n",
              "    [theme=dark] .colab-df-convert:hover {\n",
              "      background-color: #434B5C;\n",
              "      box-shadow: 0px 1px 3px 1px rgba(0, 0, 0, 0.15);\n",
              "      filter: drop-shadow(0px 1px 2px rgba(0, 0, 0, 0.3));\n",
              "      fill: #FFFFFF;\n",
              "    }\n",
              "  </style>\n",
              "\n",
              "      <script>\n",
              "        const buttonEl =\n",
              "          document.querySelector('#df-4f22deb8-72c0-454a-a4d7-4e0e089b2e44 button.colab-df-convert');\n",
              "        buttonEl.style.display =\n",
              "          google.colab.kernel.accessAllowed ? 'block' : 'none';\n",
              "\n",
              "        async function convertToInteractive(key) {\n",
              "          const element = document.querySelector('#df-4f22deb8-72c0-454a-a4d7-4e0e089b2e44');\n",
              "          const dataTable =\n",
              "            await google.colab.kernel.invokeFunction('convertToInteractive',\n",
              "                                                     [key], {});\n",
              "          if (!dataTable) return;\n",
              "\n",
              "          const docLinkHtml = 'Like what you see? Visit the ' +\n",
              "            '<a target=\"_blank\" href=https://colab.research.google.com/notebooks/data_table.ipynb>data table notebook</a>'\n",
              "            + ' to learn more about interactive tables.';\n",
              "          element.innerHTML = '';\n",
              "          dataTable['output_type'] = 'display_data';\n",
              "          await google.colab.output.renderOutput(dataTable, element);\n",
              "          const docLink = document.createElement('div');\n",
              "          docLink.innerHTML = docLinkHtml;\n",
              "          element.appendChild(docLink);\n",
              "        }\n",
              "      </script>\n",
              "    </div>\n",
              "  </div>\n",
              "  "
            ]
          },
          "metadata": {},
          "execution_count": 7
        }
      ],
      "source": [
        "# Load a movie metadata dataset\n",
        "movie_metadata = (pd.read_csv(os.path.join(PRJ_PATH, 'data', 'movies_metadata.csv.zip'), \n",
        "                              low_memory=False)[['original_title', 'overview', 'vote_count']]\n",
        "                    .set_index('original_title')\n",
        "                    .dropna())\n",
        "\n",
        "# Remove the long tail of rarly rated moves\n",
        "movie_metadata = movie_metadata[movie_metadata['vote_count']>10].drop('vote_count', axis=1)\n",
        "\n",
        "print('Shape Movie-Metadata:\\t{}'.format(movie_metadata.shape))\n",
        "movie_metadata.sample(5)"
      ]
    },
    {
      "cell_type": "markdown",
      "metadata": {
        "id": "dElmRUSWyYoh"
      },
      "source": [
        "Around 21,000 entries in the movies metadata dataset"
      ]
    },
    {
      "cell_type": "markdown",
      "metadata": {
        "id": "XJ3cHW1eyhwR"
      },
      "source": [
        "## 3.2: Load User-Movie-Rating Dataset"
      ]
    },
    {
      "cell_type": "code",
      "execution_count": null,
      "metadata": {
        "colab": {
          "base_uri": "https://localhost:8080/"
        },
        "id": "P4vok5OleCy6",
        "outputId": "71826312-786a-46fa-ae7a-3309149cf0e2"
      },
      "outputs": [
        {
          "output_type": "stream",
          "name": "stdout",
          "text": [
            "Looking in indexes: https://pypi.org/simple, https://us-python.pkg.dev/colab-wheels/public/simple/\n",
            "Requirement already satisfied: gdown in /usr/local/lib/python3.10/dist-packages (4.6.6)\n",
            "Requirement already satisfied: filelock in /usr/local/lib/python3.10/dist-packages (from gdown) (3.12.0)\n",
            "Requirement already satisfied: requests[socks] in /usr/local/lib/python3.10/dist-packages (from gdown) (2.27.1)\n",
            "Requirement already satisfied: six in /usr/local/lib/python3.10/dist-packages (from gdown) (1.16.0)\n",
            "Requirement already satisfied: tqdm in /usr/local/lib/python3.10/dist-packages (from gdown) (4.65.0)\n",
            "Requirement already satisfied: beautifulsoup4 in /usr/local/lib/python3.10/dist-packages (from gdown) (4.11.2)\n",
            "Requirement already satisfied: soupsieve>1.2 in /usr/local/lib/python3.10/dist-packages (from beautifulsoup4->gdown) (2.4.1)\n",
            "Requirement already satisfied: urllib3<1.27,>=1.21.1 in /usr/local/lib/python3.10/dist-packages (from requests[socks]->gdown) (1.26.15)\n",
            "Requirement already satisfied: certifi>=2017.4.17 in /usr/local/lib/python3.10/dist-packages (from requests[socks]->gdown) (2022.12.7)\n",
            "Requirement already satisfied: charset-normalizer~=2.0.0 in /usr/local/lib/python3.10/dist-packages (from requests[socks]->gdown) (2.0.12)\n",
            "Requirement already satisfied: idna<4,>=2.5 in /usr/local/lib/python3.10/dist-packages (from requests[socks]->gdown) (3.4)\n",
            "Requirement already satisfied: PySocks!=1.5.7,>=1.5.6 in /usr/local/lib/python3.10/dist-packages (from requests[socks]->gdown) (1.7.1)\n",
            "Downloading...\n",
            "From: https://drive.google.com/uc?export=download&id=1z0O0fXuofdsbpL8fkCVgjeIwFP_LxGX2\n",
            "To: /content/drive/MyDrive/mec-17.4.1-recommendation-systems-mini-project/data/combined_data.csv.zip\n",
            "100% 161M/161M [00:03<00:00, 53.3MB/s]\n"
          ]
        }
      ],
      "source": [
        "# Dowload large file from the shared GDrive folder\n",
        "!pip install gdown\n",
        "!gdown \"https://drive.google.com/uc?export=download&id=1z0O0fXuofdsbpL8fkCVgjeIwFP_LxGX2\" -O /content/drive/MyDrive/mec-17.4.1-recommendation-systems-mini-project/data/\n"
      ]
    },
    {
      "cell_type": "code",
      "execution_count": 8,
      "metadata": {
        "colab": {
          "base_uri": "https://localhost:8080/",
          "height": 380
        },
        "id": "4s_qbrIhqW31",
        "outputId": "9fac03a6-f96a-452b-dcd3-abc3145a75eb"
      },
      "outputs": [
        {
          "output_type": "stream",
          "name": "stdout",
          "text": [
            "Shape User-Ratings:\t(24053764, 4)\n"
          ]
        },
        {
          "output_type": "execute_result",
          "data": {
            "text/plain": [
              "             User  Rating        Date  Movie\n",
              "21362303   621691     3.0  2005-06-01   3970\n",
              "11229574    10268     2.0  2003-06-25   2153\n",
              "13797920  1482187     5.0  2005-09-27   2638\n",
              "8018636   1115956     2.0  2003-06-04   1611\n",
              "3353417   1916053     4.0  2005-02-17    629\n",
              "18603031   772843     4.0  2005-04-06   3559\n",
              "19414524    31449     4.0  2005-12-07   3689\n",
              "21872572  1631617     3.0  2005-08-05   4123\n",
              "9779074   1769377     5.0  2005-05-05   1905\n",
              "16198569  2110213     4.0  2005-06-08   3148"
            ],
            "text/html": [
              "\n",
              "  <div id=\"df-05350f84-8690-4a77-ba74-375a29dcbd81\">\n",
              "    <div class=\"colab-df-container\">\n",
              "      <div>\n",
              "<style scoped>\n",
              "    .dataframe tbody tr th:only-of-type {\n",
              "        vertical-align: middle;\n",
              "    }\n",
              "\n",
              "    .dataframe tbody tr th {\n",
              "        vertical-align: top;\n",
              "    }\n",
              "\n",
              "    .dataframe thead th {\n",
              "        text-align: right;\n",
              "    }\n",
              "</style>\n",
              "<table border=\"1\" class=\"dataframe\">\n",
              "  <thead>\n",
              "    <tr style=\"text-align: right;\">\n",
              "      <th></th>\n",
              "      <th>User</th>\n",
              "      <th>Rating</th>\n",
              "      <th>Date</th>\n",
              "      <th>Movie</th>\n",
              "    </tr>\n",
              "  </thead>\n",
              "  <tbody>\n",
              "    <tr>\n",
              "      <th>21362303</th>\n",
              "      <td>621691</td>\n",
              "      <td>3.0</td>\n",
              "      <td>2005-06-01</td>\n",
              "      <td>3970</td>\n",
              "    </tr>\n",
              "    <tr>\n",
              "      <th>11229574</th>\n",
              "      <td>10268</td>\n",
              "      <td>2.0</td>\n",
              "      <td>2003-06-25</td>\n",
              "      <td>2153</td>\n",
              "    </tr>\n",
              "    <tr>\n",
              "      <th>13797920</th>\n",
              "      <td>1482187</td>\n",
              "      <td>5.0</td>\n",
              "      <td>2005-09-27</td>\n",
              "      <td>2638</td>\n",
              "    </tr>\n",
              "    <tr>\n",
              "      <th>8018636</th>\n",
              "      <td>1115956</td>\n",
              "      <td>2.0</td>\n",
              "      <td>2003-06-04</td>\n",
              "      <td>1611</td>\n",
              "    </tr>\n",
              "    <tr>\n",
              "      <th>3353417</th>\n",
              "      <td>1916053</td>\n",
              "      <td>4.0</td>\n",
              "      <td>2005-02-17</td>\n",
              "      <td>629</td>\n",
              "    </tr>\n",
              "    <tr>\n",
              "      <th>18603031</th>\n",
              "      <td>772843</td>\n",
              "      <td>4.0</td>\n",
              "      <td>2005-04-06</td>\n",
              "      <td>3559</td>\n",
              "    </tr>\n",
              "    <tr>\n",
              "      <th>19414524</th>\n",
              "      <td>31449</td>\n",
              "      <td>4.0</td>\n",
              "      <td>2005-12-07</td>\n",
              "      <td>3689</td>\n",
              "    </tr>\n",
              "    <tr>\n",
              "      <th>21872572</th>\n",
              "      <td>1631617</td>\n",
              "      <td>3.0</td>\n",
              "      <td>2005-08-05</td>\n",
              "      <td>4123</td>\n",
              "    </tr>\n",
              "    <tr>\n",
              "      <th>9779074</th>\n",
              "      <td>1769377</td>\n",
              "      <td>5.0</td>\n",
              "      <td>2005-05-05</td>\n",
              "      <td>1905</td>\n",
              "    </tr>\n",
              "    <tr>\n",
              "      <th>16198569</th>\n",
              "      <td>2110213</td>\n",
              "      <td>4.0</td>\n",
              "      <td>2005-06-08</td>\n",
              "      <td>3148</td>\n",
              "    </tr>\n",
              "  </tbody>\n",
              "</table>\n",
              "</div>\n",
              "      <button class=\"colab-df-convert\" onclick=\"convertToInteractive('df-05350f84-8690-4a77-ba74-375a29dcbd81')\"\n",
              "              title=\"Convert this dataframe to an interactive table.\"\n",
              "              style=\"display:none;\">\n",
              "        \n",
              "  <svg xmlns=\"http://www.w3.org/2000/svg\" height=\"24px\"viewBox=\"0 0 24 24\"\n",
              "       width=\"24px\">\n",
              "    <path d=\"M0 0h24v24H0V0z\" fill=\"none\"/>\n",
              "    <path d=\"M18.56 5.44l.94 2.06.94-2.06 2.06-.94-2.06-.94-.94-2.06-.94 2.06-2.06.94zm-11 1L8.5 8.5l.94-2.06 2.06-.94-2.06-.94L8.5 2.5l-.94 2.06-2.06.94zm10 10l.94 2.06.94-2.06 2.06-.94-2.06-.94-.94-2.06-.94 2.06-2.06.94z\"/><path d=\"M17.41 7.96l-1.37-1.37c-.4-.4-.92-.59-1.43-.59-.52 0-1.04.2-1.43.59L10.3 9.45l-7.72 7.72c-.78.78-.78 2.05 0 2.83L4 21.41c.39.39.9.59 1.41.59.51 0 1.02-.2 1.41-.59l7.78-7.78 2.81-2.81c.8-.78.8-2.07 0-2.86zM5.41 20L4 18.59l7.72-7.72 1.47 1.35L5.41 20z\"/>\n",
              "  </svg>\n",
              "      </button>\n",
              "      \n",
              "  <style>\n",
              "    .colab-df-container {\n",
              "      display:flex;\n",
              "      flex-wrap:wrap;\n",
              "      gap: 12px;\n",
              "    }\n",
              "\n",
              "    .colab-df-convert {\n",
              "      background-color: #E8F0FE;\n",
              "      border: none;\n",
              "      border-radius: 50%;\n",
              "      cursor: pointer;\n",
              "      display: none;\n",
              "      fill: #1967D2;\n",
              "      height: 32px;\n",
              "      padding: 0 0 0 0;\n",
              "      width: 32px;\n",
              "    }\n",
              "\n",
              "    .colab-df-convert:hover {\n",
              "      background-color: #E2EBFA;\n",
              "      box-shadow: 0px 1px 2px rgba(60, 64, 67, 0.3), 0px 1px 3px 1px rgba(60, 64, 67, 0.15);\n",
              "      fill: #174EA6;\n",
              "    }\n",
              "\n",
              "    [theme=dark] .colab-df-convert {\n",
              "      background-color: #3B4455;\n",
              "      fill: #D2E3FC;\n",
              "    }\n",
              "\n",
              "    [theme=dark] .colab-df-convert:hover {\n",
              "      background-color: #434B5C;\n",
              "      box-shadow: 0px 1px 3px 1px rgba(0, 0, 0, 0.15);\n",
              "      filter: drop-shadow(0px 1px 2px rgba(0, 0, 0, 0.3));\n",
              "      fill: #FFFFFF;\n",
              "    }\n",
              "  </style>\n",
              "\n",
              "      <script>\n",
              "        const buttonEl =\n",
              "          document.querySelector('#df-05350f84-8690-4a77-ba74-375a29dcbd81 button.colab-df-convert');\n",
              "        buttonEl.style.display =\n",
              "          google.colab.kernel.accessAllowed ? 'block' : 'none';\n",
              "\n",
              "        async function convertToInteractive(key) {\n",
              "          const element = document.querySelector('#df-05350f84-8690-4a77-ba74-375a29dcbd81');\n",
              "          const dataTable =\n",
              "            await google.colab.kernel.invokeFunction('convertToInteractive',\n",
              "                                                     [key], {});\n",
              "          if (!dataTable) return;\n",
              "\n",
              "          const docLinkHtml = 'Like what you see? Visit the ' +\n",
              "            '<a target=\"_blank\" href=https://colab.research.google.com/notebooks/data_table.ipynb>data table notebook</a>'\n",
              "            + ' to learn more about interactive tables.';\n",
              "          element.innerHTML = '';\n",
              "          dataTable['output_type'] = 'display_data';\n",
              "          await google.colab.output.renderOutput(dataTable, element);\n",
              "          const docLink = document.createElement('div');\n",
              "          docLink.innerHTML = docLinkHtml;\n",
              "          element.appendChild(docLink);\n",
              "        }\n",
              "      </script>\n",
              "    </div>\n",
              "  </div>\n",
              "  "
            ]
          },
          "metadata": {},
          "execution_count": 8
        }
      ],
      "source": [
        "# Load single data-file\n",
        "df_raw = pd.read_csv(os.path.join(PRJ_PATH, 'data', 'combined_data.csv.zip'), \n",
        "                     header=None, \n",
        "                     names=['User', 'Rating', 'Date'], \n",
        "                     usecols=[0, 1, 2])   \n",
        "\n",
        "# Find empty rows to slice dataframe for each movie\n",
        "tmp_movies = df_raw[df_raw['Rating'].isna()]['User'].reset_index()\n",
        "movie_indices = [[index, int(movie[:-1])] for index, movie in tmp_movies.values]\n",
        "\n",
        "# Shift the movie_indices by one to get start and endpoints of all movies\n",
        "shifted_movie_indices = deque(movie_indices)\n",
        "shifted_movie_indices.rotate(-1)\n",
        "\n",
        "# Gather all dataframes\n",
        "user_data = []\n",
        "\n",
        "# Iterate over all movies\n",
        "for [df_id_1, movie_id], [df_id_2, next_movie_id] in zip(movie_indices, shifted_movie_indices):\n",
        "    \n",
        "    # Check if it is the last movie in the file\n",
        "    if df_id_1<df_id_2:\n",
        "        tmp_df = df_raw.loc[df_id_1+1:df_id_2-1].copy()\n",
        "    else:\n",
        "        tmp_df = df_raw.loc[df_id_1+1:].copy()\n",
        "        \n",
        "    # Create movie_id column\n",
        "    tmp_df['Movie'] = movie_id\n",
        "    \n",
        "    # Append dataframe to list\n",
        "    user_data.append(tmp_df)\n",
        "\n",
        "# Combine all dataframes\n",
        "df = pd.concat(user_data)\n",
        "del user_data, df_raw, tmp_movies, tmp_df, shifted_movie_indices, movie_indices, df_id_1, movie_id, df_id_2, next_movie_id\n",
        "print('Shape User-Ratings:\\t{}'.format(df.shape))\n",
        "df.sample(10)"
      ]
    },
    {
      "cell_type": "markdown",
      "metadata": {
        "id": "xKIrEduYz6gh"
      },
      "source": [
        "We have taken the data required for building the system and now let's do some EDA on the dataset to better understand our data"
      ]
    },
    {
      "cell_type": "markdown",
      "metadata": {
        "id": "4wQzTRdm0tYg"
      },
      "source": [
        "# 4. Exploratory Data Analysis"
      ]
    },
    {
      "cell_type": "markdown",
      "metadata": {
        "id": "KVaYGLc94aGm"
      },
      "source": [
        "## 4.1: When were the movies released?\n"
      ]
    },
    {
      "cell_type": "code",
      "execution_count": 9,
      "metadata": {
        "colab": {
          "base_uri": "https://localhost:8080/",
          "height": 542
        },
        "id": "-iwB_2Cm24FL",
        "outputId": "3d9ddfdd-3936-43f7-d1d2-c28d78bbc2fc"
      },
      "outputs": [
        {
          "output_type": "display_data",
          "data": {
            "text/plain": [
              "<Figure size 1400x600 with 1 Axes>"
            ],
            "image/png": "[encoded data removed]"
          },
          "metadata": {}
        }
      ],
      "source": [
        "fig, ax = plt.subplots(1, 1, figsize=(14, 6))\n",
        "\n",
        "year_counts = pd.DataFrame(movie_titles['Year'].value_counts().sort_index()).reset_index()\n",
        "year_counts = year_counts.rename(columns={'index': 'Year', 'Year': 'Movie counts'})\n",
        "\n",
        "sns.barplot(year_counts, x='Year', y='Movie counts')\n",
        "xmin, xmax = plt.xlim()\n",
        "x = year_counts['Year'].map(int).values\n",
        "xtick_labels = [x[0]] + list(x[10:-10:10]) + [x[-1]]\n",
        "plt.xticks(ticks=np.linspace(xmin, xmax, 10), labels=xtick_labels);"
      ]
    },
    {
      "cell_type": "markdown",
      "metadata": {
        "id": "lJ2mWAym5rBL"
      },
      "source": [
        "Many movies on Netflix have been released in this millennial. Whether Netflix prefers young movies or there are no old movies left can not be deduced from this plot.\n",
        "The decline for the rightmost point is probably caused by an incomplete last year."
      ]
    },
    {
      "cell_type": "markdown",
      "metadata": {
        "id": "QACzcP3w4z6j"
      },
      "source": [
        "## Q 4.2: How are The Ratings Distributed?\n",
        "\n",
        "__Your Turn:__ Build the visualization for rating distributions similar to the previous plot.\n"
      ]
    },
    {
      "cell_type": "code",
      "execution_count": 10,
      "metadata": {
        "colab": {
          "base_uri": "https://localhost:8080/",
          "height": 557
        },
        "id": "16Mvv0w124FP",
        "outputId": "924fa257-b8c5-4a1c-f813-443661026142"
      },
      "outputs": [
        {
          "output_type": "display_data",
          "data": {
            "text/plain": [
              "<Figure size 1400x600 with 1 Axes>"
            ],
            "image/png": "[encoded data removed]"
          },
          "metadata": {}
        }
      ],
      "source": [
        "fig, ax = plt.subplots(1, 1, figsize=(14, 6))\n",
        "\n",
        "tmp_df = pd.DataFrame(df['Rating'].value_counts().sort_index()).reset_index()\n",
        "year_ratings = tmp_df.rename(columns={'index': 'Rating', 'Rating': 'Rating counts'})\n",
        "\n",
        "sns.barplot(year_ratings, x='Rating', y='Rating counts')\n",
        "xmin, xmax = plt.xlim();\n",
        "\n",
        "del tmp_df"
      ]
    },
    {
      "cell_type": "markdown",
      "metadata": {
        "id": "Pn5uhmcu5xCE"
      },
      "source": [
        "Netflix movies rarely have a rating lower than three. Most ratings have between three and four stars.\n",
        "The distribution is probably biased, since only people liking the movies proceed to be customers and others presumably will leave the platform."
      ]
    },
    {
      "cell_type": "markdown",
      "metadata": {
        "id": "PQwkKk935eRl"
      },
      "source": [
        "## 4.3: Visualize the Distribution of Number of Movie Ratings \n",
        "\n",
        "This is to understand how many movies (y-axis) are receiving specific number of movie ratings (x-axis)"
      ]
    },
    {
      "cell_type": "code",
      "execution_count": 11,
      "metadata": {
        "colab": {
          "base_uri": "https://localhost:8080/",
          "height": 542
        },
        "id": "yatEt4eE24FS",
        "outputId": "89e10abf-fad8-4803-f33e-300c0c806f30"
      },
      "outputs": [
        {
          "output_type": "display_data",
          "data": {
            "text/plain": [
              "<Figure size 1400x600 with 2 Axes>"
            ],
            "image/png": "[encoded data removed]"
          },
          "metadata": {}
        }
      ],
      "source": [
        "fig, ax = plt.subplots(1, 2, figsize=(14, 6))\n",
        "\n",
        "data = df.groupby('Movie')['Rating'].count()\n",
        "sns.distplot(data[data  < 10000], kde=False, ax=ax[0]);\n",
        "sns.distplot(data[data  > 10000], kde=False, ax=ax[1]);"
      ]
    },
    {
      "cell_type": "markdown",
      "metadata": {
        "id": "lS5we5r4-nyV"
      },
      "source": [
        "## Q 4.4: Visualize the Distribution of Number of User Ratings \n",
        "\n",
        "This is to understand how many users (y-axis) are giving specific number of movie ratings (x-axis)\n",
        "\n",
        "__Your Turn:__ Try to find out an optimal threshold as in the previous example to split the data to form two understandable subplots!"
      ]
    },
    {
      "cell_type": "code",
      "execution_count": 14,
      "metadata": {
        "id": "hf-Q6jP-24FV",
        "colab": {
          "base_uri": "https://localhost:8080/",
          "height": 542
        },
        "outputId": "1d804dd4-a890-4e45-d24b-bb4fa4365e10"
      },
      "outputs": [
        {
          "output_type": "display_data",
          "data": {
            "text/plain": [
              "<Figure size 1400x600 with 2 Axes>"
            ],
            "image/png": "[encoded data removed]"
          },
          "metadata": {}
        }
      ],
      "source": [
        "fig, ax = plt.subplots(1, 2, figsize=(14, 6))\n",
        "\n",
        "data = df.groupby('User')['Rating'].count()\n",
        "sns.distplot(data[data  < 500], kde=False, ax=ax[0]);\n",
        "sns.distplot(data[data  > 500], kde=False, ax=ax[1]);"
      ]
    },
    {
      "cell_type": "markdown",
      "metadata": {
        "id": "EMOY1tG75i24"
      },
      "source": [
        "The ratings per movie as well as the ratings per user both have nearly a perfect exponential decay. Only very few movies/users have many ratings."
      ]
    },
    {
      "cell_type": "markdown",
      "metadata": {
        "id": "p5S7Q14L_CL1"
      },
      "source": [
        "# 5. Dimensionality Reduction & Filtering"
      ]
    },
    {
      "cell_type": "markdown",
      "metadata": {
        "id": "h5YZwbcH7LzU"
      },
      "source": [
        "## Filter Sparse Movies And Users\n",
        "\n",
        "To reduce the dimensionality of the dataset I am filtering rarely rated movies and rarely rating users out.\n"
      ]
    },
    {
      "cell_type": "code",
      "execution_count": 15,
      "metadata": {
        "id": "4nwtEkvSFFK5",
        "colab": {
          "base_uri": "https://localhost:8080/"
        },
        "outputId": "16fef16b-c8ba-4a03-a6c9-0cb7e4334606"
      },
      "outputs": [
        {
          "output_type": "stream",
          "name": "stdout",
          "text": [
            "Shape User-Ratings unfiltered:\t(24053764, 4)\n",
            "Shape User-Ratings filtered:\t(5930581, 4)\n"
          ]
        }
      ],
      "source": [
        "# Filter sparse movies\n",
        "min_movie_ratings = 1000\n",
        "filter_movies = (df['Movie'].value_counts()>min_movie_ratings)\n",
        "filter_movies = filter_movies[filter_movies].index.tolist()\n",
        "\n",
        "# Filter sparse users\n",
        "min_user_ratings = 200\n",
        "filter_users = (df['User'].value_counts()>min_user_ratings)\n",
        "filter_users = filter_users[filter_users].index.tolist()\n",
        "\n",
        "# Actual filtering\n",
        "df_filtered = df[(df['Movie'].isin(filter_movies)) & (df['User'].isin(filter_users))]\n",
        "del filter_movies, filter_users, min_movie_ratings, min_user_ratings\n",
        "print('Shape User-Ratings unfiltered:\\t{}'.format(df.shape))\n",
        "print('Shape User-Ratings filtered:\\t{}'.format(df_filtered.shape))"
      ]
    },
    {
      "cell_type": "markdown",
      "metadata": {
        "id": "9GQ4JmM67TYQ"
      },
      "source": [
        "After filtering sparse movies and users about 5.9M rating records are present."
      ]
    },
    {
      "cell_type": "markdown",
      "metadata": {
        "id": "EI1CoJP9_kbF"
      },
      "source": [
        "# 6. Create Train and Test Datasets\n",
        "\n",
        "Do note this will be used for the statistical method based models and collaborative filtering.\n",
        "\n",
        "For content based filtering it is more of a model which recommends movies rather than predicting ratings and for the hybrid model we will need to recreate the train and test datasets later since we need to create a subset of movies-users-ratings which have movie text descriptions."
      ]
    },
    {
      "cell_type": "markdown",
      "metadata": {
        "id": "G7LX0sob7a2Z"
      },
      "source": [
        "## Create Train and Test datasets"
      ]
    },
    {
      "cell_type": "code",
      "execution_count": 16,
      "metadata": {
        "id": "cyCrLAoFFHm4",
        "colab": {
          "base_uri": "https://localhost:8080/"
        },
        "outputId": "70aa4110-0b33-4aef-f8fa-0e877c16a1e1"
      },
      "outputs": [
        {
          "output_type": "execute_result",
          "data": {
            "text/plain": [
              "((5830581, 3), (100000, 3))"
            ]
          },
          "metadata": {},
          "execution_count": 16
        }
      ],
      "source": [
        "# Shuffle DataFrame\n",
        "df_filtered = df_filtered.drop('Date', axis=1).sample(frac=1).reset_index(drop=True)\n",
        "\n",
        "# Testingsize\n",
        "n = 100000\n",
        "\n",
        "# Split train- & testset\n",
        "df_train = df_filtered[:-n]\n",
        "df_test = df_filtered[-n:]\n",
        "df_train.shape, df_test.shape"
      ]
    },
    {
      "cell_type": "markdown",
      "metadata": {
        "id": "JjQjPE9-76iP"
      },
      "source": [
        "The train set will be used to train all models and the test set ensures we can compare model performance on unseen data using the RMSE metric."
      ]
    },
    {
      "cell_type": "markdown",
      "metadata": {
        "id": "ufn47cGh_wNC"
      },
      "source": [
        "# 7. Transformation"
      ]
    },
    {
      "cell_type": "markdown",
      "metadata": {
        "id": "mWkzhX-a792R"
      },
      "source": [
        "### Q 7.1: Transform The User-Movie-Ratings Data Frame to User-Movie Matrix"
      ]
    },
    {
      "cell_type": "markdown",
      "metadata": {
        "id": "qDeuv70i8NMQ"
      },
      "source": [
        "A large, sparse matrix will be created in this step. Each row will represent a user and its ratings and the columns are the movies.\n",
        "\n",
        "The movies already rated by users are the non-empty values in the matrix.\n",
        "\n",
        "Empty values are unrated movies and the main objective is to estimate the empty values to help our users.\n",
        "\n",
        "\n",
        "__Your turn:__ Create the User-Movie matrix leveraging the __`pivot_table()`__ function from pandas.\n",
        "\n",
        "Fill in the blanks in the code below by referencing the __`pivot_table()`__ function and invoking it on __`df_train`__. Feel free to check out the documentation.\n",
        "\n",
        "Remember, rows should be users, columns should be movies and the values in the matrix should be the movie ratings. All these should be available in the __`df_train`__ dataframe."
      ]
    },
    {
      "cell_type": "code",
      "execution_count": 19,
      "metadata": {
        "id": "_ieAea92FJye",
        "colab": {
          "base_uri": "https://localhost:8080/",
          "height": 441
        },
        "outputId": "af4d6bdb-9ab7-4d78-b44d-7386b5779490"
      },
      "outputs": [
        {
          "output_type": "stream",
          "name": "stdout",
          "text": [
            "Shape User-Movie-Matrix:\t(20828, 1741)\n"
          ]
        },
        {
          "output_type": "execute_result",
          "data": {
            "text/plain": [
              "Movie    3     5     6     8     16    17    18    24    25    26    ...  \\\n",
              "User                                                                 ...   \n",
              "1000079   NaN   NaN   NaN   NaN   NaN   NaN   NaN   NaN   NaN   NaN  ...   \n",
              "1000192   NaN   NaN   NaN   NaN   NaN   NaN   NaN   NaN   NaN   NaN  ...   \n",
              "1000301   NaN   NaN   NaN   NaN   NaN   NaN   4.0   NaN   NaN   NaN  ...   \n",
              "1000387   NaN   NaN   NaN   NaN   NaN   NaN   NaN   NaN   NaN   NaN  ...   \n",
              "1000410   NaN   NaN   NaN   NaN   NaN   NaN   4.0   NaN   NaN   NaN  ...   \n",
              "1000527   NaN   NaN   NaN   NaN   NaN   NaN   NaN   NaN   NaN   NaN  ...   \n",
              "1000596   NaN   NaN   NaN   NaN   NaN   NaN   NaN   2.0   NaN   NaN  ...   \n",
              "1000634   NaN   NaN   NaN   NaN   3.0   NaN   NaN   NaN   NaN   NaN  ...   \n",
              "1000710   NaN   NaN   NaN   NaN   NaN   NaN   NaN   NaN   NaN   NaN  ...   \n",
              "1000779   NaN   NaN   NaN   NaN   NaN   NaN   NaN   NaN   NaN   NaN  ...   \n",
              "\n",
              "Movie    4482  4483  4484  4485  4488  4489  4490  4492  4493  4496  \n",
              "User                                                                 \n",
              "1000079   NaN   NaN   NaN   NaN   2.0   NaN   NaN   NaN   NaN   NaN  \n",
              "1000192   NaN   NaN   NaN   NaN   NaN   NaN   NaN   NaN   NaN   NaN  \n",
              "1000301   NaN   NaN   NaN   NaN   4.0   NaN   NaN   NaN   NaN   NaN  \n",
              "1000387   NaN   NaN   NaN   1.0   2.0   NaN   NaN   1.0   NaN   NaN  \n",
              "1000410   NaN   NaN   NaN   NaN   3.0   NaN   3.0   NaN   NaN   3.0  \n",
              "1000527   NaN   NaN   NaN   NaN   NaN   NaN   NaN   NaN   3.0   NaN  \n",
              "1000596   NaN   NaN   NaN   NaN   NaN   NaN   NaN   NaN   NaN   NaN  \n",
              "1000634   NaN   NaN   NaN   NaN   4.0   NaN   NaN   4.0   NaN   NaN  \n",
              "1000710   NaN   NaN   NaN   NaN   NaN   NaN   NaN   NaN   NaN   NaN  \n",
              "1000779   NaN   NaN   NaN   NaN   NaN   NaN   NaN   NaN   NaN   4.0  \n",
              "\n",
              "[10 rows x 1741 columns]"
            ],
            "text/html": [
              "\n",
              "  <div id=\"df-c5654452-cd02-4f14-9bed-0f5f18e68093\">\n",
              "    <div class=\"colab-df-container\">\n",
              "      <div>\n",
              "<style scoped>\n",
              "    .dataframe tbody tr th:only-of-type {\n",
              "        vertical-align: middle;\n",
              "    }\n",
              "\n",
              "    .dataframe tbody tr th {\n",
              "        vertical-align: top;\n",
              "    }\n",
              "\n",
              "    .dataframe thead th {\n",
              "        text-align: right;\n",
              "    }\n",
              "</style>\n",
              "<table border=\"1\" class=\"dataframe\">\n",
              "  <thead>\n",
              "    <tr style=\"text-align: right;\">\n",
              "      <th>Movie</th>\n",
              "      <th>3</th>\n",
              "      <th>5</th>\n",
              "      <th>6</th>\n",
              "      <th>8</th>\n",
              "      <th>16</th>\n",
              "      <th>17</th>\n",
              "      <th>18</th>\n",
              "      <th>24</th>\n",
              "      <th>25</th>\n",
              "      <th>26</th>\n",
              "      <th>...</th>\n",
              "      <th>4482</th>\n",
              "      <th>4483</th>\n",
              "      <th>4484</th>\n",
              "      <th>4485</th>\n",
              "      <th>4488</th>\n",
              "      <th>4489</th>\n",
              "      <th>4490</th>\n",
              "      <th>4492</th>\n",
              "      <th>4493</th>\n",
              "      <th>4496</th>\n",
              "    </tr>\n",
              "    <tr>\n",
              "      <th>User</th>\n",
              "      <th></th>\n",
              "      <th></th>\n",
              "      <th></th>\n",
              "      <th></th>\n",
              "      <th></th>\n",
              "      <th></th>\n",
              "      <th></th>\n",
              "      <th></th>\n",
              "      <th></th>\n",
              "      <th></th>\n",
              "      <th></th>\n",
              "      <th></th>\n",
              "      <th></th>\n",
              "      <th></th>\n",
              "      <th></th>\n",
              "      <th></th>\n",
              "      <th></th>\n",
              "      <th></th>\n",
              "      <th></th>\n",
              "      <th></th>\n",
              "      <th></th>\n",
              "    </tr>\n",
              "  </thead>\n",
              "  <tbody>\n",
              "    <tr>\n",
              "      <th>1000079</th>\n",
              "      <td>NaN</td>\n",
              "      <td>NaN</td>\n",
              "      <td>NaN</td>\n",
              "      <td>NaN</td>\n",
              "      <td>NaN</td>\n",
              "      <td>NaN</td>\n",
              "      <td>NaN</td>\n",
              "      <td>NaN</td>\n",
              "      <td>NaN</td>\n",
              "      <td>NaN</td>\n",
              "      <td>...</td>\n",
              "      <td>NaN</td>\n",
              "      <td>NaN</td>\n",
              "      <td>NaN</td>\n",
              "      <td>NaN</td>\n",
              "      <td>2.0</td>\n",
              "      <td>NaN</td>\n",
              "      <td>NaN</td>\n",
              "      <td>NaN</td>\n",
              "      <td>NaN</td>\n",
              "      <td>NaN</td>\n",
              "    </tr>\n",
              "    <tr>\n",
              "      <th>1000192</th>\n",
              "      <td>NaN</td>\n",
              "      <td>NaN</td>\n",
              "      <td>NaN</td>\n",
              "      <td>NaN</td>\n",
              "      <td>NaN</td>\n",
              "      <td>NaN</td>\n",
              "      <td>NaN</td>\n",
              "      <td>NaN</td>\n",
              "      <td>NaN</td>\n",
              "      <td>NaN</td>\n",
              "      <td>...</td>\n",
              "      <td>NaN</td>\n",
              "      <td>NaN</td>\n",
              "      <td>NaN</td>\n",
              "      <td>NaN</td>\n",
              "      <td>NaN</td>\n",
              "      <td>NaN</td>\n",
              "      <td>NaN</td>\n",
              "      <td>NaN</td>\n",
              "      <td>NaN</td>\n",
              "      <td>NaN</td>\n",
              "    </tr>\n",
              "    <tr>\n",
              "      <th>1000301</th>\n",
              "      <td>NaN</td>\n",
              "      <td>NaN</td>\n",
              "      <td>NaN</td>\n",
              "      <td>NaN</td>\n",
              "      <td>NaN</td>\n",
              "      <td>NaN</td>\n",
              "      <td>4.0</td>\n",
              "      <td>NaN</td>\n",
              "      <td>NaN</td>\n",
              "      <td>NaN</td>\n",
              "      <td>...</td>\n",
              "      <td>NaN</td>\n",
              "      <td>NaN</td>\n",
              "      <td>NaN</td>\n",
              "      <td>NaN</td>\n",
              "      <td>4.0</td>\n",
              "      <td>NaN</td>\n",
              "      <td>NaN</td>\n",
              "      <td>NaN</td>\n",
              "      <td>NaN</td>\n",
              "      <td>NaN</td>\n",
              "    </tr>\n",
              "    <tr>\n",
              "      <th>1000387</th>\n",
              "      <td>NaN</td>\n",
              "      <td>NaN</td>\n",
              "      <td>NaN</td>\n",
              "      <td>NaN</td>\n",
              "      <td>NaN</td>\n",
              "      <td>NaN</td>\n",
              "      <td>NaN</td>\n",
              "      <td>NaN</td>\n",
              "      <td>NaN</td>\n",
              "      <td>NaN</td>\n",
              "      <td>...</td>\n",
              "      <td>NaN</td>\n",
              "      <td>NaN</td>\n",
              "      <td>NaN</td>\n",
              "      <td>1.0</td>\n",
              "      <td>2.0</td>\n",
              "      <td>NaN</td>\n",
              "      <td>NaN</td>\n",
              "      <td>1.0</td>\n",
              "      <td>NaN</td>\n",
              "      <td>NaN</td>\n",
              "    </tr>\n",
              "    <tr>\n",
              "      <th>1000410</th>\n",
              "      <td>NaN</td>\n",
              "      <td>NaN</td>\n",
              "      <td>NaN</td>\n",
              "      <td>NaN</td>\n",
              "      <td>NaN</td>\n",
              "      <td>NaN</td>\n",
              "      <td>4.0</td>\n",
              "      <td>NaN</td>\n",
              "      <td>NaN</td>\n",
              "      <td>NaN</td>\n",
              "      <td>...</td>\n",
              "      <td>NaN</td>\n",
              "      <td>NaN</td>\n",
              "      <td>NaN</td>\n",
              "      <td>NaN</td>\n",
              "      <td>3.0</td>\n",
              "      <td>NaN</td>\n",
              "      <td>3.0</td>\n",
              "      <td>NaN</td>\n",
              "      <td>NaN</td>\n",
              "      <td>3.0</td>\n",
              "    </tr>\n",
              "    <tr>\n",
              "      <th>1000527</th>\n",
              "      <td>NaN</td>\n",
              "      <td>NaN</td>\n",
              "      <td>NaN</td>\n",
              "      <td>NaN</td>\n",
              "      <td>NaN</td>\n",
              "      <td>NaN</td>\n",
              "      <td>NaN</td>\n",
              "      <td>NaN</td>\n",
              "      <td>NaN</td>\n",
              "      <td>NaN</td>\n",
              "      <td>...</td>\n",
              "      <td>NaN</td>\n",
              "      <td>NaN</td>\n",
              "      <td>NaN</td>\n",
              "      <td>NaN</td>\n",
              "      <td>NaN</td>\n",
              "      <td>NaN</td>\n",
              "      <td>NaN</td>\n",
              "      <td>NaN</td>\n",
              "      <td>3.0</td>\n",
              "      <td>NaN</td>\n",
              "    </tr>\n",
              "    <tr>\n",
              "      <th>1000596</th>\n",
              "      <td>NaN</td>\n",
              "      <td>NaN</td>\n",
              "      <td>NaN</td>\n",
              "      <td>NaN</td>\n",
              "      <td>NaN</td>\n",
              "      <td>NaN</td>\n",
              "      <td>NaN</td>\n",
              "      <td>2.0</td>\n",
              "      <td>NaN</td>\n",
              "      <td>NaN</td>\n",
              "      <td>...</td>\n",
              "      <td>NaN</td>\n",
              "      <td>NaN</td>\n",
              "      <td>NaN</td>\n",
              "      <td>NaN</td>\n",
              "      <td>NaN</td>\n",
              "      <td>NaN</td>\n",
              "      <td>NaN</td>\n",
              "      <td>NaN</td>\n",
              "      <td>NaN</td>\n",
              "      <td>NaN</td>\n",
              "    </tr>\n",
              "    <tr>\n",
              "      <th>1000634</th>\n",
              "      <td>NaN</td>\n",
              "      <td>NaN</td>\n",
              "      <td>NaN</td>\n",
              "      <td>NaN</td>\n",
              "      <td>3.0</td>\n",
              "      <td>NaN</td>\n",
              "      <td>NaN</td>\n",
              "      <td>NaN</td>\n",
              "      <td>NaN</td>\n",
              "      <td>NaN</td>\n",
              "      <td>...</td>\n",
              "      <td>NaN</td>\n",
              "      <td>NaN</td>\n",
              "      <td>NaN</td>\n",
              "      <td>NaN</td>\n",
              "      <td>4.0</td>\n",
              "      <td>NaN</td>\n",
              "      <td>NaN</td>\n",
              "      <td>4.0</td>\n",
              "      <td>NaN</td>\n",
              "      <td>NaN</td>\n",
              "    </tr>\n",
              "    <tr>\n",
              "      <th>1000710</th>\n",
              "      <td>NaN</td>\n",
              "      <td>NaN</td>\n",
              "      <td>NaN</td>\n",
              "      <td>NaN</td>\n",
              "      <td>NaN</td>\n",
              "      <td>NaN</td>\n",
              "      <td>NaN</td>\n",
              "      <td>NaN</td>\n",
              "      <td>NaN</td>\n",
              "      <td>NaN</td>\n",
              "      <td>...</td>\n",
              "      <td>NaN</td>\n",
              "      <td>NaN</td>\n",
              "      <td>NaN</td>\n",
              "      <td>NaN</td>\n",
              "      <td>NaN</td>\n",
              "      <td>NaN</td>\n",
              "      <td>NaN</td>\n",
              "      <td>NaN</td>\n",
              "      <td>NaN</td>\n",
              "      <td>NaN</td>\n",
              "    </tr>\n",
              "    <tr>\n",
              "      <th>1000779</th>\n",
              "      <td>NaN</td>\n",
              "      <td>NaN</td>\n",
              "      <td>NaN</td>\n",
              "      <td>NaN</td>\n",
              "      <td>NaN</td>\n",
              "      <td>NaN</td>\n",
              "      <td>NaN</td>\n",
              "      <td>NaN</td>\n",
              "      <td>NaN</td>\n",
              "      <td>NaN</td>\n",
              "      <td>...</td>\n",
              "      <td>NaN</td>\n",
              "      <td>NaN</td>\n",
              "      <td>NaN</td>\n",
              "      <td>NaN</td>\n",
              "      <td>NaN</td>\n",
              "      <td>NaN</td>\n",
              "      <td>NaN</td>\n",
              "      <td>NaN</td>\n",
              "      <td>NaN</td>\n",
              "      <td>4.0</td>\n",
              "    </tr>\n",
              "  </tbody>\n",
              "</table>\n",
              "<p>10 rows × 1741 columns</p>\n",
              "</div>\n",
              "      <button class=\"colab-df-convert\" onclick=\"convertToInteractive('df-c5654452-cd02-4f14-9bed-0f5f18e68093')\"\n",
              "              title=\"Convert this dataframe to an interactive table.\"\n",
              "              style=\"display:none;\">\n",
              "        \n",
              "  <svg xmlns=\"http://www.w3.org/2000/svg\" height=\"24px\"viewBox=\"0 0 24 24\"\n",
              "       width=\"24px\">\n",
              "    <path d=\"M0 0h24v24H0V0z\" fill=\"none\"/>\n",
              "    <path d=\"M18.56 5.44l.94 2.06.94-2.06 2.06-.94-2.06-.94-.94-2.06-.94 2.06-2.06.94zm-11 1L8.5 8.5l.94-2.06 2.06-.94-2.06-.94L8.5 2.5l-.94 2.06-2.06.94zm10 10l.94 2.06.94-2.06 2.06-.94-2.06-.94-.94-2.06-.94 2.06-2.06.94z\"/><path d=\"M17.41 7.96l-1.37-1.37c-.4-.4-.92-.59-1.43-.59-.52 0-1.04.2-1.43.59L10.3 9.45l-7.72 7.72c-.78.78-.78 2.05 0 2.83L4 21.41c.39.39.9.59 1.41.59.51 0 1.02-.2 1.41-.59l7.78-7.78 2.81-2.81c.8-.78.8-2.07 0-2.86zM5.41 20L4 18.59l7.72-7.72 1.47 1.35L5.41 20z\"/>\n",
              "  </svg>\n",
              "      </button>\n",
              "      \n",
              "  <style>\n",
              "    .colab-df-container {\n",
              "      display:flex;\n",
              "      flex-wrap:wrap;\n",
              "      gap: 12px;\n",
              "    }\n",
              "\n",
              "    .colab-df-convert {\n",
              "      background-color: #E8F0FE;\n",
              "      border: none;\n",
              "      border-radius: 50%;\n",
              "      cursor: pointer;\n",
              "      display: none;\n",
              "      fill: #1967D2;\n",
              "      height: 32px;\n",
              "      padding: 0 0 0 0;\n",
              "      width: 32px;\n",
              "    }\n",
              "\n",
              "    .colab-df-convert:hover {\n",
              "      background-color: #E2EBFA;\n",
              "      box-shadow: 0px 1px 2px rgba(60, 64, 67, 0.3), 0px 1px 3px 1px rgba(60, 64, 67, 0.15);\n",
              "      fill: #174EA6;\n",
              "    }\n",
              "\n",
              "    [theme=dark] .colab-df-convert {\n",
              "      background-color: #3B4455;\n",
              "      fill: #D2E3FC;\n",
              "    }\n",
              "\n",
              "    [theme=dark] .colab-df-convert:hover {\n",
              "      background-color: #434B5C;\n",
              "      box-shadow: 0px 1px 3px 1px rgba(0, 0, 0, 0.15);\n",
              "      filter: drop-shadow(0px 1px 2px rgba(0, 0, 0, 0.3));\n",
              "      fill: #FFFFFF;\n",
              "    }\n",
              "  </style>\n",
              "\n",
              "      <script>\n",
              "        const buttonEl =\n",
              "          document.querySelector('#df-c5654452-cd02-4f14-9bed-0f5f18e68093 button.colab-df-convert');\n",
              "        buttonEl.style.display =\n",
              "          google.colab.kernel.accessAllowed ? 'block' : 'none';\n",
              "\n",
              "        async function convertToInteractive(key) {\n",
              "          const element = document.querySelector('#df-c5654452-cd02-4f14-9bed-0f5f18e68093');\n",
              "          const dataTable =\n",
              "            await google.colab.kernel.invokeFunction('convertToInteractive',\n",
              "                                                     [key], {});\n",
              "          if (!dataTable) return;\n",
              "\n",
              "          const docLinkHtml = 'Like what you see? Visit the ' +\n",
              "            '<a target=\"_blank\" href=https://colab.research.google.com/notebooks/data_table.ipynb>data table notebook</a>'\n",
              "            + ' to learn more about interactive tables.';\n",
              "          element.innerHTML = '';\n",
              "          dataTable['output_type'] = 'display_data';\n",
              "          await google.colab.output.renderOutput(dataTable, element);\n",
              "          const docLink = document.createElement('div');\n",
              "          docLink.innerHTML = docLinkHtml;\n",
              "          element.appendChild(docLink);\n",
              "        }\n",
              "      </script>\n",
              "    </div>\n",
              "  </div>\n",
              "  "
            ]
          },
          "metadata": {},
          "execution_count": 19
        }
      ],
      "source": [
        "# Create a user-movie matrix with empty values\n",
        "df_p = pd.pivot_table(df_train, values='Rating', index='User', columns='Movie')\n",
        "print('Shape User-Movie-Matrix:\\t{}'.format(df_p.shape))\n",
        "df_p.head(10)"
      ]
    },
    {
      "cell_type": "markdown",
      "metadata": {
        "id": "ojO2T5Ti_4TG"
      },
      "source": [
        "## 8. Building Recommendation Systems"
      ]
    },
    {
      "cell_type": "markdown",
      "metadata": {
        "id": "cOrqqL3KDn9L"
      },
      "source": [
        "## 8.1(a): Global Recommendation Systems (Mean Rating)\n",
        "\n",
        "Computing the mean rating for all movies creates a ranking. The recommendation will be the same for all users and can be used if there is no information on the user.\n",
        "Variations of this approach can be separate rankings for each country/year/gender/... and to use them individually to recommend movies/items to the user.\n",
        "\n",
        "It has to be noted that this approach is biased and favours movies with fewer ratings, since large numbers of ratings tend to be less extreme in its mean ratings."
      ]
    },
    {
      "cell_type": "markdown",
      "metadata": {
        "id": "zlIuNnXxONlb"
      },
      "source": [
        "### Additional Hint\n",
        "\n",
        "Predict model performance: [mean_squared_error](https://scikit-learn.org/stable/modules/generated/sklearn.metrics.mean_squared_error.html)"
      ]
    },
    {
      "cell_type": "code",
      "execution_count": 20,
      "metadata": {
        "id": "spUQbaIz24Fo",
        "colab": {
          "base_uri": "https://localhost:8080/",
          "height": 238
        },
        "outputId": "b22fbf58-2531-4dff-f294-e8a274cd826b"
      },
      "outputs": [
        {
          "output_type": "execute_result",
          "data": {
            "text/plain": [
              "       Rating-Mean  Rating-Freq    Year  \\\n",
              "Movie                                     \n",
              "3456      4.656012         1314  2004.0   \n",
              "2102      4.508238         2792  1994.0   \n",
              "3444      4.435323         2814  2004.0   \n",
              "2452      4.425942        18580  2001.0   \n",
              "2172      4.383298         6191  1991.0   \n",
              "\n",
              "                                                Name  \n",
              "Movie                                                 \n",
              "3456                                  Lost: Season 1  \n",
              "2102                          The Simpsons: Season 6  \n",
              "3444           Family Guy: Freakin' Sweet Collection  \n",
              "2452   Lord of the Rings: The Fellowship of the Ring  \n",
              "2172                          The Simpsons: Season 3  "
            ],
            "text/html": [
              "\n",
              "  <div id=\"df-b37871d8-59fb-44eb-843d-974f187f3478\">\n",
              "    <div class=\"colab-df-container\">\n",
              "      <div>\n",
              "<style scoped>\n",
              "    .dataframe tbody tr th:only-of-type {\n",
              "        vertical-align: middle;\n",
              "    }\n",
              "\n",
              "    .dataframe tbody tr th {\n",
              "        vertical-align: top;\n",
              "    }\n",
              "\n",
              "    .dataframe thead th {\n",
              "        text-align: right;\n",
              "    }\n",
              "</style>\n",
              "<table border=\"1\" class=\"dataframe\">\n",
              "  <thead>\n",
              "    <tr style=\"text-align: right;\">\n",
              "      <th></th>\n",
              "      <th>Rating-Mean</th>\n",
              "      <th>Rating-Freq</th>\n",
              "      <th>Year</th>\n",
              "      <th>Name</th>\n",
              "    </tr>\n",
              "    <tr>\n",
              "      <th>Movie</th>\n",
              "      <th></th>\n",
              "      <th></th>\n",
              "      <th></th>\n",
              "      <th></th>\n",
              "    </tr>\n",
              "  </thead>\n",
              "  <tbody>\n",
              "    <tr>\n",
              "      <th>3456</th>\n",
              "      <td>4.656012</td>\n",
              "      <td>1314</td>\n",
              "      <td>2004.0</td>\n",
              "      <td>Lost: Season 1</td>\n",
              "    </tr>\n",
              "    <tr>\n",
              "      <th>2102</th>\n",
              "      <td>4.508238</td>\n",
              "      <td>2792</td>\n",
              "      <td>1994.0</td>\n",
              "      <td>The Simpsons: Season 6</td>\n",
              "    </tr>\n",
              "    <tr>\n",
              "      <th>3444</th>\n",
              "      <td>4.435323</td>\n",
              "      <td>2814</td>\n",
              "      <td>2004.0</td>\n",
              "      <td>Family Guy: Freakin' Sweet Collection</td>\n",
              "    </tr>\n",
              "    <tr>\n",
              "      <th>2452</th>\n",
              "      <td>4.425942</td>\n",
              "      <td>18580</td>\n",
              "      <td>2001.0</td>\n",
              "      <td>Lord of the Rings: The Fellowship of the Ring</td>\n",
              "    </tr>\n",
              "    <tr>\n",
              "      <th>2172</th>\n",
              "      <td>4.383298</td>\n",
              "      <td>6191</td>\n",
              "      <td>1991.0</td>\n",
              "      <td>The Simpsons: Season 3</td>\n",
              "    </tr>\n",
              "  </tbody>\n",
              "</table>\n",
              "</div>\n",
              "      <button class=\"colab-df-convert\" onclick=\"convertToInteractive('df-b37871d8-59fb-44eb-843d-974f187f3478')\"\n",
              "              title=\"Convert this dataframe to an interactive table.\"\n",
              "              style=\"display:none;\">\n",
              "        \n",
              "  <svg xmlns=\"http://www.w3.org/2000/svg\" height=\"24px\"viewBox=\"0 0 24 24\"\n",
              "       width=\"24px\">\n",
              "    <path d=\"M0 0h24v24H0V0z\" fill=\"none\"/>\n",
              "    <path d=\"M18.56 5.44l.94 2.06.94-2.06 2.06-.94-2.06-.94-.94-2.06-.94 2.06-2.06.94zm-11 1L8.5 8.5l.94-2.06 2.06-.94-2.06-.94L8.5 2.5l-.94 2.06-2.06.94zm10 10l.94 2.06.94-2.06 2.06-.94-2.06-.94-.94-2.06-.94 2.06-2.06.94z\"/><path d=\"M17.41 7.96l-1.37-1.37c-.4-.4-.92-.59-1.43-.59-.52 0-1.04.2-1.43.59L10.3 9.45l-7.72 7.72c-.78.78-.78 2.05 0 2.83L4 21.41c.39.39.9.59 1.41.59.51 0 1.02-.2 1.41-.59l7.78-7.78 2.81-2.81c.8-.78.8-2.07 0-2.86zM5.41 20L4 18.59l7.72-7.72 1.47 1.35L5.41 20z\"/>\n",
              "  </svg>\n",
              "      </button>\n",
              "      \n",
              "  <style>\n",
              "    .colab-df-container {\n",
              "      display:flex;\n",
              "      flex-wrap:wrap;\n",
              "      gap: 12px;\n",
              "    }\n",
              "\n",
              "    .colab-df-convert {\n",
              "      background-color: #E8F0FE;\n",
              "      border: none;\n",
              "      border-radius: 50%;\n",
              "      cursor: pointer;\n",
              "      display: none;\n",
              "      fill: #1967D2;\n",
              "      height: 32px;\n",
              "      padding: 0 0 0 0;\n",
              "      width: 32px;\n",
              "    }\n",
              "\n",
              "    .colab-df-convert:hover {\n",
              "      background-color: #E2EBFA;\n",
              "      box-shadow: 0px 1px 2px rgba(60, 64, 67, 0.3), 0px 1px 3px 1px rgba(60, 64, 67, 0.15);\n",
              "      fill: #174EA6;\n",
              "    }\n",
              "\n",
              "    [theme=dark] .colab-df-convert {\n",
              "      background-color: #3B4455;\n",
              "      fill: #D2E3FC;\n",
              "    }\n",
              "\n",
              "    [theme=dark] .colab-df-convert:hover {\n",
              "      background-color: #434B5C;\n",
              "      box-shadow: 0px 1px 3px 1px rgba(0, 0, 0, 0.15);\n",
              "      filter: drop-shadow(0px 1px 2px rgba(0, 0, 0, 0.3));\n",
              "      fill: #FFFFFF;\n",
              "    }\n",
              "  </style>\n",
              "\n",
              "      <script>\n",
              "        const buttonEl =\n",
              "          document.querySelector('#df-b37871d8-59fb-44eb-843d-974f187f3478 button.colab-df-convert');\n",
              "        buttonEl.style.display =\n",
              "          google.colab.kernel.accessAllowed ? 'block' : 'none';\n",
              "\n",
              "        async function convertToInteractive(key) {\n",
              "          const element = document.querySelector('#df-b37871d8-59fb-44eb-843d-974f187f3478');\n",
              "          const dataTable =\n",
              "            await google.colab.kernel.invokeFunction('convertToInteractive',\n",
              "                                                     [key], {});\n",
              "          if (!dataTable) return;\n",
              "\n",
              "          const docLinkHtml = 'Like what you see? Visit the ' +\n",
              "            '<a target=\"_blank\" href=https://colab.research.google.com/notebooks/data_table.ipynb>data table notebook</a>'\n",
              "            + ' to learn more about interactive tables.';\n",
              "          element.innerHTML = '';\n",
              "          dataTable['output_type'] = 'display_data';\n",
              "          await google.colab.output.renderOutput(dataTable, element);\n",
              "          const docLink = document.createElement('div');\n",
              "          docLink.innerHTML = docLinkHtml;\n",
              "          element.appendChild(docLink);\n",
              "        }\n",
              "      </script>\n",
              "    </div>\n",
              "  </div>\n",
              "  "
            ]
          },
          "metadata": {},
          "execution_count": 20
        }
      ],
      "source": [
        "# Compute mean rating for all movies\n",
        "ratings_mean = df_p.mean(axis=0).sort_values(ascending=False).rename('Rating-Mean').to_frame()\n",
        "\n",
        "# Compute rating frequencies for all movies\n",
        "ratings_count = df_p.count(axis=0).rename('Rating-Freq').to_frame()\n",
        "\n",
        "# Combine the aggregated dataframes\n",
        "combined_df = ratings_mean.join(ratings_count).join(movie_titles)\n",
        "combined_df.head(5)"
      ]
    },
    {
      "cell_type": "code",
      "execution_count": 21,
      "metadata": {
        "id": "vf66eVE_24Fq",
        "colab": {
          "base_uri": "https://localhost:8080/",
          "height": 238
        },
        "outputId": "d67081ad-0e66-4c07-f05a-06b732178551"
      },
      "outputs": [
        {
          "output_type": "execute_result",
          "data": {
            "text/plain": [
              "          User  Rating  Rating-Mean\n",
              "Movie                              \n",
              "3       318409     2.0     3.457944\n",
              "3      1191821     3.0     3.457944\n",
              "3       299857     3.0     3.457944\n",
              "3       795638     5.0     3.457944\n",
              "3      1177340     4.0     3.457944"
            ],
            "text/html": [
              "\n",
              "  <div id=\"df-3bd93327-280a-42b6-9715-ef8027f5ec4c\">\n",
              "    <div class=\"colab-df-container\">\n",
              "      <div>\n",
              "<style scoped>\n",
              "    .dataframe tbody tr th:only-of-type {\n",
              "        vertical-align: middle;\n",
              "    }\n",
              "\n",
              "    .dataframe tbody tr th {\n",
              "        vertical-align: top;\n",
              "    }\n",
              "\n",
              "    .dataframe thead th {\n",
              "        text-align: right;\n",
              "    }\n",
              "</style>\n",
              "<table border=\"1\" class=\"dataframe\">\n",
              "  <thead>\n",
              "    <tr style=\"text-align: right;\">\n",
              "      <th></th>\n",
              "      <th>User</th>\n",
              "      <th>Rating</th>\n",
              "      <th>Rating-Mean</th>\n",
              "    </tr>\n",
              "    <tr>\n",
              "      <th>Movie</th>\n",
              "      <th></th>\n",
              "      <th></th>\n",
              "      <th></th>\n",
              "    </tr>\n",
              "  </thead>\n",
              "  <tbody>\n",
              "    <tr>\n",
              "      <th>3</th>\n",
              "      <td>318409</td>\n",
              "      <td>2.0</td>\n",
              "      <td>3.457944</td>\n",
              "    </tr>\n",
              "    <tr>\n",
              "      <th>3</th>\n",
              "      <td>1191821</td>\n",
              "      <td>3.0</td>\n",
              "      <td>3.457944</td>\n",
              "    </tr>\n",
              "    <tr>\n",
              "      <th>3</th>\n",
              "      <td>299857</td>\n",
              "      <td>3.0</td>\n",
              "      <td>3.457944</td>\n",
              "    </tr>\n",
              "    <tr>\n",
              "      <th>3</th>\n",
              "      <td>795638</td>\n",
              "      <td>5.0</td>\n",
              "      <td>3.457944</td>\n",
              "    </tr>\n",
              "    <tr>\n",
              "      <th>3</th>\n",
              "      <td>1177340</td>\n",
              "      <td>4.0</td>\n",
              "      <td>3.457944</td>\n",
              "    </tr>\n",
              "  </tbody>\n",
              "</table>\n",
              "</div>\n",
              "      <button class=\"colab-df-convert\" onclick=\"convertToInteractive('df-3bd93327-280a-42b6-9715-ef8027f5ec4c')\"\n",
              "              title=\"Convert this dataframe to an interactive table.\"\n",
              "              style=\"display:none;\">\n",
              "        \n",
              "  <svg xmlns=\"http://www.w3.org/2000/svg\" height=\"24px\"viewBox=\"0 0 24 24\"\n",
              "       width=\"24px\">\n",
              "    <path d=\"M0 0h24v24H0V0z\" fill=\"none\"/>\n",
              "    <path d=\"M18.56 5.44l.94 2.06.94-2.06 2.06-.94-2.06-.94-.94-2.06-.94 2.06-2.06.94zm-11 1L8.5 8.5l.94-2.06 2.06-.94-2.06-.94L8.5 2.5l-.94 2.06-2.06.94zm10 10l.94 2.06.94-2.06 2.06-.94-2.06-.94-.94-2.06-.94 2.06-2.06.94z\"/><path d=\"M17.41 7.96l-1.37-1.37c-.4-.4-.92-.59-1.43-.59-.52 0-1.04.2-1.43.59L10.3 9.45l-7.72 7.72c-.78.78-.78 2.05 0 2.83L4 21.41c.39.39.9.59 1.41.59.51 0 1.02-.2 1.41-.59l7.78-7.78 2.81-2.81c.8-.78.8-2.07 0-2.86zM5.41 20L4 18.59l7.72-7.72 1.47 1.35L5.41 20z\"/>\n",
              "  </svg>\n",
              "      </button>\n",
              "      \n",
              "  <style>\n",
              "    .colab-df-container {\n",
              "      display:flex;\n",
              "      flex-wrap:wrap;\n",
              "      gap: 12px;\n",
              "    }\n",
              "\n",
              "    .colab-df-convert {\n",
              "      background-color: #E8F0FE;\n",
              "      border: none;\n",
              "      border-radius: 50%;\n",
              "      cursor: pointer;\n",
              "      display: none;\n",
              "      fill: #1967D2;\n",
              "      height: 32px;\n",
              "      padding: 0 0 0 0;\n",
              "      width: 32px;\n",
              "    }\n",
              "\n",
              "    .colab-df-convert:hover {\n",
              "      background-color: #E2EBFA;\n",
              "      box-shadow: 0px 1px 2px rgba(60, 64, 67, 0.3), 0px 1px 3px 1px rgba(60, 64, 67, 0.15);\n",
              "      fill: #174EA6;\n",
              "    }\n",
              "\n",
              "    [theme=dark] .colab-df-convert {\n",
              "      background-color: #3B4455;\n",
              "      fill: #D2E3FC;\n",
              "    }\n",
              "\n",
              "    [theme=dark] .colab-df-convert:hover {\n",
              "      background-color: #434B5C;\n",
              "      box-shadow: 0px 1px 3px 1px rgba(0, 0, 0, 0.15);\n",
              "      filter: drop-shadow(0px 1px 2px rgba(0, 0, 0, 0.3));\n",
              "      fill: #FFFFFF;\n",
              "    }\n",
              "  </style>\n",
              "\n",
              "      <script>\n",
              "        const buttonEl =\n",
              "          document.querySelector('#df-3bd93327-280a-42b6-9715-ef8027f5ec4c button.colab-df-convert');\n",
              "        buttonEl.style.display =\n",
              "          google.colab.kernel.accessAllowed ? 'block' : 'none';\n",
              "\n",
              "        async function convertToInteractive(key) {\n",
              "          const element = document.querySelector('#df-3bd93327-280a-42b6-9715-ef8027f5ec4c');\n",
              "          const dataTable =\n",
              "            await google.colab.kernel.invokeFunction('convertToInteractive',\n",
              "                                                     [key], {});\n",
              "          if (!dataTable) return;\n",
              "\n",
              "          const docLinkHtml = 'Like what you see? Visit the ' +\n",
              "            '<a target=\"_blank\" href=https://colab.research.google.com/notebooks/data_table.ipynb>data table notebook</a>'\n",
              "            + ' to learn more about interactive tables.';\n",
              "          element.innerHTML = '';\n",
              "          dataTable['output_type'] = 'display_data';\n",
              "          await google.colab.output.renderOutput(dataTable, element);\n",
              "          const docLink = document.createElement('div');\n",
              "          docLink.innerHTML = docLinkHtml;\n",
              "          element.appendChild(docLink);\n",
              "        }\n",
              "      </script>\n",
              "    </div>\n",
              "  </div>\n",
              "  "
            ]
          },
          "metadata": {},
          "execution_count": 21
        }
      ],
      "source": [
        "# Join labels and predictions based on mean movie rating\n",
        "predictions_df = df_test.set_index('Movie').join(ratings_mean)\n",
        "predictions_df.head(5)"
      ]
    },
    {
      "cell_type": "code",
      "execution_count": 22,
      "metadata": {
        "id": "9W2txAub24Fs",
        "colab": {
          "base_uri": "https://localhost:8080/"
        },
        "outputId": "dc40e482-0e40-436f-e830-cb5d71dd6722"
      },
      "outputs": [
        {
          "output_type": "stream",
          "name": "stdout",
          "text": [
            "The RMSE Value for the Mean Rating Recommender: 1.0056598997448867\n"
          ]
        }
      ],
      "source": [
        "# Compute RMSE\n",
        "y_true = predictions_df['Rating']\n",
        "y_pred = predictions_df['Rating-Mean']\n",
        "\n",
        "rmse = np.sqrt(mean_squared_error(y_true=y_true, y_pred=y_pred))\n",
        "print(\"The RMSE Value for the Mean Rating Recommender:\", rmse)"
      ]
    },
    {
      "cell_type": "code",
      "execution_count": 23,
      "metadata": {
        "id": "xda52K1m24Fu",
        "colab": {
          "base_uri": "https://localhost:8080/",
          "height": 394
        },
        "outputId": "0cae11b0-9de9-4ab0-a822-3075f164841b"
      },
      "outputs": [
        {
          "output_type": "execute_result",
          "data": {
            "text/plain": [
              "                                                Name  Rating-Mean\n",
              "Movie                                                            \n",
              "3456                                  Lost: Season 1     4.656012\n",
              "2102                          The Simpsons: Season 6     4.508238\n",
              "3444           Family Guy: Freakin' Sweet Collection     4.435323\n",
              "2452   Lord of the Rings: The Fellowship of the Ring     4.425942\n",
              "2172                          The Simpsons: Season 3     4.383298\n",
              "1256                     The Best of Friends: Vol. 4     4.373892\n",
              "3962                       Finding Nemo (Widescreen)     4.367539\n",
              "4238                                       Inu-Yasha     4.350000\n",
              "1476                        Six Feet Under: Season 4     4.348297\n",
              "3046               The Simpsons: Treehouse of Horror     4.346659"
            ],
            "text/html": [
              "\n",
              "  <div id=\"df-4709879b-47b1-45b4-8e64-8629d34e4433\">\n",
              "    <div class=\"colab-df-container\">\n",
              "      <div>\n",
              "<style scoped>\n",
              "    .dataframe tbody tr th:only-of-type {\n",
              "        vertical-align: middle;\n",
              "    }\n",
              "\n",
              "    .dataframe tbody tr th {\n",
              "        vertical-align: top;\n",
              "    }\n",
              "\n",
              "    .dataframe thead th {\n",
              "        text-align: right;\n",
              "    }\n",
              "</style>\n",
              "<table border=\"1\" class=\"dataframe\">\n",
              "  <thead>\n",
              "    <tr style=\"text-align: right;\">\n",
              "      <th></th>\n",
              "      <th>Name</th>\n",
              "      <th>Rating-Mean</th>\n",
              "    </tr>\n",
              "    <tr>\n",
              "      <th>Movie</th>\n",
              "      <th></th>\n",
              "      <th></th>\n",
              "    </tr>\n",
              "  </thead>\n",
              "  <tbody>\n",
              "    <tr>\n",
              "      <th>3456</th>\n",
              "      <td>Lost: Season 1</td>\n",
              "      <td>4.656012</td>\n",
              "    </tr>\n",
              "    <tr>\n",
              "      <th>2102</th>\n",
              "      <td>The Simpsons: Season 6</td>\n",
              "      <td>4.508238</td>\n",
              "    </tr>\n",
              "    <tr>\n",
              "      <th>3444</th>\n",
              "      <td>Family Guy: Freakin' Sweet Collection</td>\n",
              "      <td>4.435323</td>\n",
              "    </tr>\n",
              "    <tr>\n",
              "      <th>2452</th>\n",
              "      <td>Lord of the Rings: The Fellowship of the Ring</td>\n",
              "      <td>4.425942</td>\n",
              "    </tr>\n",
              "    <tr>\n",
              "      <th>2172</th>\n",
              "      <td>The Simpsons: Season 3</td>\n",
              "      <td>4.383298</td>\n",
              "    </tr>\n",
              "    <tr>\n",
              "      <th>1256</th>\n",
              "      <td>The Best of Friends: Vol. 4</td>\n",
              "      <td>4.373892</td>\n",
              "    </tr>\n",
              "    <tr>\n",
              "      <th>3962</th>\n",
              "      <td>Finding Nemo (Widescreen)</td>\n",
              "      <td>4.367539</td>\n",
              "    </tr>\n",
              "    <tr>\n",
              "      <th>4238</th>\n",
              "      <td>Inu-Yasha</td>\n",
              "      <td>4.350000</td>\n",
              "    </tr>\n",
              "    <tr>\n",
              "      <th>1476</th>\n",
              "      <td>Six Feet Under: Season 4</td>\n",
              "      <td>4.348297</td>\n",
              "    </tr>\n",
              "    <tr>\n",
              "      <th>3046</th>\n",
              "      <td>The Simpsons: Treehouse of Horror</td>\n",
              "      <td>4.346659</td>\n",
              "    </tr>\n",
              "  </tbody>\n",
              "</table>\n",
              "</div>\n",
              "      <button class=\"colab-df-convert\" onclick=\"convertToInteractive('df-4709879b-47b1-45b4-8e64-8629d34e4433')\"\n",
              "              title=\"Convert this dataframe to an interactive table.\"\n",
              "              style=\"display:none;\">\n",
              "        \n",
              "  <svg xmlns=\"http://www.w3.org/2000/svg\" height=\"24px\"viewBox=\"0 0 24 24\"\n",
              "       width=\"24px\">\n",
              "    <path d=\"M0 0h24v24H0V0z\" fill=\"none\"/>\n",
              "    <path d=\"M18.56 5.44l.94 2.06.94-2.06 2.06-.94-2.06-.94-.94-2.06-.94 2.06-2.06.94zm-11 1L8.5 8.5l.94-2.06 2.06-.94-2.06-.94L8.5 2.5l-.94 2.06-2.06.94zm10 10l.94 2.06.94-2.06 2.06-.94-2.06-.94-.94-2.06-.94 2.06-2.06.94z\"/><path d=\"M17.41 7.96l-1.37-1.37c-.4-.4-.92-.59-1.43-.59-.52 0-1.04.2-1.43.59L10.3 9.45l-7.72 7.72c-.78.78-.78 2.05 0 2.83L4 21.41c.39.39.9.59 1.41.59.51 0 1.02-.2 1.41-.59l7.78-7.78 2.81-2.81c.8-.78.8-2.07 0-2.86zM5.41 20L4 18.59l7.72-7.72 1.47 1.35L5.41 20z\"/>\n",
              "  </svg>\n",
              "      </button>\n",
              "      \n",
              "  <style>\n",
              "    .colab-df-container {\n",
              "      display:flex;\n",
              "      flex-wrap:wrap;\n",
              "      gap: 12px;\n",
              "    }\n",
              "\n",
              "    .colab-df-convert {\n",
              "      background-color: #E8F0FE;\n",
              "      border: none;\n",
              "      border-radius: 50%;\n",
              "      cursor: pointer;\n",
              "      display: none;\n",
              "      fill: #1967D2;\n",
              "      height: 32px;\n",
              "      padding: 0 0 0 0;\n",
              "      width: 32px;\n",
              "    }\n",
              "\n",
              "    .colab-df-convert:hover {\n",
              "      background-color: #E2EBFA;\n",
              "      box-shadow: 0px 1px 2px rgba(60, 64, 67, 0.3), 0px 1px 3px 1px rgba(60, 64, 67, 0.15);\n",
              "      fill: #174EA6;\n",
              "    }\n",
              "\n",
              "    [theme=dark] .colab-df-convert {\n",
              "      background-color: #3B4455;\n",
              "      fill: #D2E3FC;\n",
              "    }\n",
              "\n",
              "    [theme=dark] .colab-df-convert:hover {\n",
              "      background-color: #434B5C;\n",
              "      box-shadow: 0px 1px 3px 1px rgba(0, 0, 0, 0.15);\n",
              "      filter: drop-shadow(0px 1px 2px rgba(0, 0, 0, 0.3));\n",
              "      fill: #FFFFFF;\n",
              "    }\n",
              "  </style>\n",
              "\n",
              "      <script>\n",
              "        const buttonEl =\n",
              "          document.querySelector('#df-4709879b-47b1-45b4-8e64-8629d34e4433 button.colab-df-convert');\n",
              "        buttonEl.style.display =\n",
              "          google.colab.kernel.accessAllowed ? 'block' : 'none';\n",
              "\n",
              "        async function convertToInteractive(key) {\n",
              "          const element = document.querySelector('#df-4709879b-47b1-45b4-8e64-8629d34e4433');\n",
              "          const dataTable =\n",
              "            await google.colab.kernel.invokeFunction('convertToInteractive',\n",
              "                                                     [key], {});\n",
              "          if (!dataTable) return;\n",
              "\n",
              "          const docLinkHtml = 'Like what you see? Visit the ' +\n",
              "            '<a target=\"_blank\" href=https://colab.research.google.com/notebooks/data_table.ipynb>data table notebook</a>'\n",
              "            + ' to learn more about interactive tables.';\n",
              "          element.innerHTML = '';\n",
              "          dataTable['output_type'] = 'display_data';\n",
              "          await google.colab.output.renderOutput(dataTable, element);\n",
              "          const docLink = document.createElement('div');\n",
              "          docLink.innerHTML = docLinkHtml;\n",
              "          element.appendChild(docLink);\n",
              "        }\n",
              "      </script>\n",
              "    </div>\n",
              "  </div>\n",
              "  "
            ]
          },
          "metadata": {},
          "execution_count": 23
        }
      ],
      "source": [
        "# View top ten rated movies\n",
        "combined_df[['Name', 'Rating-Mean']].head(10)"
      ]
    },
    {
      "cell_type": "markdown",
      "metadata": {
        "id": "iFalvivYD1Is"
      },
      "source": [
        "## Q 8.1(b): Global Recommendation Systems (Weighted Rating)\n",
        "\n",
        "To tackle the problem of the unstable mean with few ratings e.g. IDMb uses a weighted rating. Many good ratings outweigh few in this algorithm.\n",
        "\n",
        "### Hint:\n",
        "\n",
        "Weighted Rating Formula\n",
        "\n",
        "weighted rating (𝑊𝑅)=(𝑣/(𝑣+𝑚))𝑅+(𝑚/(𝑣+𝑚))𝐶\n",
        "\n",
        "where:\n",
        "\n",
        "*𝑅* = average for the movie (mean) = (Rating)\n",
        "\n",
        "*𝑣* = number of votes for the movie = (votes)\n",
        "\n",
        "*𝑚* = minimum votes required \n",
        "\n",
        "*𝐶* = the mean vote across the whole report \n",
        "\n",
        "__Your Turn:__ Fill in the necessary code snippets below to build and test the model\n"
      ]
    },
    {
      "cell_type": "code",
      "execution_count": 24,
      "metadata": {
        "id": "GVfj7TPz24Fz"
      },
      "outputs": [],
      "source": [
        "# Number of minimum votes to be considered\n",
        "m = 1000\n",
        "\n",
        "# Mean rating for all movies\n",
        "C = df_p.stack().mean()\n",
        "\n",
        "# Mean rating for all movies separately\n",
        "R = df_p.mean(axis=0).values\n",
        "\n",
        "# Rating freqency for all movies separately\n",
        "v = df_p.count().values"
      ]
    },
    {
      "cell_type": "code",
      "execution_count": 28,
      "metadata": {
        "id": "Ntm_D7Yl24F1",
        "colab": {
          "base_uri": "https://localhost:8080/"
        },
        "outputId": "46e13513-3077-4a46-998e-1b775528d5d2"
      },
      "outputs": [
        {
          "output_type": "execute_result",
          "data": {
            "text/plain": [
              "(1741,)"
            ]
          },
          "metadata": {},
          "execution_count": 28
        }
      ],
      "source": [
        "# Weighted formula to compute the weighted rating\n",
        "weighted_score = (v/(v+m))*R +(m/(v+m))*C\n",
        "weighted_score.shape"
      ]
    },
    {
      "cell_type": "code",
      "execution_count": 40,
      "metadata": {
        "id": "YQe4smBk24F3",
        "colab": {
          "base_uri": "https://localhost:8080/",
          "height": 238
        },
        "outputId": "57d8847e-bb44-435e-9cb3-641d2d4d74fb"
      },
      "outputs": [
        {
          "output_type": "execute_result",
          "data": {
            "text/plain": [
              "      Year                          Name  Weighted_mean\n",
              "Id                                                     \n",
              "1   2003.0               Dinosaur Planet       3.428631\n",
              "2   2004.0    Isle of Man TT 2004 Review       3.428631\n",
              "3   1997.0                     Character       3.428631\n",
              "4   1994.0  Paula Abdul's Get Up & Dance       3.428631\n",
              "5   2004.0      The Rise and Fall of ECW       3.428631"
            ],
            "text/html": [
              "\n",
              "  <div id=\"df-5f683fa2-f54f-493f-bfd7-44febedad9c9\">\n",
              "    <div class=\"colab-df-container\">\n",
              "      <div>\n",
              "<style scoped>\n",
              "    .dataframe tbody tr th:only-of-type {\n",
              "        vertical-align: middle;\n",
              "    }\n",
              "\n",
              "    .dataframe tbody tr th {\n",
              "        vertical-align: top;\n",
              "    }\n",
              "\n",
              "    .dataframe thead th {\n",
              "        text-align: right;\n",
              "    }\n",
              "</style>\n",
              "<table border=\"1\" class=\"dataframe\">\n",
              "  <thead>\n",
              "    <tr style=\"text-align: right;\">\n",
              "      <th></th>\n",
              "      <th>Year</th>\n",
              "      <th>Name</th>\n",
              "      <th>Weighted_mean</th>\n",
              "    </tr>\n",
              "    <tr>\n",
              "      <th>Id</th>\n",
              "      <th></th>\n",
              "      <th></th>\n",
              "      <th></th>\n",
              "    </tr>\n",
              "  </thead>\n",
              "  <tbody>\n",
              "    <tr>\n",
              "      <th>1</th>\n",
              "      <td>2003.0</td>\n",
              "      <td>Dinosaur Planet</td>\n",
              "      <td>3.428631</td>\n",
              "    </tr>\n",
              "    <tr>\n",
              "      <th>2</th>\n",
              "      <td>2004.0</td>\n",
              "      <td>Isle of Man TT 2004 Review</td>\n",
              "      <td>3.428631</td>\n",
              "    </tr>\n",
              "    <tr>\n",
              "      <th>3</th>\n",
              "      <td>1997.0</td>\n",
              "      <td>Character</td>\n",
              "      <td>3.428631</td>\n",
              "    </tr>\n",
              "    <tr>\n",
              "      <th>4</th>\n",
              "      <td>1994.0</td>\n",
              "      <td>Paula Abdul's Get Up &amp; Dance</td>\n",
              "      <td>3.428631</td>\n",
              "    </tr>\n",
              "    <tr>\n",
              "      <th>5</th>\n",
              "      <td>2004.0</td>\n",
              "      <td>The Rise and Fall of ECW</td>\n",
              "      <td>3.428631</td>\n",
              "    </tr>\n",
              "  </tbody>\n",
              "</table>\n",
              "</div>\n",
              "      <button class=\"colab-df-convert\" onclick=\"convertToInteractive('df-5f683fa2-f54f-493f-bfd7-44febedad9c9')\"\n",
              "              title=\"Convert this dataframe to an interactive table.\"\n",
              "              style=\"display:none;\">\n",
              "        \n",
              "  <svg xmlns=\"http://www.w3.org/2000/svg\" height=\"24px\"viewBox=\"0 0 24 24\"\n",
              "       width=\"24px\">\n",
              "    <path d=\"M0 0h24v24H0V0z\" fill=\"none\"/>\n",
              "    <path d=\"M18.56 5.44l.94 2.06.94-2.06 2.06-.94-2.06-.94-.94-2.06-.94 2.06-2.06.94zm-11 1L8.5 8.5l.94-2.06 2.06-.94-2.06-.94L8.5 2.5l-.94 2.06-2.06.94zm10 10l.94 2.06.94-2.06 2.06-.94-2.06-.94-.94-2.06-.94 2.06-2.06.94z\"/><path d=\"M17.41 7.96l-1.37-1.37c-.4-.4-.92-.59-1.43-.59-.52 0-1.04.2-1.43.59L10.3 9.45l-7.72 7.72c-.78.78-.78 2.05 0 2.83L4 21.41c.39.39.9.59 1.41.59.51 0 1.02-.2 1.41-.59l7.78-7.78 2.81-2.81c.8-.78.8-2.07 0-2.86zM5.41 20L4 18.59l7.72-7.72 1.47 1.35L5.41 20z\"/>\n",
              "  </svg>\n",
              "      </button>\n",
              "      \n",
              "  <style>\n",
              "    .colab-df-container {\n",
              "      display:flex;\n",
              "      flex-wrap:wrap;\n",
              "      gap: 12px;\n",
              "    }\n",
              "\n",
              "    .colab-df-convert {\n",
              "      background-color: #E8F0FE;\n",
              "      border: none;\n",
              "      border-radius: 50%;\n",
              "      cursor: pointer;\n",
              "      display: none;\n",
              "      fill: #1967D2;\n",
              "      height: 32px;\n",
              "      padding: 0 0 0 0;\n",
              "      width: 32px;\n",
              "    }\n",
              "\n",
              "    .colab-df-convert:hover {\n",
              "      background-color: #E2EBFA;\n",
              "      box-shadow: 0px 1px 2px rgba(60, 64, 67, 0.3), 0px 1px 3px 1px rgba(60, 64, 67, 0.15);\n",
              "      fill: #174EA6;\n",
              "    }\n",
              "\n",
              "    [theme=dark] .colab-df-convert {\n",
              "      background-color: #3B4455;\n",
              "      fill: #D2E3FC;\n",
              "    }\n",
              "\n",
              "    [theme=dark] .colab-df-convert:hover {\n",
              "      background-color: #434B5C;\n",
              "      box-shadow: 0px 1px 3px 1px rgba(0, 0, 0, 0.15);\n",
              "      filter: drop-shadow(0px 1px 2px rgba(0, 0, 0, 0.3));\n",
              "      fill: #FFFFFF;\n",
              "    }\n",
              "  </style>\n",
              "\n",
              "      <script>\n",
              "        const buttonEl =\n",
              "          document.querySelector('#df-5f683fa2-f54f-493f-bfd7-44febedad9c9 button.colab-df-convert');\n",
              "        buttonEl.style.display =\n",
              "          google.colab.kernel.accessAllowed ? 'block' : 'none';\n",
              "\n",
              "        async function convertToInteractive(key) {\n",
              "          const element = document.querySelector('#df-5f683fa2-f54f-493f-bfd7-44febedad9c9');\n",
              "          const dataTable =\n",
              "            await google.colab.kernel.invokeFunction('convertToInteractive',\n",
              "                                                     [key], {});\n",
              "          if (!dataTable) return;\n",
              "\n",
              "          const docLinkHtml = 'Like what you see? Visit the ' +\n",
              "            '<a target=\"_blank\" href=https://colab.research.google.com/notebooks/data_table.ipynb>data table notebook</a>'\n",
              "            + ' to learn more about interactive tables.';\n",
              "          element.innerHTML = '';\n",
              "          dataTable['output_type'] = 'display_data';\n",
              "          await google.colab.output.renderOutput(dataTable, element);\n",
              "          const docLink = document.createElement('div');\n",
              "          docLink.innerHTML = docLinkHtml;\n",
              "          element.appendChild(docLink);\n",
              "        }\n",
              "      </script>\n",
              "    </div>\n",
              "  </div>\n",
              "  "
            ]
          },
          "metadata": {},
          "execution_count": 40
        }
      ],
      "source": [
        "# convert weighted_score into a dataframe\n",
        "weighted_mean = np.mean(weighted_score)\n",
        "\n",
        "# Combine the aggregated dataframes (weighted_mean & movie_titles)\n",
        "combined_df = movie_titles.copy()\n",
        "combined_df['Weighted_mean'] = weighted_mean\n",
        "combined_df.head(5)"
      ]
    },
    {
      "cell_type": "code",
      "execution_count": 48,
      "metadata": {
        "id": "jMd68xuj24F5",
        "colab": {
          "base_uri": "https://localhost:8080/",
          "height": 206
        },
        "outputId": "018e1bc3-fb1c-4975-9848-f5880f141cc2"
      },
      "outputs": [
        {
          "output_type": "execute_result",
          "data": {
            "text/plain": [
              "      User  Rating    Year       Name  Weighted_mean\n",
              "3   318409     2.0  1997.0  Character       3.428631\n",
              "3  1191821     3.0  1997.0  Character       3.428631\n",
              "3   299857     3.0  1997.0  Character       3.428631\n",
              "3   795638     5.0  1997.0  Character       3.428631\n",
              "3  1177340     4.0  1997.0  Character       3.428631"
            ],
            "text/html": [
              "\n",
              "  <div id=\"df-b9d68c3b-912d-4916-8c0f-3858ed81035c\">\n",
              "    <div class=\"colab-df-container\">\n",
              "      <div>\n",
              "<style scoped>\n",
              "    .dataframe tbody tr th:only-of-type {\n",
              "        vertical-align: middle;\n",
              "    }\n",
              "\n",
              "    .dataframe tbody tr th {\n",
              "        vertical-align: top;\n",
              "    }\n",
              "\n",
              "    .dataframe thead th {\n",
              "        text-align: right;\n",
              "    }\n",
              "</style>\n",
              "<table border=\"1\" class=\"dataframe\">\n",
              "  <thead>\n",
              "    <tr style=\"text-align: right;\">\n",
              "      <th></th>\n",
              "      <th>User</th>\n",
              "      <th>Rating</th>\n",
              "      <th>Year</th>\n",
              "      <th>Name</th>\n",
              "      <th>Weighted_mean</th>\n",
              "    </tr>\n",
              "  </thead>\n",
              "  <tbody>\n",
              "    <tr>\n",
              "      <th>3</th>\n",
              "      <td>318409</td>\n",
              "      <td>2.0</td>\n",
              "      <td>1997.0</td>\n",
              "      <td>Character</td>\n",
              "      <td>3.428631</td>\n",
              "    </tr>\n",
              "    <tr>\n",
              "      <th>3</th>\n",
              "      <td>1191821</td>\n",
              "      <td>3.0</td>\n",
              "      <td>1997.0</td>\n",
              "      <td>Character</td>\n",
              "      <td>3.428631</td>\n",
              "    </tr>\n",
              "    <tr>\n",
              "      <th>3</th>\n",
              "      <td>299857</td>\n",
              "      <td>3.0</td>\n",
              "      <td>1997.0</td>\n",
              "      <td>Character</td>\n",
              "      <td>3.428631</td>\n",
              "    </tr>\n",
              "    <tr>\n",
              "      <th>3</th>\n",
              "      <td>795638</td>\n",
              "      <td>5.0</td>\n",
              "      <td>1997.0</td>\n",
              "      <td>Character</td>\n",
              "      <td>3.428631</td>\n",
              "    </tr>\n",
              "    <tr>\n",
              "      <th>3</th>\n",
              "      <td>1177340</td>\n",
              "      <td>4.0</td>\n",
              "      <td>1997.0</td>\n",
              "      <td>Character</td>\n",
              "      <td>3.428631</td>\n",
              "    </tr>\n",
              "  </tbody>\n",
              "</table>\n",
              "</div>\n",
              "      <button class=\"colab-df-convert\" onclick=\"convertToInteractive('df-b9d68c3b-912d-4916-8c0f-3858ed81035c')\"\n",
              "              title=\"Convert this dataframe to an interactive table.\"\n",
              "              style=\"display:none;\">\n",
              "        \n",
              "  <svg xmlns=\"http://www.w3.org/2000/svg\" height=\"24px\"viewBox=\"0 0 24 24\"\n",
              "       width=\"24px\">\n",
              "    <path d=\"M0 0h24v24H0V0z\" fill=\"none\"/>\n",
              "    <path d=\"M18.56 5.44l.94 2.06.94-2.06 2.06-.94-2.06-.94-.94-2.06-.94 2.06-2.06.94zm-11 1L8.5 8.5l.94-2.06 2.06-.94-2.06-.94L8.5 2.5l-.94 2.06-2.06.94zm10 10l.94 2.06.94-2.06 2.06-.94-2.06-.94-.94-2.06-.94 2.06-2.06.94z\"/><path d=\"M17.41 7.96l-1.37-1.37c-.4-.4-.92-.59-1.43-.59-.52 0-1.04.2-1.43.59L10.3 9.45l-7.72 7.72c-.78.78-.78 2.05 0 2.83L4 21.41c.39.39.9.59 1.41.59.51 0 1.02-.2 1.41-.59l7.78-7.78 2.81-2.81c.8-.78.8-2.07 0-2.86zM5.41 20L4 18.59l7.72-7.72 1.47 1.35L5.41 20z\"/>\n",
              "  </svg>\n",
              "      </button>\n",
              "      \n",
              "  <style>\n",
              "    .colab-df-container {\n",
              "      display:flex;\n",
              "      flex-wrap:wrap;\n",
              "      gap: 12px;\n",
              "    }\n",
              "\n",
              "    .colab-df-convert {\n",
              "      background-color: #E8F0FE;\n",
              "      border: none;\n",
              "      border-radius: 50%;\n",
              "      cursor: pointer;\n",
              "      display: none;\n",
              "      fill: #1967D2;\n",
              "      height: 32px;\n",
              "      padding: 0 0 0 0;\n",
              "      width: 32px;\n",
              "    }\n",
              "\n",
              "    .colab-df-convert:hover {\n",
              "      background-color: #E2EBFA;\n",
              "      box-shadow: 0px 1px 2px rgba(60, 64, 67, 0.3), 0px 1px 3px 1px rgba(60, 64, 67, 0.15);\n",
              "      fill: #174EA6;\n",
              "    }\n",
              "\n",
              "    [theme=dark] .colab-df-convert {\n",
              "      background-color: #3B4455;\n",
              "      fill: #D2E3FC;\n",
              "    }\n",
              "\n",
              "    [theme=dark] .colab-df-convert:hover {\n",
              "      background-color: #434B5C;\n",
              "      box-shadow: 0px 1px 3px 1px rgba(0, 0, 0, 0.15);\n",
              "      filter: drop-shadow(0px 1px 2px rgba(0, 0, 0, 0.3));\n",
              "      fill: #FFFFFF;\n",
              "    }\n",
              "  </style>\n",
              "\n",
              "      <script>\n",
              "        const buttonEl =\n",
              "          document.querySelector('#df-b9d68c3b-912d-4916-8c0f-3858ed81035c button.colab-df-convert');\n",
              "        buttonEl.style.display =\n",
              "          google.colab.kernel.accessAllowed ? 'block' : 'none';\n",
              "\n",
              "        async function convertToInteractive(key) {\n",
              "          const element = document.querySelector('#df-b9d68c3b-912d-4916-8c0f-3858ed81035c');\n",
              "          const dataTable =\n",
              "            await google.colab.kernel.invokeFunction('convertToInteractive',\n",
              "                                                     [key], {});\n",
              "          if (!dataTable) return;\n",
              "\n",
              "          const docLinkHtml = 'Like what you see? Visit the ' +\n",
              "            '<a target=\"_blank\" href=https://colab.research.google.com/notebooks/data_table.ipynb>data table notebook</a>'\n",
              "            + ' to learn more about interactive tables.';\n",
              "          element.innerHTML = '';\n",
              "          dataTable['output_type'] = 'display_data';\n",
              "          await google.colab.output.renderOutput(dataTable, element);\n",
              "          const docLink = document.createElement('div');\n",
              "          docLink.innerHTML = docLinkHtml;\n",
              "          element.appendChild(docLink);\n",
              "        }\n",
              "      </script>\n",
              "    </div>\n",
              "  </div>\n",
              "  "
            ]
          },
          "metadata": {},
          "execution_count": 48
        }
      ],
      "source": [
        "# Join labels and predictions based on mean movie rating\n",
        "predictions_df = df_test.set_index('Movie').join(combined_df).dropna()\n",
        "predictions_df.head(5)"
      ]
    },
    {
      "cell_type": "code",
      "execution_count": 47,
      "metadata": {
        "id": "HdCxHIO424F8",
        "colab": {
          "base_uri": "https://localhost:8080/"
        },
        "outputId": "00ac9737-5eec-45c0-9fc3-72ae61207e38"
      },
      "outputs": [
        {
          "output_type": "stream",
          "name": "stdout",
          "text": [
            "The RMSE Value for the Mean Rating Recommender: 1.0794730333729161\n"
          ]
        }
      ],
      "source": [
        "# Compute RMSE\n",
        "y_true = predictions_df['Rating']\n",
        "y_pred = predictions_df['Weighted_mean']\n",
        "\n",
        "rmse = np.sqrt(mean_squared_error(y_true=y_true, y_pred=y_pred))\n",
        "print(\"The RMSE Value for the Mean Rating Recommender:\", rmse)"
      ]
    },
    {
      "cell_type": "code",
      "execution_count": 50,
      "metadata": {
        "id": "gt1Q5Mh124F-",
        "colab": {
          "base_uri": "https://localhost:8080/",
          "height": 363
        },
        "outputId": "2fe1afac-bc73-4882-c98b-dc6989055ef3"
      },
      "outputs": [
        {
          "output_type": "execute_result",
          "data": {
            "text/plain": [
              "                                          Name  Rating\n",
              "1585                                  Joy Ride     5.0\n",
              "3232                              The Enforcer     5.0\n",
              "4141                             Shanghai Noon     5.0\n",
              "1255                           Better Off Dead     5.0\n",
              "662                                    Rob Roy     5.0\n",
              "3523  Star Trek: The Next Generation: Season 6     5.0\n",
              "3817                                  Stargate     5.0\n",
              "3232                              The Enforcer     5.0\n",
              "2302                                  Clockers     5.0\n",
              "4141                             Shanghai Noon     5.0"
            ],
            "text/html": [
              "\n",
              "  <div id=\"df-14f548de-e7a4-4311-b606-164560d1c967\">\n",
              "    <div class=\"colab-df-container\">\n",
              "      <div>\n",
              "<style scoped>\n",
              "    .dataframe tbody tr th:only-of-type {\n",
              "        vertical-align: middle;\n",
              "    }\n",
              "\n",
              "    .dataframe tbody tr th {\n",
              "        vertical-align: top;\n",
              "    }\n",
              "\n",
              "    .dataframe thead th {\n",
              "        text-align: right;\n",
              "    }\n",
              "</style>\n",
              "<table border=\"1\" class=\"dataframe\">\n",
              "  <thead>\n",
              "    <tr style=\"text-align: right;\">\n",
              "      <th></th>\n",
              "      <th>Name</th>\n",
              "      <th>Rating</th>\n",
              "    </tr>\n",
              "  </thead>\n",
              "  <tbody>\n",
              "    <tr>\n",
              "      <th>1585</th>\n",
              "      <td>Joy Ride</td>\n",
              "      <td>5.0</td>\n",
              "    </tr>\n",
              "    <tr>\n",
              "      <th>3232</th>\n",
              "      <td>The Enforcer</td>\n",
              "      <td>5.0</td>\n",
              "    </tr>\n",
              "    <tr>\n",
              "      <th>4141</th>\n",
              "      <td>Shanghai Noon</td>\n",
              "      <td>5.0</td>\n",
              "    </tr>\n",
              "    <tr>\n",
              "      <th>1255</th>\n",
              "      <td>Better Off Dead</td>\n",
              "      <td>5.0</td>\n",
              "    </tr>\n",
              "    <tr>\n",
              "      <th>662</th>\n",
              "      <td>Rob Roy</td>\n",
              "      <td>5.0</td>\n",
              "    </tr>\n",
              "    <tr>\n",
              "      <th>3523</th>\n",
              "      <td>Star Trek: The Next Generation: Season 6</td>\n",
              "      <td>5.0</td>\n",
              "    </tr>\n",
              "    <tr>\n",
              "      <th>3817</th>\n",
              "      <td>Stargate</td>\n",
              "      <td>5.0</td>\n",
              "    </tr>\n",
              "    <tr>\n",
              "      <th>3232</th>\n",
              "      <td>The Enforcer</td>\n",
              "      <td>5.0</td>\n",
              "    </tr>\n",
              "    <tr>\n",
              "      <th>2302</th>\n",
              "      <td>Clockers</td>\n",
              "      <td>5.0</td>\n",
              "    </tr>\n",
              "    <tr>\n",
              "      <th>4141</th>\n",
              "      <td>Shanghai Noon</td>\n",
              "      <td>5.0</td>\n",
              "    </tr>\n",
              "  </tbody>\n",
              "</table>\n",
              "</div>\n",
              "      <button class=\"colab-df-convert\" onclick=\"convertToInteractive('df-14f548de-e7a4-4311-b606-164560d1c967')\"\n",
              "              title=\"Convert this dataframe to an interactive table.\"\n",
              "              style=\"display:none;\">\n",
              "        \n",
              "  <svg xmlns=\"http://www.w3.org/2000/svg\" height=\"24px\"viewBox=\"0 0 24 24\"\n",
              "       width=\"24px\">\n",
              "    <path d=\"M0 0h24v24H0V0z\" fill=\"none\"/>\n",
              "    <path d=\"M18.56 5.44l.94 2.06.94-2.06 2.06-.94-2.06-.94-.94-2.06-.94 2.06-2.06.94zm-11 1L8.5 8.5l.94-2.06 2.06-.94-2.06-.94L8.5 2.5l-.94 2.06-2.06.94zm10 10l.94 2.06.94-2.06 2.06-.94-2.06-.94-.94-2.06-.94 2.06-2.06.94z\"/><path d=\"M17.41 7.96l-1.37-1.37c-.4-.4-.92-.59-1.43-.59-.52 0-1.04.2-1.43.59L10.3 9.45l-7.72 7.72c-.78.78-.78 2.05 0 2.83L4 21.41c.39.39.9.59 1.41.59.51 0 1.02-.2 1.41-.59l7.78-7.78 2.81-2.81c.8-.78.8-2.07 0-2.86zM5.41 20L4 18.59l7.72-7.72 1.47 1.35L5.41 20z\"/>\n",
              "  </svg>\n",
              "      </button>\n",
              "      \n",
              "  <style>\n",
              "    .colab-df-container {\n",
              "      display:flex;\n",
              "      flex-wrap:wrap;\n",
              "      gap: 12px;\n",
              "    }\n",
              "\n",
              "    .colab-df-convert {\n",
              "      background-color: #E8F0FE;\n",
              "      border: none;\n",
              "      border-radius: 50%;\n",
              "      cursor: pointer;\n",
              "      display: none;\n",
              "      fill: #1967D2;\n",
              "      height: 32px;\n",
              "      padding: 0 0 0 0;\n",
              "      width: 32px;\n",
              "    }\n",
              "\n",
              "    .colab-df-convert:hover {\n",
              "      background-color: #E2EBFA;\n",
              "      box-shadow: 0px 1px 2px rgba(60, 64, 67, 0.3), 0px 1px 3px 1px rgba(60, 64, 67, 0.15);\n",
              "      fill: #174EA6;\n",
              "    }\n",
              "\n",
              "    [theme=dark] .colab-df-convert {\n",
              "      background-color: #3B4455;\n",
              "      fill: #D2E3FC;\n",
              "    }\n",
              "\n",
              "    [theme=dark] .colab-df-convert:hover {\n",
              "      background-color: #434B5C;\n",
              "      box-shadow: 0px 1px 3px 1px rgba(0, 0, 0, 0.15);\n",
              "      filter: drop-shadow(0px 1px 2px rgba(0, 0, 0, 0.3));\n",
              "      fill: #FFFFFF;\n",
              "    }\n",
              "  </style>\n",
              "\n",
              "      <script>\n",
              "        const buttonEl =\n",
              "          document.querySelector('#df-14f548de-e7a4-4311-b606-164560d1c967 button.colab-df-convert');\n",
              "        buttonEl.style.display =\n",
              "          google.colab.kernel.accessAllowed ? 'block' : 'none';\n",
              "\n",
              "        async function convertToInteractive(key) {\n",
              "          const element = document.querySelector('#df-14f548de-e7a4-4311-b606-164560d1c967');\n",
              "          const dataTable =\n",
              "            await google.colab.kernel.invokeFunction('convertToInteractive',\n",
              "                                                     [key], {});\n",
              "          if (!dataTable) return;\n",
              "\n",
              "          const docLinkHtml = 'Like what you see? Visit the ' +\n",
              "            '<a target=\"_blank\" href=https://colab.research.google.com/notebooks/data_table.ipynb>data table notebook</a>'\n",
              "            + ' to learn more about interactive tables.';\n",
              "          element.innerHTML = '';\n",
              "          dataTable['output_type'] = 'display_data';\n",
              "          await google.colab.output.renderOutput(dataTable, element);\n",
              "          const docLink = document.createElement('div');\n",
              "          docLink.innerHTML = docLinkHtml;\n",
              "          element.appendChild(docLink);\n",
              "        }\n",
              "      </script>\n",
              "    </div>\n",
              "  </div>\n",
              "  "
            ]
          },
          "metadata": {},
          "execution_count": 50
        }
      ],
      "source": [
        "# View top ten rated movies\n",
        "predictions_df.sort_values('Rating', ascending=False)[['Name', 'Rating']].head(10)"
      ]
    },
    {
      "cell_type": "markdown",
      "metadata": {
        "id": "SXa7l21yE-eY"
      },
      "source": [
        "The variable \"m\" can be seen as regularizing parameter. Changing it determines how much weight is put onto the movies with many ratings.\n",
        "Even if there is a better ranking the RMSE decreased slightly. There is a trade-off between interpretability and predictive power."
      ]
    },
    {
      "cell_type": "markdown",
      "metadata": {
        "id": "0KRZO1u_24GB"
      },
      "source": [
        "## 8.2: Content Based Recommendation Systems\n",
        "\n",
        "\n",
        "The Content-Based Recommender relies on the similarity of the items being recommended. The basic idea is that if you like an item, then you will also like a “similar” item. It generally works well when it’s easy to determine the context/properties of each item. If there is no historical data for a user or there is reliable metadata for each movie, it can be useful to compare the metadata of the movies to find similar ones.\n",
        "\n",
        "![](./images/Content-based.png)"
      ]
    },
    {
      "cell_type": "markdown",
      "metadata": {
        "id": "5WovG-3YFSqo"
      },
      "source": [
        "### Cosine TFIDF Movie Description Similarity"
      ]
    },
    {
      "cell_type": "markdown",
      "metadata": {
        "id": "eldw_9lpNfUJ"
      },
      "source": [
        "#### TF-IDF \n",
        "\n",
        "This is a text vectorization technique which is used to determine the relative importance of a document / article / news item / movie etc.\n",
        "\n",
        "TF is simply the frequency of a word in a document. \n",
        "\n",
        "IDF is the inverse of the document frequency among the whole corpus of documents. \n",
        "\n",
        "TF-IDF is used mainly because of two reasons: Suppose we search for “the results of latest European Socccer games” on Google. It is certain that “the” will occur more frequently than “soccer games” but the relative importance of soccer games is higher than the search query point of view. \n",
        "\n",
        "In such cases, TF-IDF weighting negates the effect of high frequency words in determining the importance of an item (document).\n",
        "\n",
        "![](./images/TF-IDF-FORMULA.png)\n"
      ]
    },
    {
      "cell_type": "markdown",
      "metadata": {
        "id": "Trb9DlZxOYGO"
      },
      "source": [
        "#### Cosine Similarity \n",
        "After calculating TF-IDF scores, how do we determine which items are closer to each other, rather closer to the user profile? This is accomplished using the Vector Space Model which computes the proximity based on the angle between the vectors.\n",
        "\n",
        "Consider the following example\n",
        "\n",
        "![](./images/vector-space-model.png)\n",
        "\n",
        "Sentence 2 is more likely to be using Term 2 than using Term 1. Vice-versa for Sentence 1. \n",
        "\n",
        "The method of calculating this relative measure is calculated by taking the cosine of the angle between the sentences and the terms. \n",
        "\n",
        "The ultimate reason behind using cosine is that the value of cosine will increase with decreasing value of the angle between which signifies more similarity. \n",
        "\n",
        "The vectors are length normalized after which they become vectors of length 1 and then the cosine calculation is simply the sum-product of vectors."
      ]
    },
    {
      "cell_type": "markdown",
      "metadata": {
        "id": "4Cm9mjG-PSr3"
      },
      "source": [
        "In this approch we will use the movie description to create a TFIDF-matrix, which counts and weights words in all descriptions, and compute a cosine similarity between all of those sparse text-vectors. This can easily be extended to more or different features if you like.\n",
        "It is impossible for this model to compute a RMSE score, since the model does not recommend the movies directly.\n",
        "In this way it is possible to find movies closly related to each other.\n",
        "\n",
        "This approach of content based filtering can be extendend to increase the model performance by adding some more features like genres, cast, crew etc."
      ]
    },
    {
      "cell_type": "code",
      "execution_count": 51,
      "metadata": {
        "id": "AdEeBvSf24GE",
        "colab": {
          "base_uri": "https://localhost:8080/"
        },
        "outputId": "8d6d3cd3-5c6f-482e-dcf2-36b122d2c981"
      },
      "outputs": [
        {
          "output_type": "execute_result",
          "data": {
            "text/plain": [
              "original_title\n",
              "Toy Story                      Led by Woody, Andy's toys live happily in his ...\n",
              "Jumanji                        When siblings Judy and Peter discover an encha...\n",
              "Grumpier Old Men               A family wedding reignites the ancient feud be...\n",
              "Waiting to Exhale              Cheated on, mistreated and stepped on, the wom...\n",
              "Father of the Bride Part II    Just when George Banks has recovered from his ...\n",
              "Name: overview, dtype: object"
            ]
          },
          "metadata": {},
          "execution_count": 51
        }
      ],
      "source": [
        "# view sample movie descriptions\n",
        "movie_metadata['overview'].head(5)"
      ]
    },
    {
      "cell_type": "code",
      "execution_count": 52,
      "metadata": {
        "id": "DiiwYdQj24GG"
      },
      "outputs": [],
      "source": [
        "# Create tf-idf matrix for text comparison\n",
        "tfidf = TfidfVectorizer(stop_words='english')\n",
        "tfidf_matrix = tfidf.fit_transform(movie_metadata['overview']) "
      ]
    },
    {
      "cell_type": "code",
      "execution_count": 53,
      "metadata": {
        "id": "VU3Kr_OJ24GK",
        "colab": {
          "base_uri": "https://localhost:8080/",
          "height": 593
        },
        "outputId": "746ab633-5671-4cb1-f9cb-f223ee982fb4"
      },
      "outputs": [
        {
          "output_type": "execute_result",
          "data": {
            "text/plain": [
              "                             Toy Story   Jumanji  Grumpier Old Men  \\\n",
              "Toy Story                     1.000000  0.015385          0.000000   \n",
              "Jumanji                       0.015385  1.000000          0.046854   \n",
              "Grumpier Old Men              0.000000  0.046854          1.000000   \n",
              "Waiting to Exhale             0.000000  0.000000          0.000000   \n",
              "Father of the Bride Part II   0.000000  0.000000          0.023903   \n",
              "Heat                          0.000000  0.047646          0.000000   \n",
              "Sabrina                       0.000000  0.000000          0.000000   \n",
              "Tom and Huck                  0.000000  0.000000          0.006463   \n",
              "Sudden Death                  0.000000  0.098488          0.000000   \n",
              "GoldenEye                     0.000000  0.000000          0.000000   \n",
              "\n",
              "                             Waiting to Exhale  Father of the Bride Part II  \\\n",
              "Toy Story                             0.000000                     0.000000   \n",
              "Jumanji                               0.000000                     0.000000   \n",
              "Grumpier Old Men                      0.000000                     0.023903   \n",
              "Waiting to Exhale                     1.000000                     0.000000   \n",
              "Father of the Bride Part II           0.000000                     1.000000   \n",
              "Heat                                  0.007417                     0.000000   \n",
              "Sabrina                               0.000000                     0.030866   \n",
              "Tom and Huck                          0.008592                     0.000000   \n",
              "Sudden Death                          0.000000                     0.033213   \n",
              "GoldenEye                             0.000000                     0.000000   \n",
              "\n",
              "                                 Heat   Sabrina  Tom and Huck  Sudden Death  \\\n",
              "Toy Story                    0.000000  0.000000      0.000000      0.000000   \n",
              "Jumanji                      0.047646  0.000000      0.000000      0.098488   \n",
              "Grumpier Old Men             0.000000  0.000000      0.006463      0.000000   \n",
              "Waiting to Exhale            0.007417  0.000000      0.008592      0.000000   \n",
              "Father of the Bride Part II  0.000000  0.030866      0.000000      0.033213   \n",
              "Heat                         1.000000  0.000000      0.000000      0.046349   \n",
              "Sabrina                      0.000000  1.000000      0.000000      0.000000   \n",
              "Tom and Huck                 0.000000  0.000000      1.000000      0.000000   \n",
              "Sudden Death                 0.046349  0.000000      0.000000      1.000000   \n",
              "GoldenEye                    0.000000  0.000000      0.000000      0.000000   \n",
              "\n",
              "                             GoldenEye  ...  The Final Storm  In a Heartbeat  \\\n",
              "Toy Story                          0.0  ...         0.000000        0.023356   \n",
              "Jumanji                            0.0  ...         0.000000        0.000000   \n",
              "Grumpier Old Men                   0.0  ...         0.000000        0.000000   \n",
              "Waiting to Exhale                  0.0  ...         0.028460        0.000000   \n",
              "Father of the Bride Part II        0.0  ...         0.000000        0.000000   \n",
              "Heat                               0.0  ...         0.000000        0.000000   \n",
              "Sabrina                            0.0  ...         0.000000        0.000000   \n",
              "Tom and Huck                       0.0  ...         0.164136        0.071019   \n",
              "Sudden Death                       0.0  ...         0.000000        0.000000   \n",
              "GoldenEye                          1.0  ...         0.043867        0.000000   \n",
              "\n",
              "                             Bloed, Zweet en Tranen  To Be Fat Like Me  \\\n",
              "Toy Story                                       0.0           0.000000   \n",
              "Jumanji                                         0.0           0.004192   \n",
              "Grumpier Old Men                                0.0           0.000000   \n",
              "Waiting to Exhale                               0.0           0.000000   \n",
              "Father of the Bride Part II                     0.0           0.022816   \n",
              "Heat                                            0.0           0.000000   \n",
              "Sabrina                                         0.0           0.028344   \n",
              "Tom and Huck                                    0.0           0.000000   \n",
              "Sudden Death                                    0.0           0.000000   \n",
              "GoldenEye                                       0.0           0.000000   \n",
              "\n",
              "                             Cadet Kelly  L'Homme à la tête de caoutchouc  \\\n",
              "Toy Story                            0.0                         0.000000   \n",
              "Jumanji                              0.0                         0.014642   \n",
              "Grumpier Old Men                     0.0                         0.015409   \n",
              "Waiting to Exhale                    0.0                         0.000000   \n",
              "Father of the Bride Part II          0.0                         0.000000   \n",
              "Heat                                 0.0                         0.000000   \n",
              "Sabrina                              0.0                         0.000000   \n",
              "Tom and Huck                         0.0                         0.000000   \n",
              "Sudden Death                         0.0                         0.000000   \n",
              "GoldenEye                            0.0                         0.076444   \n",
              "\n",
              "                             Le locataire diabolique  L'Homme orchestre  \\\n",
              "Toy Story                                   0.000000           0.000000   \n",
              "Jumanji                                     0.000000           0.000000   \n",
              "Grumpier Old Men                            0.000000           0.000000   \n",
              "Waiting to Exhale                           0.016324           0.006840   \n",
              "Father of the Bride Part II                 0.000000           0.000000   \n",
              "Heat                                        0.015837           0.000000   \n",
              "Sabrina                                     0.105139           0.000000   \n",
              "Tom and Huck                                0.000000           0.000000   \n",
              "Sudden Death                                0.000000           0.000000   \n",
              "GoldenEye                                   0.000000           0.016266   \n",
              "\n",
              "                                  Maa  Robin Hood  \n",
              "Toy Story                    0.000000         0.0  \n",
              "Jumanji                      0.000000         0.0  \n",
              "Grumpier Old Men             0.007101         0.0  \n",
              "Waiting to Exhale            0.000000         0.0  \n",
              "Father of the Bride Part II  0.012584         0.0  \n",
              "Heat                         0.000000         0.0  \n",
              "Sabrina                      0.000000         0.0  \n",
              "Tom and Huck                 0.006162         0.0  \n",
              "Sudden Death                 0.014963         0.0  \n",
              "GoldenEye                    0.000000         0.0  \n",
              "\n",
              "[10 rows x 21604 columns]"
            ],
            "text/html": [
              "\n",
              "  <div id=\"df-4573820f-8073-40bd-b006-07862c4ac1f2\">\n",
              "    <div class=\"colab-df-container\">\n",
              "      <div>\n",
              "<style scoped>\n",
              "    .dataframe tbody tr th:only-of-type {\n",
              "        vertical-align: middle;\n",
              "    }\n",
              "\n",
              "    .dataframe tbody tr th {\n",
              "        vertical-align: top;\n",
              "    }\n",
              "\n",
              "    .dataframe thead th {\n",
              "        text-align: right;\n",
              "    }\n",
              "</style>\n",
              "<table border=\"1\" class=\"dataframe\">\n",
              "  <thead>\n",
              "    <tr style=\"text-align: right;\">\n",
              "      <th></th>\n",
              "      <th>Toy Story</th>\n",
              "      <th>Jumanji</th>\n",
              "      <th>Grumpier Old Men</th>\n",
              "      <th>Waiting to Exhale</th>\n",
              "      <th>Father of the Bride Part II</th>\n",
              "      <th>Heat</th>\n",
              "      <th>Sabrina</th>\n",
              "      <th>Tom and Huck</th>\n",
              "      <th>Sudden Death</th>\n",
              "      <th>GoldenEye</th>\n",
              "      <th>...</th>\n",
              "      <th>The Final Storm</th>\n",
              "      <th>In a Heartbeat</th>\n",
              "      <th>Bloed, Zweet en Tranen</th>\n",
              "      <th>To Be Fat Like Me</th>\n",
              "      <th>Cadet Kelly</th>\n",
              "      <th>L'Homme à la tête de caoutchouc</th>\n",
              "      <th>Le locataire diabolique</th>\n",
              "      <th>L'Homme orchestre</th>\n",
              "      <th>Maa</th>\n",
              "      <th>Robin Hood</th>\n",
              "    </tr>\n",
              "  </thead>\n",
              "  <tbody>\n",
              "    <tr>\n",
              "      <th>Toy Story</th>\n",
              "      <td>1.000000</td>\n",
              "      <td>0.015385</td>\n",
              "      <td>0.000000</td>\n",
              "      <td>0.000000</td>\n",
              "      <td>0.000000</td>\n",
              "      <td>0.000000</td>\n",
              "      <td>0.000000</td>\n",
              "      <td>0.000000</td>\n",
              "      <td>0.000000</td>\n",
              "      <td>0.0</td>\n",
              "      <td>...</td>\n",
              "      <td>0.000000</td>\n",
              "      <td>0.023356</td>\n",
              "      <td>0.0</td>\n",
              "      <td>0.000000</td>\n",
              "      <td>0.0</td>\n",
              "      <td>0.000000</td>\n",
              "      <td>0.000000</td>\n",
              "      <td>0.000000</td>\n",
              "      <td>0.000000</td>\n",
              "      <td>0.0</td>\n",
              "    </tr>\n",
              "    <tr>\n",
              "      <th>Jumanji</th>\n",
              "      <td>0.015385</td>\n",
              "      <td>1.000000</td>\n",
              "      <td>0.046854</td>\n",
              "      <td>0.000000</td>\n",
              "      <td>0.000000</td>\n",
              "      <td>0.047646</td>\n",
              "      <td>0.000000</td>\n",
              "      <td>0.000000</td>\n",
              "      <td>0.098488</td>\n",
              "      <td>0.0</td>\n",
              "      <td>...</td>\n",
              "      <td>0.000000</td>\n",
              "      <td>0.000000</td>\n",
              "      <td>0.0</td>\n",
              "      <td>0.004192</td>\n",
              "      <td>0.0</td>\n",
              "      <td>0.014642</td>\n",
              "      <td>0.000000</td>\n",
              "      <td>0.000000</td>\n",
              "      <td>0.000000</td>\n",
              "      <td>0.0</td>\n",
              "    </tr>\n",
              "    <tr>\n",
              "      <th>Grumpier Old Men</th>\n",
              "      <td>0.000000</td>\n",
              "      <td>0.046854</td>\n",
              "      <td>1.000000</td>\n",
              "      <td>0.000000</td>\n",
              "      <td>0.023903</td>\n",
              "      <td>0.000000</td>\n",
              "      <td>0.000000</td>\n",
              "      <td>0.006463</td>\n",
              "      <td>0.000000</td>\n",
              "      <td>0.0</td>\n",
              "      <td>...</td>\n",
              "      <td>0.000000</td>\n",
              "      <td>0.000000</td>\n",
              "      <td>0.0</td>\n",
              "      <td>0.000000</td>\n",
              "      <td>0.0</td>\n",
              "      <td>0.015409</td>\n",
              "      <td>0.000000</td>\n",
              "      <td>0.000000</td>\n",
              "      <td>0.007101</td>\n",
              "      <td>0.0</td>\n",
              "    </tr>\n",
              "    <tr>\n",
              "      <th>Waiting to Exhale</th>\n",
              "      <td>0.000000</td>\n",
              "      <td>0.000000</td>\n",
              "      <td>0.000000</td>\n",
              "      <td>1.000000</td>\n",
              "      <td>0.000000</td>\n",
              "      <td>0.007417</td>\n",
              "      <td>0.000000</td>\n",
              "      <td>0.008592</td>\n",
              "      <td>0.000000</td>\n",
              "      <td>0.0</td>\n",
              "      <td>...</td>\n",
              "      <td>0.028460</td>\n",
              "      <td>0.000000</td>\n",
              "      <td>0.0</td>\n",
              "      <td>0.000000</td>\n",
              "      <td>0.0</td>\n",
              "      <td>0.000000</td>\n",
              "      <td>0.016324</td>\n",
              "      <td>0.006840</td>\n",
              "      <td>0.000000</td>\n",
              "      <td>0.0</td>\n",
              "    </tr>\n",
              "    <tr>\n",
              "      <th>Father of the Bride Part II</th>\n",
              "      <td>0.000000</td>\n",
              "      <td>0.000000</td>\n",
              "      <td>0.023903</td>\n",
              "      <td>0.000000</td>\n",
              "      <td>1.000000</td>\n",
              "      <td>0.000000</td>\n",
              "      <td>0.030866</td>\n",
              "      <td>0.000000</td>\n",
              "      <td>0.033213</td>\n",
              "      <td>0.0</td>\n",
              "      <td>...</td>\n",
              "      <td>0.000000</td>\n",
              "      <td>0.000000</td>\n",
              "      <td>0.0</td>\n",
              "      <td>0.022816</td>\n",
              "      <td>0.0</td>\n",
              "      <td>0.000000</td>\n",
              "      <td>0.000000</td>\n",
              "      <td>0.000000</td>\n",
              "      <td>0.012584</td>\n",
              "      <td>0.0</td>\n",
              "    </tr>\n",
              "    <tr>\n",
              "      <th>Heat</th>\n",
              "      <td>0.000000</td>\n",
              "      <td>0.047646</td>\n",
              "      <td>0.000000</td>\n",
              "      <td>0.007417</td>\n",
              "      <td>0.000000</td>\n",
              "      <td>1.000000</td>\n",
              "      <td>0.000000</td>\n",
              "      <td>0.000000</td>\n",
              "      <td>0.046349</td>\n",
              "      <td>0.0</td>\n",
              "      <td>...</td>\n",
              "      <td>0.000000</td>\n",
              "      <td>0.000000</td>\n",
              "      <td>0.0</td>\n",
              "      <td>0.000000</td>\n",
              "      <td>0.0</td>\n",
              "      <td>0.000000</td>\n",
              "      <td>0.015837</td>\n",
              "      <td>0.000000</td>\n",
              "      <td>0.000000</td>\n",
              "      <td>0.0</td>\n",
              "    </tr>\n",
              "    <tr>\n",
              "      <th>Sabrina</th>\n",
              "      <td>0.000000</td>\n",
              "      <td>0.000000</td>\n",
              "      <td>0.000000</td>\n",
              "      <td>0.000000</td>\n",
              "      <td>0.030866</td>\n",
              "      <td>0.000000</td>\n",
              "      <td>1.000000</td>\n",
              "      <td>0.000000</td>\n",
              "      <td>0.000000</td>\n",
              "      <td>0.0</td>\n",
              "      <td>...</td>\n",
              "      <td>0.000000</td>\n",
              "      <td>0.000000</td>\n",
              "      <td>0.0</td>\n",
              "      <td>0.028344</td>\n",
              "      <td>0.0</td>\n",
              "      <td>0.000000</td>\n",
              "      <td>0.105139</td>\n",
              "      <td>0.000000</td>\n",
              "      <td>0.000000</td>\n",
              "      <td>0.0</td>\n",
              "    </tr>\n",
              "    <tr>\n",
              "      <th>Tom and Huck</th>\n",
              "      <td>0.000000</td>\n",
              "      <td>0.000000</td>\n",
              "      <td>0.006463</td>\n",
              "      <td>0.008592</td>\n",
              "      <td>0.000000</td>\n",
              "      <td>0.000000</td>\n",
              "      <td>0.000000</td>\n",
              "      <td>1.000000</td>\n",
              "      <td>0.000000</td>\n",
              "      <td>0.0</td>\n",
              "      <td>...</td>\n",
              "      <td>0.164136</td>\n",
              "      <td>0.071019</td>\n",
              "      <td>0.0</td>\n",
              "      <td>0.000000</td>\n",
              "      <td>0.0</td>\n",
              "      <td>0.000000</td>\n",
              "      <td>0.000000</td>\n",
              "      <td>0.000000</td>\n",
              "      <td>0.006162</td>\n",
              "      <td>0.0</td>\n",
              "    </tr>\n",
              "    <tr>\n",
              "      <th>Sudden Death</th>\n",
              "      <td>0.000000</td>\n",
              "      <td>0.098488</td>\n",
              "      <td>0.000000</td>\n",
              "      <td>0.000000</td>\n",
              "      <td>0.033213</td>\n",
              "      <td>0.046349</td>\n",
              "      <td>0.000000</td>\n",
              "      <td>0.000000</td>\n",
              "      <td>1.000000</td>\n",
              "      <td>0.0</td>\n",
              "      <td>...</td>\n",
              "      <td>0.000000</td>\n",
              "      <td>0.000000</td>\n",
              "      <td>0.0</td>\n",
              "      <td>0.000000</td>\n",
              "      <td>0.0</td>\n",
              "      <td>0.000000</td>\n",
              "      <td>0.000000</td>\n",
              "      <td>0.000000</td>\n",
              "      <td>0.014963</td>\n",
              "      <td>0.0</td>\n",
              "    </tr>\n",
              "    <tr>\n",
              "      <th>GoldenEye</th>\n",
              "      <td>0.000000</td>\n",
              "      <td>0.000000</td>\n",
              "      <td>0.000000</td>\n",
              "      <td>0.000000</td>\n",
              "      <td>0.000000</td>\n",
              "      <td>0.000000</td>\n",
              "      <td>0.000000</td>\n",
              "      <td>0.000000</td>\n",
              "      <td>0.000000</td>\n",
              "      <td>1.0</td>\n",
              "      <td>...</td>\n",
              "      <td>0.043867</td>\n",
              "      <td>0.000000</td>\n",
              "      <td>0.0</td>\n",
              "      <td>0.000000</td>\n",
              "      <td>0.0</td>\n",
              "      <td>0.076444</td>\n",
              "      <td>0.000000</td>\n",
              "      <td>0.016266</td>\n",
              "      <td>0.000000</td>\n",
              "      <td>0.0</td>\n",
              "    </tr>\n",
              "  </tbody>\n",
              "</table>\n",
              "<p>10 rows × 21604 columns</p>\n",
              "</div>\n",
              "      <button class=\"colab-df-convert\" onclick=\"convertToInteractive('df-4573820f-8073-40bd-b006-07862c4ac1f2')\"\n",
              "              title=\"Convert this dataframe to an interactive table.\"\n",
              "              style=\"display:none;\">\n",
              "        \n",
              "  <svg xmlns=\"http://www.w3.org/2000/svg\" height=\"24px\"viewBox=\"0 0 24 24\"\n",
              "       width=\"24px\">\n",
              "    <path d=\"M0 0h24v24H0V0z\" fill=\"none\"/>\n",
              "    <path d=\"M18.56 5.44l.94 2.06.94-2.06 2.06-.94-2.06-.94-.94-2.06-.94 2.06-2.06.94zm-11 1L8.5 8.5l.94-2.06 2.06-.94-2.06-.94L8.5 2.5l-.94 2.06-2.06.94zm10 10l.94 2.06.94-2.06 2.06-.94-2.06-.94-.94-2.06-.94 2.06-2.06.94z\"/><path d=\"M17.41 7.96l-1.37-1.37c-.4-.4-.92-.59-1.43-.59-.52 0-1.04.2-1.43.59L10.3 9.45l-7.72 7.72c-.78.78-.78 2.05 0 2.83L4 21.41c.39.39.9.59 1.41.59.51 0 1.02-.2 1.41-.59l7.78-7.78 2.81-2.81c.8-.78.8-2.07 0-2.86zM5.41 20L4 18.59l7.72-7.72 1.47 1.35L5.41 20z\"/>\n",
              "  </svg>\n",
              "      </button>\n",
              "      \n",
              "  <style>\n",
              "    .colab-df-container {\n",
              "      display:flex;\n",
              "      flex-wrap:wrap;\n",
              "      gap: 12px;\n",
              "    }\n",
              "\n",
              "    .colab-df-convert {\n",
              "      background-color: #E8F0FE;\n",
              "      border: none;\n",
              "      border-radius: 50%;\n",
              "      cursor: pointer;\n",
              "      display: none;\n",
              "      fill: #1967D2;\n",
              "      height: 32px;\n",
              "      padding: 0 0 0 0;\n",
              "      width: 32px;\n",
              "    }\n",
              "\n",
              "    .colab-df-convert:hover {\n",
              "      background-color: #E2EBFA;\n",
              "      box-shadow: 0px 1px 2px rgba(60, 64, 67, 0.3), 0px 1px 3px 1px rgba(60, 64, 67, 0.15);\n",
              "      fill: #174EA6;\n",
              "    }\n",
              "\n",
              "    [theme=dark] .colab-df-convert {\n",
              "      background-color: #3B4455;\n",
              "      fill: #D2E3FC;\n",
              "    }\n",
              "\n",
              "    [theme=dark] .colab-df-convert:hover {\n",
              "      background-color: #434B5C;\n",
              "      box-shadow: 0px 1px 3px 1px rgba(0, 0, 0, 0.15);\n",
              "      filter: drop-shadow(0px 1px 2px rgba(0, 0, 0, 0.3));\n",
              "      fill: #FFFFFF;\n",
              "    }\n",
              "  </style>\n",
              "\n",
              "      <script>\n",
              "        const buttonEl =\n",
              "          document.querySelector('#df-4573820f-8073-40bd-b006-07862c4ac1f2 button.colab-df-convert');\n",
              "        buttonEl.style.display =\n",
              "          google.colab.kernel.accessAllowed ? 'block' : 'none';\n",
              "\n",
              "        async function convertToInteractive(key) {\n",
              "          const element = document.querySelector('#df-4573820f-8073-40bd-b006-07862c4ac1f2');\n",
              "          const dataTable =\n",
              "            await google.colab.kernel.invokeFunction('convertToInteractive',\n",
              "                                                     [key], {});\n",
              "          if (!dataTable) return;\n",
              "\n",
              "          const docLinkHtml = 'Like what you see? Visit the ' +\n",
              "            '<a target=\"_blank\" href=https://colab.research.google.com/notebooks/data_table.ipynb>data table notebook</a>'\n",
              "            + ' to learn more about interactive tables.';\n",
              "          element.innerHTML = '';\n",
              "          dataTable['output_type'] = 'display_data';\n",
              "          await google.colab.output.renderOutput(dataTable, element);\n",
              "          const docLink = document.createElement('div');\n",
              "          docLink.innerHTML = docLinkHtml;\n",
              "          element.appendChild(docLink);\n",
              "        }\n",
              "      </script>\n",
              "    </div>\n",
              "  </div>\n",
              "  "
            ]
          },
          "metadata": {},
          "execution_count": 53
        }
      ],
      "source": [
        "# Compute cosine similarity between all movie-descriptions\n",
        "similarity = cosine_similarity(tfidf_matrix)\n",
        "similarity_df = pd.DataFrame(similarity, \n",
        "                             index=movie_metadata.index.values, \n",
        "                             columns=movie_metadata.index.values)\n",
        "similarity_df.head(10)"
      ]
    },
    {
      "cell_type": "code",
      "execution_count": 54,
      "metadata": {
        "id": "Tm2sEuOs24GN",
        "colab": {
          "base_uri": "https://localhost:8080/"
        },
        "outputId": "3e64f27f-168f-4708-f8d9-a0ba0c3f90bf"
      },
      "outputs": [
        {
          "output_type": "stream",
          "name": "stdout",
          "text": [
            "\n",
            "\n",
            "Top Recommended Movies for: Batman Begins are:-\n",
            " ['Batman Unmasked: The Psychology of the Dark Knight'\n",
            " 'Batman: The Dark Knight Returns, Part 1' 'Batman: Bad Blood'\n",
            " 'Batman: Year One' 'Batman: Under the Red Hood'\n",
            " 'Batman Beyond: The Movie' 'Batman Forever'\n",
            " 'Batman: Mask of the Phantasm' 'Batman & Bill' 'Batman']\n"
          ]
        }
      ],
      "source": [
        "# movie list \n",
        "movie_list = similarity_df.columns.values\n",
        "\n",
        "\n",
        "# sample movie\n",
        "movie = 'Batman Begins'\n",
        "\n",
        "# top recommendation movie count\n",
        "top_n = 10\n",
        "\n",
        "# get movie similarity records\n",
        "movie_sim = similarity_df[similarity_df.index == movie].values[0]\n",
        "\n",
        "# get movies sorted by similarity\n",
        "sorted_movie_ids = np.argsort(movie_sim)[::-1]\n",
        "\n",
        "# get recommended movie names\n",
        "recommended_movies = movie_list[sorted_movie_ids[1:top_n+1]]\n",
        "\n",
        "print('\\n\\nTop Recommended Movies for:', movie, 'are:-\\n', recommended_movies)"
      ]
    },
    {
      "cell_type": "markdown",
      "metadata": {
        "id": "50vzONVBqkTu"
      },
      "source": [
        "__Your turn:__ Create a function as defined below, __`content_movie_recommender()`__ which can take in sample movie names and print a list of top N recommended movies"
      ]
    },
    {
      "cell_type": "code",
      "execution_count": 55,
      "metadata": {
        "id": "t5cyFCvp24GT"
      },
      "outputs": [],
      "source": [
        "def content_movie_recommender(input_movie, similarity_database=similarity_df, movie_database_list=movie_list, top_n=10):\n",
        "\n",
        "    movie_sim = similarity_database[similarity_database.index == input_movie].values[0]\n",
        "    sorted_movie_ids = np.argsort(movie_sim)[::-1]\n",
        "    \n",
        "    return movie_database_list[sorted_movie_ids[1:top_n+1]]"
      ]
    },
    {
      "cell_type": "markdown",
      "metadata": {
        "id": "gR0sKcxIqxql"
      },
      "source": [
        "__Your turn:__ Test your function below on the given sample movies"
      ]
    },
    {
      "cell_type": "code",
      "execution_count": 59,
      "metadata": {
        "id": "L0tUINS_24GV",
        "colab": {
          "base_uri": "https://localhost:8080/"
        },
        "outputId": "bb75a187-d7b7-42b5-c229-c5967216c79c"
      },
      "outputs": [
        {
          "output_type": "stream",
          "name": "stdout",
          "text": [
            "Recommended movies for \"Captain America\":  ['Iron Man & Captain America: Heroes United'\n",
            " 'Captain America: The First Avenger' 'Team Thor' 'Education for Death'\n",
            " 'Captain America: The Winter Soldier' '49th Parallel' 'Ultimate Avengers'\n",
            " 'Philadelphia Experiment II' 'Vice Versa' 'The Lair of the White Worm']\n",
            "Recommended movies for \"The Terminator\":  ['Terminator 2: Judgment Day' 'Terminator Salvation'\n",
            " 'Terminator 3: Rise of the Machines' 'Silent House' 'They Wait'\n",
            " 'Another World' 'Teenage Caveman' 'Appleseed Alpha' 'Respire'\n",
            " 'Just Married']\n",
            "Recommended movies for \"The Exorcist\":  ['Exorcist II: The Heretic' 'Domestic Disturbance' 'Damien: Omen II'\n",
            " 'The Exorcist III' 'Like Sunday, Like Rain' 'People Like Us'\n",
            " 'Quand on a 17 Ans' \"Don't Knock Twice\" 'Zero Day' 'Brick Mansions']\n",
            "Recommended movies for \"The Hunger Games: Mockingjay - Part 1\":  ['The Hunger Games: Catching Fire' 'The Hunger Games: Mockingjay - Part 2'\n",
            " 'Last Train from Gun Hill' 'The Hunger Games'\n",
            " 'Will Success Spoil Rock Hunter?' 'Circumstance' 'Man of Steel'\n",
            " 'The Amityville Horror' 'Pregnancy Pact' 'Bananas']\n",
            "Recommended movies for \"The Blair Witch Project\":  ['Book of Shadows: Blair Witch 2' 'Freakonomics' 'Le Bal des actrices'\n",
            " 'Greystone Park' 'Willow Creek' 'Addio zio Tom' 'The Conspiracy'\n",
            " 'A Haunted House' 'Tonight She Comes' 'Curse of the Blair Witch']\n"
          ]
        }
      ],
      "source": [
        "sample_movies = ['Captain America', 'The Terminator', 'The Exorcist', \n",
        "                 'The Hunger Games: Mockingjay - Part 1', 'The Blair Witch Project']\n",
        "                 \n",
        "for mov in sample_movies:\n",
        "\n",
        "    print (f'Recommended movies for \"{mov}\": ', content_movie_recommender(mov))"
      ]
    },
    {
      "cell_type": "markdown",
      "metadata": {
        "id": "r3fofy8frA2k"
      },
      "source": [
        "## 8.3: Collaborative filtering Recommendation Systems"
      ]
    },
    {
      "cell_type": "markdown",
      "metadata": {
        "id": "j9Su_sBArKWX"
      },
      "source": [
        "### Collaborative Filtering\n",
        "Primarily recommends content to you based on inputs or actions from other people(say your friends).\n",
        "![collaborative filtering](./images/collaborative-filtering.png)\n",
        "\n"
      ]
    },
    {
      "cell_type": "markdown",
      "metadata": {
        "id": "YxRJfswzrN5A"
      },
      "source": [
        "### What is the intuition behind this?\n",
        "\n",
        "*   **Personal tastes are correlated**\n",
        "\n",
        "\n",
        "        1.   If Alice and Bob both like X and Alice likes Y then Bob is more likely to like Y\n",
        "        2.   especially (perhaps) if Bob knows Alice"
      ]
    },
    {
      "cell_type": "markdown",
      "metadata": {
        "id": "TUoI6lh6rSlG"
      },
      "source": [
        "Types of Collaborative Filtering:\n",
        "\n",
        "\n",
        "1.   Neighborhood methods\n",
        "2.   Matrix Factorization (Latent Factor) methods\n",
        "\n"
      ]
    },
    {
      "cell_type": "markdown",
      "metadata": {
        "id": "23PnmU-FraW8"
      },
      "source": [
        "Assume you dont have users. Rather you have users' characterisics and properties(as shown in image).![Latent Factor method](https://miro.medium.com/max/876/1*AQEx38Wdo5H0WTSjRfAWtA.png)\n",
        "\n",
        "For example, a person who is brave-hearted is more likely to be interested in dark, horrific movies rather than someone who is soft and compassionate.\n",
        "* ^This is just an example(not in any literal sense)"
      ]
    },
    {
      "cell_type": "markdown",
      "metadata": {
        "id": "fidNZWZXrdmt"
      },
      "source": [
        "So, once you have the properties and characteristics of each user, we call them as lower-dimensional features of the users. Similarly, we can have lower-dimensional features for movies(say its 10% action, 20% romance ...)\n",
        "\n",
        "With these features, we represent users and movies in a low dimensional space describing their properties. **This is called as the latent space.**\n",
        "\n",
        "We then recommend a movie based on its proximity to the user in the latent space."
      ]
    },
    {
      "cell_type": "markdown",
      "metadata": {
        "id": "InGsgab1rhVT"
      },
      "source": [
        "### The problem:\n",
        "\n",
        "The problem we try to address here is the rating prediction problem. \n",
        "Say, we try to guess how much Alice would rate a movie and suggest those movies that we think Alice will rate higher."
      ]
    },
    {
      "cell_type": "markdown",
      "metadata": {
        "id": "NUDZRCzhrijy"
      },
      "source": [
        "### Interesting...But, how do we predict how much Alice would rate a movie?\n",
        "\n",
        " The data we have is a rating history: ratings of users for items in the interval [1,5]. We can put all this data into a sparse matrix called R:\n",
        " \n",
        " $R = \n",
        " \\begin{pmatrix}\n",
        "  3 & ? &? \\\\ \n",
        "  ? & 4 & 5 \\\\\n",
        "  ? & ? & 2 \\\\\n",
        "  2 & 3 & ?\n",
        " \\end{pmatrix}\n",
        " \\begin{matrix}\n",
        "  Alice \\\\ \n",
        "  Bob \\\\\n",
        "  Chand \\\\\n",
        "  Deb\n",
        " \\end{matrix}\n",
        " $\n",
        "\n",
        " Each row of the matrix corresponds to a given user, and each column corresponds to a given item. For instance here, Alice has rated the first movie with a rating of 3, and Chand has rated the third item with a rating of 2.\n",
        "\n",
        " The matrix R is sparse (more than 99% of the entries are missing), and our goal is to predict the missing entries, i.e. predict the ?.\n"
      ]
    },
    {
      "cell_type": "markdown",
      "metadata": {
        "id": "i_MeURMvrniQ"
      },
      "source": [
        "### Anatomy of the Rating matrix: LATENT SPACE\n",
        "Before predicting ratings, lets step back and understand the latent space more! \\\\\n",
        " In this Rating matrix, Rows represent Users and Columns represent Movies.\n",
        " $R = \n",
        "  \\begin{pmatrix}\n",
        "  --Alice-- \\\\ \n",
        "  --Bob-- \\\\\n",
        "  --Chand-- \\\\\n",
        "  --Deb--\n",
        " \\end{pmatrix}\n",
        " $\n",
        "\n",
        " In latent space(low dimensional features - fanatics), for instance, Alice could be defined as a little bit of an action fan, a little bit of a comedy fan, a lot of a romance fan, etc. As for Bob, he could be more keen on action movies:\n",
        "\n",
        "```\n",
        "Alice = 10% Action fan + 10% Comedy fan + 50% Romance fan + ⋯ \\\\\n",
        "Bob = 50% Action fan + 30% Comedy fan + 10% Romance fan + ⋯ \\\\\n",
        ": \\\\\n",
        "Zoe = ⋯\n",
        "```\n",
        "\n",
        "What would happen if we transposed our rating matrix? Instead of having users in the rows, we would now have movies, defined as their ratings.\n",
        "\n",
        "$\n",
        "R ^ T = \n",
        "  \\begin{pmatrix}\n",
        "  --Avengers-- \\\\ \n",
        "  --Matrix-- \\\\\n",
        "  --Inception-- \\\\\n",
        "  --Sherlock--\n",
        " \\end{pmatrix}\n",
        "$\n",
        "\n",
        "In the latent space, we will associate a semantic meaning behind each of the  movies, and these semantic meanings(say movie characteristics) can build back all of our original movies."
      ]
    },
    {
      "cell_type": "markdown",
      "metadata": {
        "id": "vZ_r91x1rr65"
      },
      "source": [
        "### EXAMPLE\n",
        "In the below example, we convert users and movies to vectors(embeddings) and do dot-product to predict R\n",
        "\n",
        "user vector - U \\\\\n",
        "movies vector - V \\\\\n",
        "$\n",
        "R = U.V\n",
        "$"
      ]
    },
    {
      "cell_type": "markdown",
      "metadata": {
        "id": "_Ynl-aVuf3Dy"
      },
      "source": [
        "### Additional hints:\n",
        "\n",
        "use dataframe map - [map](https://pandas.pydata.org/pandas-docs/stable/reference/api/pandas.Series.map.html)\n",
        "\n",
        "Create tensor - [Input](https://www.tensorflow.org/api_docs/python/tf/keras/Input#view-aliases)\n",
        "\n",
        "Create Embedding - [Embedding](https://www.tensorflow.org/api_docs/python/tf/keras/layers/Embedding)\n",
        "\n",
        "Dot product - [Dot](https://www.tensorflow.org/api_docs/python/tf/keras/layers/Dot)\n",
        "\n",
        "Fit model : \n",
        "[fit](https://www.tensorflow.org/api_docs/python/tf/keras/Model#fit)\n",
        "\n",
        "Measure Performance: [mean_squared_error](https://scikit-learn.org/stable/modules/generated/sklearn.metrics.mean_squared_error.html)"
      ]
    },
    {
      "cell_type": "markdown",
      "metadata": {
        "id": "wpPZfOrDs-Qs"
      },
      "source": [
        "### Q8.3: Building a Deep Learning Matrix Factorization based Collaborative Filtering Recommendation System\n",
        "\n",
        "__Your Turn:__ Fill in the necessary blank code snippets in the following sections to train your own DL collaborative  filtering system\n",
        "\n",
        "#### Create Configuration Parameters"
      ]
    },
    {
      "cell_type": "code",
      "execution_count": 60,
      "metadata": {
        "id": "AUz12Y_Z24Gh"
      },
      "outputs": [],
      "source": [
        "# Create user and movie-id mapping to convert to numbers\n",
        "user_id_mapping = {id:i for i, id in enumerate(df_filtered['User'].unique())}\n",
        "movie_id_mapping = {id:i for i, id in enumerate(df_filtered['Movie'].unique())}"
      ]
    },
    {
      "cell_type": "code",
      "execution_count": 61,
      "metadata": {
        "id": "4vjVBUM724Gj"
      },
      "outputs": [],
      "source": [
        "# use dataframe map function to map users & movies to mapped ids based on above mapping\n",
        "train_user_data = df_train['User'].map(user_id_mapping)\n",
        "train_movie_data = df_train['Movie'].map(movie_id_mapping)"
      ]
    },
    {
      "cell_type": "code",
      "execution_count": 62,
      "metadata": {
        "id": "_lpKylKD24Gl"
      },
      "outputs": [],
      "source": [
        "# do the same for test data\n",
        "test_user_data = df_test['User'].map(user_id_mapping)\n",
        "test_movie_data = df_test['Movie'].map(movie_id_mapping)"
      ]
    },
    {
      "cell_type": "code",
      "execution_count": 63,
      "metadata": {
        "id": "GME8vJLp24Gn"
      },
      "outputs": [],
      "source": [
        "# Get input variable-sizes\n",
        "users = len(user_id_mapping)\n",
        "movies = len(movie_id_mapping)\n",
        "embedding_size = 100"
      ]
    },
    {
      "cell_type": "markdown",
      "metadata": {
        "id": "enO8VNVP24Gp"
      },
      "source": [
        "#### Construct Deep Learning Model Architecture"
      ]
    },
    {
      "cell_type": "code",
      "execution_count": 64,
      "metadata": {
        "id": "GSXpYgst24Gq"
      },
      "outputs": [],
      "source": [
        "# use Input() to create tensors for - 'user' and 'movie'\n",
        "user_id_input = Input(shape=(1,), name='user')\n",
        "movie_id_input = Input(shape=(1,), name='movie')"
      ]
    },
    {
      "cell_type": "code",
      "execution_count": 65,
      "metadata": {
        "id": "gdV4lJri24Gs"
      },
      "outputs": [],
      "source": [
        "# Create embedding layer for users \n",
        "user_embedding = Embedding(output_dim=embedding_size, \n",
        "                           input_dim=users,\n",
        "                           input_length=1, \n",
        "                           name='user_embedding')(user_id_input)\n",
        "\n",
        "# create embedding layer for movies just like users\n",
        "movie_embedding = Embedding(output_dim=embedding_size, \n",
        "                           input_dim=movies,\n",
        "                           input_length=1, \n",
        "                           name='movie_embedding')(movie_id_input)"
      ]
    },
    {
      "cell_type": "code",
      "execution_count": 66,
      "metadata": {
        "id": "cLpdb0pu24Gu"
      },
      "outputs": [],
      "source": [
        "# Reshape the embedding layers\n",
        "user_vector = Reshape([embedding_size])(user_embedding)\n",
        "movie_vector = Reshape([embedding_size])(movie_embedding)"
      ]
    },
    {
      "cell_type": "code",
      "execution_count": 67,
      "metadata": {
        "id": "S-RxXy5B24Gw"
      },
      "outputs": [],
      "source": [
        "# Compute dot-product of reshaped embedding layers as prediction\n",
        "y = Dot(1, normalize=False)([user_vector, movie_vector])"
      ]
    },
    {
      "cell_type": "code",
      "execution_count": 68,
      "metadata": {
        "id": "5wWeeSfR24Gy",
        "colab": {
          "base_uri": "https://localhost:8080/"
        },
        "outputId": "4c409525-2488-4017-c146-0db493b9a322"
      },
      "outputs": [
        {
          "output_type": "stream",
          "name": "stdout",
          "text": [
            "Model: \"model\"\n",
            "__________________________________________________________________________________________________\n",
            " Layer (type)                   Output Shape         Param #     Connected to                     \n",
            "==================================================================================================\n",
            " user (InputLayer)              [(None, 1)]          0           []                               \n",
            "                                                                                                  \n",
            " movie (InputLayer)             [(None, 1)]          0           []                               \n",
            "                                                                                                  \n",
            " user_embedding (Embedding)     (None, 1, 100)       2082800     ['user[0][0]']                   \n",
            "                                                                                                  \n",
            " movie_embedding (Embedding)    (None, 1, 100)       174100      ['movie[0][0]']                  \n",
            "                                                                                                  \n",
            " reshape (Reshape)              (None, 100)          0           ['user_embedding[0][0]']         \n",
            "                                                                                                  \n",
            " reshape_1 (Reshape)            (None, 100)          0           ['movie_embedding[0][0]']        \n",
            "                                                                                                  \n",
            " dot (Dot)                      (None, 1)            0           ['reshape[0][0]',                \n",
            "                                                                  'reshape_1[0][0]']              \n",
            "                                                                                                  \n",
            "==================================================================================================\n",
            "Total params: 2,256,900\n",
            "Trainable params: 2,256,900\n",
            "Non-trainable params: 0\n",
            "__________________________________________________________________________________________________\n"
          ]
        }
      ],
      "source": [
        "# Setup model\n",
        "model = Model(inputs=[user_id_input, movie_id_input], outputs=y)\n",
        "model.compile(loss='mse', optimizer='adam')\n",
        "model.summary()"
      ]
    },
    {
      "cell_type": "markdown",
      "metadata": {
        "id": "g0COamq25owq"
      },
      "source": [
        "#### Train and Test the Model"
      ]
    },
    {
      "cell_type": "code",
      "execution_count": 69,
      "metadata": {
        "id": "nK6aBtQN24Gz",
        "colab": {
          "base_uri": "https://localhost:8080/"
        },
        "outputId": "ff8ef90a-a8f0-47aa-9485-12e6d07a6f7b"
      },
      "outputs": [
        {
          "output_type": "stream",
          "name": "stdout",
          "text": [
            "Epoch 1/5\n",
            "5125/5125 [==============================] - 141s 27ms/step - loss: 2.0868 - val_loss: 0.7793\n",
            "Epoch 2/5\n",
            "5125/5125 [==============================] - 140s 27ms/step - loss: 0.7371 - val_loss: 0.7254\n",
            "Epoch 3/5\n",
            "5125/5125 [==============================] - 132s 26ms/step - loss: 0.6722 - val_loss: 0.6974\n",
            "Epoch 4/5\n",
            "5125/5125 [==============================] - 132s 26ms/step - loss: 0.6117 - val_loss: 0.6887\n",
            "Epoch 5/5\n",
            "5125/5125 [==============================] - 127s 25ms/step - loss: 0.5490 - val_loss: 0.6992\n"
          ]
        },
        {
          "output_type": "execute_result",
          "data": {
            "text/plain": [
              "<keras.callbacks.History at 0x7f5acea581f0>"
            ]
          },
          "metadata": {},
          "execution_count": 69
        }
      ],
      "source": [
        "# Fit model\n",
        "X = [train_user_data, train_movie_data]\n",
        "y = df_train['Rating']\n",
        "\n",
        "batch_size = 1024\n",
        "epochs = 5\n",
        "validation_split = 0.1\n",
        "\n",
        "model.fit(X, y,\n",
        "          batch_size=batch_size, \n",
        "          epochs=epochs,\n",
        "          validation_split=validation_split,\n",
        "          shuffle=True,\n",
        "          verbose=1)"
      ]
    },
    {
      "cell_type": "code",
      "execution_count": 70,
      "metadata": {
        "id": "RZLw4PX3AUkz",
        "colab": {
          "base_uri": "https://localhost:8080/"
        },
        "outputId": "f93ac7d0-3b3d-4d25-f303-f1049f93b9c3"
      },
      "outputs": [
        {
          "output_type": "stream",
          "name": "stdout",
          "text": [
            "3125/3125 [==============================] - 5s 2ms/step\n",
            "\n",
            "\n",
            "Testing Result With DL Matrix-Factorization: 0.8374 RMSE\n"
          ]
        }
      ],
      "source": [
        "# Test model by making predictions on test data\n",
        "y_pred = model.predict([test_user_data, test_movie_data]).ravel()\n",
        "# clip upper and lower ratings\n",
        "y_pred = list(map(lambda x: 1.0 if x < 1 else 5.0 if x > 5.0 else x, y_pred))\n",
        "# get true labels\n",
        "y_true = df_test['Rating'].values\n",
        "\n",
        "#  Compute RMSE\n",
        "rmse = np.sqrt(mean_squared_error(y_pred=y_pred, y_true=y_true))\n",
        "print('\\n\\nTesting Result With DL Matrix-Factorization: {:.4f} RMSE'.format(rmse))"
      ]
    },
    {
      "cell_type": "code",
      "execution_count": 71,
      "metadata": {
        "id": "oAX4MABlCm-9",
        "colab": {
          "base_uri": "https://localhost:8080/",
          "height": 677
        },
        "outputId": "c97798cb-2143-4f3b-9b57-ce48e85ce04e"
      },
      "outputs": [
        {
          "output_type": "execute_result",
          "data": {
            "text/plain": [
              "    User ID  Movie ID                                         Movie Name  \\\n",
              "0      7451       651                                       Saving Grace   \n",
              "1     14687       572             The Autobiography of Miss Jane Pittman   \n",
              "2       301       417                             My Favorite Martian #1   \n",
              "3     11123       579                          The Scarlet and the Black   \n",
              "4     17746       254                  Ghost Dog: The Way of the Samurai   \n",
              "5      7543       345                      The Last Temptation of Christ   \n",
              "6     14754        26  Sesame Street: Elmo's World: The Street We Liv...   \n",
              "7      4857       211                                        Dinner Rush   \n",
              "8      8369       618                             Beware of a Holy Whore   \n",
              "9     16143       507                         Santana: Supernatural Live   \n",
              "10      861      1134                                        Chinese Box   \n",
              "11    13038       917                                 River of No Return   \n",
              "12    19115       913                                  Back to the Beach   \n",
              "13     9112      1351                    The Bat / House on Haunted Hill   \n",
              "14    15638        50         Jonah: A VeggieTales Movie: Bonus Material   \n",
              "15    11568       664                  Rugrats All Grown Up: O' Brother!   \n",
              "16    20556       257                                             Animal   \n",
              "17    13577      1395                               My Dinner with Andre   \n",
              "18    19061        26  Sesame Street: Elmo's World: The Street We Liv...   \n",
              "19    12603       602                                    Spooks & Creeps   \n",
              "\n",
              "    Predicted Rating  Actual Rating  \n",
              "0                3.3            4.0  \n",
              "1                5.0            5.0  \n",
              "2                3.2            3.0  \n",
              "3                2.9            3.0  \n",
              "4                3.9            4.0  \n",
              "5                3.5            4.0  \n",
              "6                3.5            5.0  \n",
              "7                4.6            5.0  \n",
              "8                3.5            3.0  \n",
              "9                4.0            4.0  \n",
              "10               2.5            1.0  \n",
              "11               3.4            4.0  \n",
              "12               4.7            5.0  \n",
              "13               2.8            3.0  \n",
              "14               3.0            3.0  \n",
              "15               5.0            5.0  \n",
              "16               2.9            3.0  \n",
              "17               4.1            3.0  \n",
              "18               3.5            4.0  \n",
              "19               2.9            3.0  "
            ],
            "text/html": [
              "\n",
              "  <div id=\"df-0e385f95-cd7a-473b-9e53-9e5369cfde32\">\n",
              "    <div class=\"colab-df-container\">\n",
              "      <div>\n",
              "<style scoped>\n",
              "    .dataframe tbody tr th:only-of-type {\n",
              "        vertical-align: middle;\n",
              "    }\n",
              "\n",
              "    .dataframe tbody tr th {\n",
              "        vertical-align: top;\n",
              "    }\n",
              "\n",
              "    .dataframe thead th {\n",
              "        text-align: right;\n",
              "    }\n",
              "</style>\n",
              "<table border=\"1\" class=\"dataframe\">\n",
              "  <thead>\n",
              "    <tr style=\"text-align: right;\">\n",
              "      <th></th>\n",
              "      <th>User ID</th>\n",
              "      <th>Movie ID</th>\n",
              "      <th>Movie Name</th>\n",
              "      <th>Predicted Rating</th>\n",
              "      <th>Actual Rating</th>\n",
              "    </tr>\n",
              "  </thead>\n",
              "  <tbody>\n",
              "    <tr>\n",
              "      <th>0</th>\n",
              "      <td>7451</td>\n",
              "      <td>651</td>\n",
              "      <td>Saving Grace</td>\n",
              "      <td>3.3</td>\n",
              "      <td>4.0</td>\n",
              "    </tr>\n",
              "    <tr>\n",
              "      <th>1</th>\n",
              "      <td>14687</td>\n",
              "      <td>572</td>\n",
              "      <td>The Autobiography of Miss Jane Pittman</td>\n",
              "      <td>5.0</td>\n",
              "      <td>5.0</td>\n",
              "    </tr>\n",
              "    <tr>\n",
              "      <th>2</th>\n",
              "      <td>301</td>\n",
              "      <td>417</td>\n",
              "      <td>My Favorite Martian #1</td>\n",
              "      <td>3.2</td>\n",
              "      <td>3.0</td>\n",
              "    </tr>\n",
              "    <tr>\n",
              "      <th>3</th>\n",
              "      <td>11123</td>\n",
              "      <td>579</td>\n",
              "      <td>The Scarlet and the Black</td>\n",
              "      <td>2.9</td>\n",
              "      <td>3.0</td>\n",
              "    </tr>\n",
              "    <tr>\n",
              "      <th>4</th>\n",
              "      <td>17746</td>\n",
              "      <td>254</td>\n",
              "      <td>Ghost Dog: The Way of the Samurai</td>\n",
              "      <td>3.9</td>\n",
              "      <td>4.0</td>\n",
              "    </tr>\n",
              "    <tr>\n",
              "      <th>5</th>\n",
              "      <td>7543</td>\n",
              "      <td>345</td>\n",
              "      <td>The Last Temptation of Christ</td>\n",
              "      <td>3.5</td>\n",
              "      <td>4.0</td>\n",
              "    </tr>\n",
              "    <tr>\n",
              "      <th>6</th>\n",
              "      <td>14754</td>\n",
              "      <td>26</td>\n",
              "      <td>Sesame Street: Elmo's World: The Street We Liv...</td>\n",
              "      <td>3.5</td>\n",
              "      <td>5.0</td>\n",
              "    </tr>\n",
              "    <tr>\n",
              "      <th>7</th>\n",
              "      <td>4857</td>\n",
              "      <td>211</td>\n",
              "      <td>Dinner Rush</td>\n",
              "      <td>4.6</td>\n",
              "      <td>5.0</td>\n",
              "    </tr>\n",
              "    <tr>\n",
              "      <th>8</th>\n",
              "      <td>8369</td>\n",
              "      <td>618</td>\n",
              "      <td>Beware of a Holy Whore</td>\n",
              "      <td>3.5</td>\n",
              "      <td>3.0</td>\n",
              "    </tr>\n",
              "    <tr>\n",
              "      <th>9</th>\n",
              "      <td>16143</td>\n",
              "      <td>507</td>\n",
              "      <td>Santana: Supernatural Live</td>\n",
              "      <td>4.0</td>\n",
              "      <td>4.0</td>\n",
              "    </tr>\n",
              "    <tr>\n",
              "      <th>10</th>\n",
              "      <td>861</td>\n",
              "      <td>1134</td>\n",
              "      <td>Chinese Box</td>\n",
              "      <td>2.5</td>\n",
              "      <td>1.0</td>\n",
              "    </tr>\n",
              "    <tr>\n",
              "      <th>11</th>\n",
              "      <td>13038</td>\n",
              "      <td>917</td>\n",
              "      <td>River of No Return</td>\n",
              "      <td>3.4</td>\n",
              "      <td>4.0</td>\n",
              "    </tr>\n",
              "    <tr>\n",
              "      <th>12</th>\n",
              "      <td>19115</td>\n",
              "      <td>913</td>\n",
              "      <td>Back to the Beach</td>\n",
              "      <td>4.7</td>\n",
              "      <td>5.0</td>\n",
              "    </tr>\n",
              "    <tr>\n",
              "      <th>13</th>\n",
              "      <td>9112</td>\n",
              "      <td>1351</td>\n",
              "      <td>The Bat / House on Haunted Hill</td>\n",
              "      <td>2.8</td>\n",
              "      <td>3.0</td>\n",
              "    </tr>\n",
              "    <tr>\n",
              "      <th>14</th>\n",
              "      <td>15638</td>\n",
              "      <td>50</td>\n",
              "      <td>Jonah: A VeggieTales Movie: Bonus Material</td>\n",
              "      <td>3.0</td>\n",
              "      <td>3.0</td>\n",
              "    </tr>\n",
              "    <tr>\n",
              "      <th>15</th>\n",
              "      <td>11568</td>\n",
              "      <td>664</td>\n",
              "      <td>Rugrats All Grown Up: O' Brother!</td>\n",
              "      <td>5.0</td>\n",
              "      <td>5.0</td>\n",
              "    </tr>\n",
              "    <tr>\n",
              "      <th>16</th>\n",
              "      <td>20556</td>\n",
              "      <td>257</td>\n",
              "      <td>Animal</td>\n",
              "      <td>2.9</td>\n",
              "      <td>3.0</td>\n",
              "    </tr>\n",
              "    <tr>\n",
              "      <th>17</th>\n",
              "      <td>13577</td>\n",
              "      <td>1395</td>\n",
              "      <td>My Dinner with Andre</td>\n",
              "      <td>4.1</td>\n",
              "      <td>3.0</td>\n",
              "    </tr>\n",
              "    <tr>\n",
              "      <th>18</th>\n",
              "      <td>19061</td>\n",
              "      <td>26</td>\n",
              "      <td>Sesame Street: Elmo's World: The Street We Liv...</td>\n",
              "      <td>3.5</td>\n",
              "      <td>4.0</td>\n",
              "    </tr>\n",
              "    <tr>\n",
              "      <th>19</th>\n",
              "      <td>12603</td>\n",
              "      <td>602</td>\n",
              "      <td>Spooks &amp; Creeps</td>\n",
              "      <td>2.9</td>\n",
              "      <td>3.0</td>\n",
              "    </tr>\n",
              "  </tbody>\n",
              "</table>\n",
              "</div>\n",
              "      <button class=\"colab-df-convert\" onclick=\"convertToInteractive('df-0e385f95-cd7a-473b-9e53-9e5369cfde32')\"\n",
              "              title=\"Convert this dataframe to an interactive table.\"\n",
              "              style=\"display:none;\">\n",
              "        \n",
              "  <svg xmlns=\"http://www.w3.org/2000/svg\" height=\"24px\"viewBox=\"0 0 24 24\"\n",
              "       width=\"24px\">\n",
              "    <path d=\"M0 0h24v24H0V0z\" fill=\"none\"/>\n",
              "    <path d=\"M18.56 5.44l.94 2.06.94-2.06 2.06-.94-2.06-.94-.94-2.06-.94 2.06-2.06.94zm-11 1L8.5 8.5l.94-2.06 2.06-.94-2.06-.94L8.5 2.5l-.94 2.06-2.06.94zm10 10l.94 2.06.94-2.06 2.06-.94-2.06-.94-.94-2.06-.94 2.06-2.06.94z\"/><path d=\"M17.41 7.96l-1.37-1.37c-.4-.4-.92-.59-1.43-.59-.52 0-1.04.2-1.43.59L10.3 9.45l-7.72 7.72c-.78.78-.78 2.05 0 2.83L4 21.41c.39.39.9.59 1.41.59.51 0 1.02-.2 1.41-.59l7.78-7.78 2.81-2.81c.8-.78.8-2.07 0-2.86zM5.41 20L4 18.59l7.72-7.72 1.47 1.35L5.41 20z\"/>\n",
              "  </svg>\n",
              "      </button>\n",
              "      \n",
              "  <style>\n",
              "    .colab-df-container {\n",
              "      display:flex;\n",
              "      flex-wrap:wrap;\n",
              "      gap: 12px;\n",
              "    }\n",
              "\n",
              "    .colab-df-convert {\n",
              "      background-color: #E8F0FE;\n",
              "      border: none;\n",
              "      border-radius: 50%;\n",
              "      cursor: pointer;\n",
              "      display: none;\n",
              "      fill: #1967D2;\n",
              "      height: 32px;\n",
              "      padding: 0 0 0 0;\n",
              "      width: 32px;\n",
              "    }\n",
              "\n",
              "    .colab-df-convert:hover {\n",
              "      background-color: #E2EBFA;\n",
              "      box-shadow: 0px 1px 2px rgba(60, 64, 67, 0.3), 0px 1px 3px 1px rgba(60, 64, 67, 0.15);\n",
              "      fill: #174EA6;\n",
              "    }\n",
              "\n",
              "    [theme=dark] .colab-df-convert {\n",
              "      background-color: #3B4455;\n",
              "      fill: #D2E3FC;\n",
              "    }\n",
              "\n",
              "    [theme=dark] .colab-df-convert:hover {\n",
              "      background-color: #434B5C;\n",
              "      box-shadow: 0px 1px 3px 1px rgba(0, 0, 0, 0.15);\n",
              "      filter: drop-shadow(0px 1px 2px rgba(0, 0, 0, 0.3));\n",
              "      fill: #FFFFFF;\n",
              "    }\n",
              "  </style>\n",
              "\n",
              "      <script>\n",
              "        const buttonEl =\n",
              "          document.querySelector('#df-0e385f95-cd7a-473b-9e53-9e5369cfde32 button.colab-df-convert');\n",
              "        buttonEl.style.display =\n",
              "          google.colab.kernel.accessAllowed ? 'block' : 'none';\n",
              "\n",
              "        async function convertToInteractive(key) {\n",
              "          const element = document.querySelector('#df-0e385f95-cd7a-473b-9e53-9e5369cfde32');\n",
              "          const dataTable =\n",
              "            await google.colab.kernel.invokeFunction('convertToInteractive',\n",
              "                                                     [key], {});\n",
              "          if (!dataTable) return;\n",
              "\n",
              "          const docLinkHtml = 'Like what you see? Visit the ' +\n",
              "            '<a target=\"_blank\" href=https://colab.research.google.com/notebooks/data_table.ipynb>data table notebook</a>'\n",
              "            + ' to learn more about interactive tables.';\n",
              "          element.innerHTML = '';\n",
              "          dataTable['output_type'] = 'display_data';\n",
              "          await google.colab.output.renderOutput(dataTable, element);\n",
              "          const docLink = document.createElement('div');\n",
              "          docLink.innerHTML = docLinkHtml;\n",
              "          element.appendChild(docLink);\n",
              "        }\n",
              "      </script>\n",
              "    </div>\n",
              "  </div>\n",
              "  "
            ]
          },
          "metadata": {},
          "execution_count": 71
        }
      ],
      "source": [
        "## Let's see how our collaborative model performs by seeing the predicted and actual rating for the given user and movie pair\n",
        "results_df = pd.DataFrame({\n",
        "    'User ID': test_user_data.values,\n",
        "    'Movie ID': test_movie_data.values,\n",
        "    'Movie Name': [movie_titles['Name'].iloc[item] for item in test_movie_data],\n",
        "    'Predicted Rating': np.round(y_pred, 1),\n",
        "    'Actual Rating': y_true\n",
        "})\n",
        "\n",
        "results_df.head(20)"
      ]
    },
    {
      "cell_type": "markdown",
      "metadata": {
        "id": "Gaq-sJqpc_B_"
      },
      "source": [
        "## 8.4: Hybrid Recommendation System (Content & Collaborative)\n",
        "\n",
        "One advantage of deep learning models is, that movie-metadata can easily be added to the model.\n",
        "We will tf-idf transform the short description of all movies to a sparse vector. The model will learn to reduce the dimensionality of this vector and how to combine metadata with the embedding of the user-id and the movie-id. In this way we can add any additional metadata to our own recommender.\n",
        "These kind of hybrid systems can learn how to reduce the impact of the cold start problem.\n",
        "\n",
        "Deep learning models require lots of data to train and predict. To provide our model with more data, we will include the movie metadata as well. We will do the following:\n",
        "\n",
        "\n",
        "*   Use movie metadata to combine with user and movie matrices in order to get more data\n",
        "*   Use tf-idf transform to vectorize movie metadata (Sparse Layer)\n",
        "*   Create an embedding of the metadata 512 -> 256 \n",
        "*   Combine all embeddings for movie tf-idf vectors, user and ratings to arrive at a common embedding space (256 sized embeddings per entity)\n",
        "*   Use the embeddings to train the model and get predictions on the test data\n",
        "\n",
        "\n",
        "\n",
        "\n",
        "\n"
      ]
    },
    {
      "cell_type": "markdown",
      "metadata": {
        "id": "gw7fwxvQc4DV"
      },
      "source": [
        "### Additional Hints:\n",
        "\n",
        "Dense layer setup :\n",
        "[Dense](https://www.tensorflow.org/api_docs/python/tf/keras/layers/Dense#example_2)\n",
        "\n",
        "Create model using tf.keras API : \n",
        "[Model](https://www.tensorflow.org/api_docs/python/tf/keras/Model#used-in-the-notebooks)\n",
        "\n",
        "Compile model using : [Compile](https://www.tensorflow.org/api_docs/python/tf/keras/Model#compile)\n",
        "\n",
        "Fit model : \n",
        "[fit](https://www.tensorflow.org/api_docs/python/tf/keras/Model#fit)\n",
        "\n",
        "Predict accuracy: [mean_squared_error](https://scikit-learn.org/stable/modules/generated/sklearn.metrics.mean_squared_error.html)\n",
        "\n"
      ]
    },
    {
      "cell_type": "markdown",
      "metadata": {
        "id": "hINM6pCk3yKz"
      },
      "source": [
        "### Q8.3: Building a Deep Learning Hybrid Recommendation System\n",
        "\n",
        "We will be building the following hybrid deep learning recommendation model as scene in the following schematic.\n",
        "\n",
        "![](./images/hybrid-dl-model.png)\n",
        "\n",
        "__Your Turn:__ Fill in the necessary blank code snippets in the following sections to train your own DL hybrid recommendation system\n",
        "\n",
        "#### Create Configuration Parameters"
      ]
    },
    {
      "cell_type": "code",
      "execution_count": 72,
      "metadata": {
        "id": "QmOFI6gNZOYy"
      },
      "outputs": [],
      "source": [
        "# ceate a copy of the filtered data frame\n",
        "df_filtered_cp = df_filtered.copy(deep=True)"
      ]
    },
    {
      "cell_type": "code",
      "execution_count": 73,
      "metadata": {
        "id": "eknbQW6mHsKN"
      },
      "outputs": [],
      "source": [
        "# Create user- & movie-id mapping\n",
        "user_id_mapping = {id:i for i, id in enumerate(df_filtered_cp['User'].unique())}\n",
        "movie_id_mapping = {id:i for i, id in enumerate(df_filtered_cp['Movie'].unique())}"
      ]
    },
    {
      "cell_type": "code",
      "execution_count": 74,
      "metadata": {
        "id": "yLHTi2NsIEAM"
      },
      "outputs": [],
      "source": [
        "# use dataframe map function to map users & movies to mapped ids based on above mapping\n",
        "df_filtered_cp['User'] = df_filtered_cp['User'].map(user_id_mapping)\n",
        "df_filtered_cp['Movie'] = df_filtered_cp['Movie'].map(movie_id_mapping)"
      ]
    },
    {
      "cell_type": "markdown",
      "metadata": {
        "id": "fh1Bg5Q_38mF"
      },
      "source": [
        "#### Create Movie Description Dataset (Content)"
      ]
    },
    {
      "cell_type": "code",
      "execution_count": 75,
      "metadata": {
        "id": "CoAHPk1SIECT",
        "colab": {
          "base_uri": "https://localhost:8080/",
          "height": 255
        },
        "outputId": "75bbb49b-9690-4278-d50a-913c75a41346"
      },
      "outputs": [
        {
          "output_type": "stream",
          "name": "stdout",
          "text": [
            "Movie Description DF Shape: (6879, 1)\n"
          ]
        },
        {
          "output_type": "execute_result",
          "data": {
            "text/plain": [
              "                                                overview\n",
              "Id                                                      \n",
              "8597   two troubled adolescents chronicle the events ...\n",
              "16182  daryl zero is a private investigator. along wi...\n",
              "15233  clear the runway for derek zoolander, vh1's th...\n",
              "17631  in 1879, during the zulu wars, man of the peop...\n",
              "17631  as a child, ali neuman narrowly escaped being ..."
            ],
            "text/html": [
              "\n",
              "  <div id=\"df-7f54f9a8-6e41-418c-af25-f471dc4ad34d\">\n",
              "    <div class=\"colab-df-container\">\n",
              "      <div>\n",
              "<style scoped>\n",
              "    .dataframe tbody tr th:only-of-type {\n",
              "        vertical-align: middle;\n",
              "    }\n",
              "\n",
              "    .dataframe tbody tr th {\n",
              "        vertical-align: top;\n",
              "    }\n",
              "\n",
              "    .dataframe thead th {\n",
              "        text-align: right;\n",
              "    }\n",
              "</style>\n",
              "<table border=\"1\" class=\"dataframe\">\n",
              "  <thead>\n",
              "    <tr style=\"text-align: right;\">\n",
              "      <th></th>\n",
              "      <th>overview</th>\n",
              "    </tr>\n",
              "    <tr>\n",
              "      <th>Id</th>\n",
              "      <th></th>\n",
              "    </tr>\n",
              "  </thead>\n",
              "  <tbody>\n",
              "    <tr>\n",
              "      <th>8597</th>\n",
              "      <td>two troubled adolescents chronicle the events ...</td>\n",
              "    </tr>\n",
              "    <tr>\n",
              "      <th>16182</th>\n",
              "      <td>daryl zero is a private investigator. along wi...</td>\n",
              "    </tr>\n",
              "    <tr>\n",
              "      <th>15233</th>\n",
              "      <td>clear the runway for derek zoolander, vh1's th...</td>\n",
              "    </tr>\n",
              "    <tr>\n",
              "      <th>17631</th>\n",
              "      <td>in 1879, during the zulu wars, man of the peop...</td>\n",
              "    </tr>\n",
              "    <tr>\n",
              "      <th>17631</th>\n",
              "      <td>as a child, ali neuman narrowly escaped being ...</td>\n",
              "    </tr>\n",
              "  </tbody>\n",
              "</table>\n",
              "</div>\n",
              "      <button class=\"colab-df-convert\" onclick=\"convertToInteractive('df-7f54f9a8-6e41-418c-af25-f471dc4ad34d')\"\n",
              "              title=\"Convert this dataframe to an interactive table.\"\n",
              "              style=\"display:none;\">\n",
              "        \n",
              "  <svg xmlns=\"http://www.w3.org/2000/svg\" height=\"24px\"viewBox=\"0 0 24 24\"\n",
              "       width=\"24px\">\n",
              "    <path d=\"M0 0h24v24H0V0z\" fill=\"none\"/>\n",
              "    <path d=\"M18.56 5.44l.94 2.06.94-2.06 2.06-.94-2.06-.94-.94-2.06-.94 2.06-2.06.94zm-11 1L8.5 8.5l.94-2.06 2.06-.94-2.06-.94L8.5 2.5l-.94 2.06-2.06.94zm10 10l.94 2.06.94-2.06 2.06-.94-2.06-.94-.94-2.06-.94 2.06-2.06.94z\"/><path d=\"M17.41 7.96l-1.37-1.37c-.4-.4-.92-.59-1.43-.59-.52 0-1.04.2-1.43.59L10.3 9.45l-7.72 7.72c-.78.78-.78 2.05 0 2.83L4 21.41c.39.39.9.59 1.41.59.51 0 1.02-.2 1.41-.59l7.78-7.78 2.81-2.81c.8-.78.8-2.07 0-2.86zM5.41 20L4 18.59l7.72-7.72 1.47 1.35L5.41 20z\"/>\n",
              "  </svg>\n",
              "      </button>\n",
              "      \n",
              "  <style>\n",
              "    .colab-df-container {\n",
              "      display:flex;\n",
              "      flex-wrap:wrap;\n",
              "      gap: 12px;\n",
              "    }\n",
              "\n",
              "    .colab-df-convert {\n",
              "      background-color: #E8F0FE;\n",
              "      border: none;\n",
              "      border-radius: 50%;\n",
              "      cursor: pointer;\n",
              "      display: none;\n",
              "      fill: #1967D2;\n",
              "      height: 32px;\n",
              "      padding: 0 0 0 0;\n",
              "      width: 32px;\n",
              "    }\n",
              "\n",
              "    .colab-df-convert:hover {\n",
              "      background-color: #E2EBFA;\n",
              "      box-shadow: 0px 1px 2px rgba(60, 64, 67, 0.3), 0px 1px 3px 1px rgba(60, 64, 67, 0.15);\n",
              "      fill: #174EA6;\n",
              "    }\n",
              "\n",
              "    [theme=dark] .colab-df-convert {\n",
              "      background-color: #3B4455;\n",
              "      fill: #D2E3FC;\n",
              "    }\n",
              "\n",
              "    [theme=dark] .colab-df-convert:hover {\n",
              "      background-color: #434B5C;\n",
              "      box-shadow: 0px 1px 3px 1px rgba(0, 0, 0, 0.15);\n",
              "      filter: drop-shadow(0px 1px 2px rgba(0, 0, 0, 0.3));\n",
              "      fill: #FFFFFF;\n",
              "    }\n",
              "  </style>\n",
              "\n",
              "      <script>\n",
              "        const buttonEl =\n",
              "          document.querySelector('#df-7f54f9a8-6e41-418c-af25-f471dc4ad34d button.colab-df-convert');\n",
              "        buttonEl.style.display =\n",
              "          google.colab.kernel.accessAllowed ? 'block' : 'none';\n",
              "\n",
              "        async function convertToInteractive(key) {\n",
              "          const element = document.querySelector('#df-7f54f9a8-6e41-418c-af25-f471dc4ad34d');\n",
              "          const dataTable =\n",
              "            await google.colab.kernel.invokeFunction('convertToInteractive',\n",
              "                                                     [key], {});\n",
              "          if (!dataTable) return;\n",
              "\n",
              "          const docLinkHtml = 'Like what you see? Visit the ' +\n",
              "            '<a target=\"_blank\" href=https://colab.research.google.com/notebooks/data_table.ipynb>data table notebook</a>'\n",
              "            + ' to learn more about interactive tables.';\n",
              "          element.innerHTML = '';\n",
              "          dataTable['output_type'] = 'display_data';\n",
              "          await google.colab.output.renderOutput(dataTable, element);\n",
              "          const docLink = document.createElement('div');\n",
              "          docLink.innerHTML = docLinkHtml;\n",
              "          element.appendChild(docLink);\n",
              "        }\n",
              "      </script>\n",
              "    </div>\n",
              "  </div>\n",
              "  "
            ]
          },
          "metadata": {},
          "execution_count": 75
        }
      ],
      "source": [
        "# Preprocess metadata\n",
        "tmp_metadata = movie_metadata.copy()\n",
        "tmp_metadata.index = tmp_metadata.index.str.lower()\n",
        "\n",
        "# Preprocess titles\n",
        "tmp_titles = movie_titles.drop('Year', axis=1).copy()\n",
        "tmp_titles = tmp_titles.reset_index().set_index('Name')\n",
        "tmp_titles.index = tmp_titles.index.str.lower()\n",
        "\n",
        "# Combine titles and metadata\n",
        "df_id_descriptions = tmp_titles.join(tmp_metadata).dropna().set_index('Id')\n",
        "df_id_descriptions['overview'] = df_id_descriptions['overview'].str.lower()\n",
        "#del tmp_metadata,tmp_titles\n",
        "print('Movie Description DF Shape:', df_id_descriptions.shape)\n",
        "df_id_descriptions.tail()"
      ]
    },
    {
      "cell_type": "markdown",
      "metadata": {
        "id": "R7__gU8E44m-"
      },
      "source": [
        "#### Create User-Rating Filtered Dataset (Collaborative)\n",
        "\n",
        "Here we filter out movie-user-ratings where movies don't have descriptions (content)"
      ]
    },
    {
      "cell_type": "code",
      "execution_count": 76,
      "metadata": {
        "id": "w-NM3bV_JOG_",
        "colab": {
          "base_uri": "https://localhost:8080/",
          "height": 224
        },
        "outputId": "1e999ff7-c856-4d5a-fd21-495d688855a0"
      },
      "outputs": [
        {
          "output_type": "stream",
          "name": "stdout",
          "text": [
            "Movie-User-Rating DF Shape: (2181005, 3)\n"
          ]
        },
        {
          "output_type": "execute_result",
          "data": {
            "text/plain": [
              "   Movie  User  Rating\n",
              "0     12    12     3.0\n",
              "1     12  1181     4.0\n",
              "2     12  1324     4.0\n",
              "3     12  2270     3.0\n",
              "4     12   162     5.0"
            ],
            "text/html": [
              "\n",
              "  <div id=\"df-f0613090-6966-4cb2-bf46-6ee6bc1dd915\">\n",
              "    <div class=\"colab-df-container\">\n",
              "      <div>\n",
              "<style scoped>\n",
              "    .dataframe tbody tr th:only-of-type {\n",
              "        vertical-align: middle;\n",
              "    }\n",
              "\n",
              "    .dataframe tbody tr th {\n",
              "        vertical-align: top;\n",
              "    }\n",
              "\n",
              "    .dataframe thead th {\n",
              "        text-align: right;\n",
              "    }\n",
              "</style>\n",
              "<table border=\"1\" class=\"dataframe\">\n",
              "  <thead>\n",
              "    <tr style=\"text-align: right;\">\n",
              "      <th></th>\n",
              "      <th>Movie</th>\n",
              "      <th>User</th>\n",
              "      <th>Rating</th>\n",
              "    </tr>\n",
              "  </thead>\n",
              "  <tbody>\n",
              "    <tr>\n",
              "      <th>0</th>\n",
              "      <td>12</td>\n",
              "      <td>12</td>\n",
              "      <td>3.0</td>\n",
              "    </tr>\n",
              "    <tr>\n",
              "      <th>1</th>\n",
              "      <td>12</td>\n",
              "      <td>1181</td>\n",
              "      <td>4.0</td>\n",
              "    </tr>\n",
              "    <tr>\n",
              "      <th>2</th>\n",
              "      <td>12</td>\n",
              "      <td>1324</td>\n",
              "      <td>4.0</td>\n",
              "    </tr>\n",
              "    <tr>\n",
              "      <th>3</th>\n",
              "      <td>12</td>\n",
              "      <td>2270</td>\n",
              "      <td>3.0</td>\n",
              "    </tr>\n",
              "    <tr>\n",
              "      <th>4</th>\n",
              "      <td>12</td>\n",
              "      <td>162</td>\n",
              "      <td>5.0</td>\n",
              "    </tr>\n",
              "  </tbody>\n",
              "</table>\n",
              "</div>\n",
              "      <button class=\"colab-df-convert\" onclick=\"convertToInteractive('df-f0613090-6966-4cb2-bf46-6ee6bc1dd915')\"\n",
              "              title=\"Convert this dataframe to an interactive table.\"\n",
              "              style=\"display:none;\">\n",
              "        \n",
              "  <svg xmlns=\"http://www.w3.org/2000/svg\" height=\"24px\"viewBox=\"0 0 24 24\"\n",
              "       width=\"24px\">\n",
              "    <path d=\"M0 0h24v24H0V0z\" fill=\"none\"/>\n",
              "    <path d=\"M18.56 5.44l.94 2.06.94-2.06 2.06-.94-2.06-.94-.94-2.06-.94 2.06-2.06.94zm-11 1L8.5 8.5l.94-2.06 2.06-.94-2.06-.94L8.5 2.5l-.94 2.06-2.06.94zm10 10l.94 2.06.94-2.06 2.06-.94-2.06-.94-.94-2.06-.94 2.06-2.06.94z\"/><path d=\"M17.41 7.96l-1.37-1.37c-.4-.4-.92-.59-1.43-.59-.52 0-1.04.2-1.43.59L10.3 9.45l-7.72 7.72c-.78.78-.78 2.05 0 2.83L4 21.41c.39.39.9.59 1.41.59.51 0 1.02-.2 1.41-.59l7.78-7.78 2.81-2.81c.8-.78.8-2.07 0-2.86zM5.41 20L4 18.59l7.72-7.72 1.47 1.35L5.41 20z\"/>\n",
              "  </svg>\n",
              "      </button>\n",
              "      \n",
              "  <style>\n",
              "    .colab-df-container {\n",
              "      display:flex;\n",
              "      flex-wrap:wrap;\n",
              "      gap: 12px;\n",
              "    }\n",
              "\n",
              "    .colab-df-convert {\n",
              "      background-color: #E8F0FE;\n",
              "      border: none;\n",
              "      border-radius: 50%;\n",
              "      cursor: pointer;\n",
              "      display: none;\n",
              "      fill: #1967D2;\n",
              "      height: 32px;\n",
              "      padding: 0 0 0 0;\n",
              "      width: 32px;\n",
              "    }\n",
              "\n",
              "    .colab-df-convert:hover {\n",
              "      background-color: #E2EBFA;\n",
              "      box-shadow: 0px 1px 2px rgba(60, 64, 67, 0.3), 0px 1px 3px 1px rgba(60, 64, 67, 0.15);\n",
              "      fill: #174EA6;\n",
              "    }\n",
              "\n",
              "    [theme=dark] .colab-df-convert {\n",
              "      background-color: #3B4455;\n",
              "      fill: #D2E3FC;\n",
              "    }\n",
              "\n",
              "    [theme=dark] .colab-df-convert:hover {\n",
              "      background-color: #434B5C;\n",
              "      box-shadow: 0px 1px 3px 1px rgba(0, 0, 0, 0.15);\n",
              "      filter: drop-shadow(0px 1px 2px rgba(0, 0, 0, 0.3));\n",
              "      fill: #FFFFFF;\n",
              "    }\n",
              "  </style>\n",
              "\n",
              "      <script>\n",
              "        const buttonEl =\n",
              "          document.querySelector('#df-f0613090-6966-4cb2-bf46-6ee6bc1dd915 button.colab-df-convert');\n",
              "        buttonEl.style.display =\n",
              "          google.colab.kernel.accessAllowed ? 'block' : 'none';\n",
              "\n",
              "        async function convertToInteractive(key) {\n",
              "          const element = document.querySelector('#df-f0613090-6966-4cb2-bf46-6ee6bc1dd915');\n",
              "          const dataTable =\n",
              "            await google.colab.kernel.invokeFunction('convertToInteractive',\n",
              "                                                     [key], {});\n",
              "          if (!dataTable) return;\n",
              "\n",
              "          const docLinkHtml = 'Like what you see? Visit the ' +\n",
              "            '<a target=\"_blank\" href=https://colab.research.google.com/notebooks/data_table.ipynb>data table notebook</a>'\n",
              "            + ' to learn more about interactive tables.';\n",
              "          element.innerHTML = '';\n",
              "          dataTable['output_type'] = 'display_data';\n",
              "          await google.colab.output.renderOutput(dataTable, element);\n",
              "          const docLink = document.createElement('div');\n",
              "          docLink.innerHTML = docLinkHtml;\n",
              "          element.appendChild(docLink);\n",
              "        }\n",
              "      </script>\n",
              "    </div>\n",
              "  </div>\n",
              "  "
            ]
          },
          "metadata": {},
          "execution_count": 76
        }
      ],
      "source": [
        "df_hybrid = (df_filtered_cp.set_index('Movie')\n",
        "               .join(df_id_descriptions)\n",
        "               .dropna()\n",
        "               .drop('overview', axis=1)\n",
        "               .reset_index().rename({'index':'Movie'}, \n",
        "                                      axis=1))\n",
        "print('Movie-User-Rating DF Shape:', df_hybrid.shape)\n",
        "df_hybrid.head()"
      ]
    },
    {
      "cell_type": "code",
      "execution_count": 77,
      "metadata": {
        "id": "j7CHcKM_JOOw",
        "colab": {
          "base_uri": "https://localhost:8080/"
        },
        "outputId": "d41c8d55-6d0b-449a-8669-38013ccaa56b"
      },
      "outputs": [
        {
          "output_type": "execute_result",
          "data": {
            "text/plain": [
              "((1881005, 3), (300000, 3))"
            ]
          },
          "metadata": {},
          "execution_count": 77
        }
      ],
      "source": [
        "# Split train- & testset\n",
        "n = 300000\n",
        "df_hybrid = df_hybrid.sample(frac=1).reset_index(drop=True)\n",
        "df_hybrid_train = df_hybrid[:-n]\n",
        "df_hybrid_test = df_hybrid[-n:]\n",
        "df_hybrid_train.shape, df_hybrid_test.shape"
      ]
    },
    {
      "cell_type": "markdown",
      "metadata": {
        "id": "k33OwrFO5RpF"
      },
      "source": [
        "#### Generate TFIDF Vectors for Train and Test Datasets (Movie Descriptions)"
      ]
    },
    {
      "cell_type": "code",
      "execution_count": 78,
      "metadata": {
        "id": "ZqiyhdelU775"
      },
      "outputs": [],
      "source": [
        "# Create tf-idf matrix for movie description vectors - HINT: check the overview column of df_id_description\n",
        "tfidf = TfidfVectorizer(stop_words='english')\n",
        "tfidf_hybrid = tfidf.fit_transform(df_id_descriptions['overview'])"
      ]
    },
    {
      "cell_type": "code",
      "execution_count": 79,
      "metadata": {
        "id": "RgxZz-0wU7-C"
      },
      "outputs": [],
      "source": [
        "# Get mapping from movie-ids to indices in tfidf-matrix\n",
        "movie_idx_mapping = {id:i for i, id in enumerate(df_id_descriptions.index)}"
      ]
    },
    {
      "cell_type": "code",
      "execution_count": 80,
      "metadata": {
        "id": "HemfBsDqU8AL",
        "colab": {
          "base_uri": "https://localhost:8080/"
        },
        "outputId": "d159321a-f77a-45d1-9911-b424203d5cad"
      },
      "outputs": [
        {
          "output_type": "stream",
          "name": "stderr",
          "text": [
            "100%|██████████| 1881005/1881005 [03:04<00:00, 10186.76it/s]\n"
          ]
        },
        {
          "output_type": "execute_result",
          "data": {
            "text/plain": [
              "1881005"
            ]
          },
          "metadata": {},
          "execution_count": 80
        }
      ],
      "source": [
        "# get train data tfidf vectors\n",
        "train_tfidf = []\n",
        "\n",
        "# Iterate over all movie-ids and save the tfidf-vectors (sparse format for memory efficiency)\n",
        "for idx in tqdm(df_hybrid_train['Movie'].values):\n",
        "    index = movie_idx_mapping[idx]\n",
        "    train_tfidf.append(tfidf_hybrid[index])\n",
        "\n",
        "len(train_tfidf)"
      ]
    },
    {
      "cell_type": "code",
      "execution_count": 81,
      "metadata": {
        "id": "7AqgNsqrU8CZ",
        "colab": {
          "base_uri": "https://localhost:8080/"
        },
        "outputId": "932a02dd-040d-410a-8766-442094ba501c"
      },
      "outputs": [
        {
          "output_type": "stream",
          "name": "stderr",
          "text": [
            "100%|██████████| 300000/300000 [00:31<00:00, 9649.80it/s]\n"
          ]
        },
        {
          "output_type": "execute_result",
          "data": {
            "text/plain": [
              "300000"
            ]
          },
          "metadata": {},
          "execution_count": 81
        }
      ],
      "source": [
        "# get test data tfidf vectors\n",
        "test_tfidf = []\n",
        "\n",
        "# Iterate over all movie-ids and save the tfidf-vectors (sparse format for memory efficiency)\n",
        "for idx in tqdm(df_hybrid_test['Movie'].values):\n",
        "    index = movie_idx_mapping[idx]\n",
        "    test_tfidf.append(tfidf_hybrid[index])\n",
        "\n",
        "len(test_tfidf)"
      ]
    },
    {
      "cell_type": "code",
      "execution_count": 82,
      "metadata": {
        "id": "3dyKQnCNdQTc",
        "colab": {
          "base_uri": "https://localhost:8080/"
        },
        "outputId": "fe2e14d1-927b-4017-da3a-e375765b6e93"
      },
      "outputs": [
        {
          "output_type": "execute_result",
          "data": {
            "text/plain": [
              "((1881005, 24115), (300000, 24115))"
            ]
          },
          "metadata": {},
          "execution_count": 82
        }
      ],
      "source": [
        "# Stack the sparse matrices\n",
        "train_tfidf = vstack(train_tfidf)\n",
        "test_tfidf = vstack(test_tfidf)\n",
        "\n",
        "train_tfidf.shape, test_tfidf.shape"
      ]
    },
    {
      "cell_type": "code",
      "execution_count": 83,
      "metadata": {
        "id": "dMI3SxfNdwNQ",
        "colab": {
          "base_uri": "https://localhost:8080/"
        },
        "outputId": "5bcd48b9-a908-44d1-d4e2-5afed8246479"
      },
      "outputs": [
        {
          "output_type": "execute_result",
          "data": {
            "text/plain": [
              "scipy.sparse._csr.csr_matrix"
            ]
          },
          "metadata": {},
          "execution_count": 83
        }
      ],
      "source": [
        "type(train_tfidf)"
      ]
    },
    {
      "cell_type": "markdown",
      "metadata": {
        "id": "M4m5y7Zv5ZuK"
      },
      "source": [
        "This shows we are using sparse matrices to represent the vectors as dense vectors would typically give a out of memory error!"
      ]
    },
    {
      "cell_type": "markdown",
      "metadata": {
        "id": "rCZjFT6JeIDs"
      },
      "source": [
        "#### Construct Deep Learning Model Architecture"
      ]
    },
    {
      "cell_type": "code",
      "execution_count": 84,
      "metadata": {
        "id": "y_WYqzMpeJby"
      },
      "outputs": [],
      "source": [
        "# setup NN parameters\n",
        "user_embed_dim = 256\n",
        "movie_embed_dim = 256\n",
        "userid_input_shape = 1\n",
        "movieid_input_shape = 1\n",
        "tfidf_input_shape = tfidf_hybrid.shape[1]"
      ]
    },
    {
      "cell_type": "code",
      "execution_count": 85,
      "metadata": {
        "id": "Ea74tynzeqGB"
      },
      "outputs": [],
      "source": [
        "# Create the input layers\n",
        "\n",
        "# user and movie input layers\n",
        "user_id_input = Input(shape=(userid_input_shape,), name='user')\n",
        "movie_id_input = Input(shape=(movieid_input_shape,), name='movie')\n",
        "\n",
        "# tfidf input layer\n",
        "tfidf_input = Input(shape=(tfidf_input_shape,), name='tfidf', sparse=True)"
      ]
    },
    {
      "cell_type": "code",
      "execution_count": 87,
      "metadata": {
        "id": "zc_bGQ6ne3Cj"
      },
      "outputs": [],
      "source": [
        "# Create embeddings layers for users and movies\n",
        "\n",
        "# user embedding\n",
        "user_embedding = Embedding(output_dim=user_embed_dim,\n",
        "                           input_dim=len(user_id_mapping),\n",
        "                           input_length=userid_input_shape,\n",
        "                           name='user_embedding')(user_id_input)\n",
        "\n",
        "# movie embedding\n",
        "movie_embedding = Embedding(output_dim=movie_embed_dim,\n",
        "                           input_dim=len(movie_id_mapping),\n",
        "                           input_length=movieid_input_shape,\n",
        "                           name='movie_embedding')(movie_id_input)"
      ]
    },
    {
      "cell_type": "code",
      "execution_count": 88,
      "metadata": {
        "id": "pm_H8CaXe3Gn"
      },
      "outputs": [],
      "source": [
        "# Dimensionality reduction with Dense layers\n",
        "tfidf_vectors = Dense(512, activation='relu')(tfidf_input)\n",
        "tfidf_vectors = Dense(256, activation='relu')(tfidf_vectors)"
      ]
    },
    {
      "cell_type": "code",
      "execution_count": 89,
      "metadata": {
        "id": "rlNBswdYe3I8"
      },
      "outputs": [],
      "source": [
        "# Reshape both user and movie embedding layers\n",
        "user_vectors = Reshape([user_embed_dim])(user_embedding)\n",
        "movie_vectors = Reshape([movie_embed_dim])(movie_embedding)"
      ]
    },
    {
      "cell_type": "code",
      "execution_count": 90,
      "metadata": {
        "id": "LfcefQQEe3E2"
      },
      "outputs": [],
      "source": [
        "# Concatenate all layers into one \n",
        "hybrid_layer = Concatenate()([user_vectors, movie_vectors, tfidf_vectors])"
      ]
    },
    {
      "cell_type": "code",
      "execution_count": 91,
      "metadata": {
        "id": "WfZK5Dg9oxVA"
      },
      "outputs": [],
      "source": [
        "# add in dense and output layers\n",
        "dense = Dense(512, activation='relu')(hybrid_layer)\n",
        "dense = Dropout(0.2)(dense)\n",
        "output = Dense(1)(dense)"
      ]
    },
    {
      "cell_type": "code",
      "execution_count": 92,
      "metadata": {
        "id": "odLeDjgzoxYA",
        "colab": {
          "base_uri": "https://localhost:8080/"
        },
        "outputId": "973741cf-5ce1-4577-81b9-fc5a7495bf21"
      },
      "outputs": [
        {
          "output_type": "stream",
          "name": "stdout",
          "text": [
            "Model: \"model_1\"\n",
            "__________________________________________________________________________________________________\n",
            " Layer (type)                   Output Shape         Param #     Connected to                     \n",
            "==================================================================================================\n",
            " user (InputLayer)              [(None, 1)]          0           []                               \n",
            "                                                                                                  \n",
            " movie (InputLayer)             [(None, 1)]          0           []                               \n",
            "                                                                                                  \n",
            " tfidf (InputLayer)             [(None, 24115)]      0           []                               \n",
            "                                                                                                  \n",
            " user_embedding (Embedding)     (None, 1, 256)       5331968     ['user[0][0]']                   \n",
            "                                                                                                  \n",
            " movie_embedding (Embedding)    (None, 1, 256)       445696      ['movie[0][0]']                  \n",
            "                                                                                                  \n",
            " dense (Dense)                  (None, 512)          12347392    ['tfidf[0][0]']                  \n",
            "                                                                                                  \n",
            " reshape_2 (Reshape)            (None, 256)          0           ['user_embedding[0][0]']         \n",
            "                                                                                                  \n",
            " reshape_3 (Reshape)            (None, 256)          0           ['movie_embedding[0][0]']        \n",
            "                                                                                                  \n",
            " dense_1 (Dense)                (None, 256)          131328      ['dense[0][0]']                  \n",
            "                                                                                                  \n",
            " concatenate (Concatenate)      (None, 768)          0           ['reshape_2[0][0]',              \n",
            "                                                                  'reshape_3[0][0]',              \n",
            "                                                                  'dense_1[0][0]']                \n",
            "                                                                                                  \n",
            " dense_2 (Dense)                (None, 512)          393728      ['concatenate[0][0]']            \n",
            "                                                                                                  \n",
            " dropout (Dropout)              (None, 512)          0           ['dense_2[0][0]']                \n",
            "                                                                                                  \n",
            " dense_3 (Dense)                (None, 1)            513         ['dropout[0][0]']                \n",
            "                                                                                                  \n",
            "==================================================================================================\n",
            "Total params: 18,650,625\n",
            "Trainable params: 18,650,625\n",
            "Non-trainable params: 0\n",
            "__________________________________________________________________________________________________\n"
          ]
        }
      ],
      "source": [
        "# create and view model summary\n",
        "model = Model(inputs=[user_id_input, movie_id_input, tfidf_input], outputs=output)\n",
        "model.compile(loss='mse', optimizer='adam')\n",
        "model.summary()"
      ]
    },
    {
      "cell_type": "markdown",
      "metadata": {
        "id": "upDnm3r76Ivj"
      },
      "source": [
        "#### Train and Test the Model"
      ]
    },
    {
      "cell_type": "code",
      "source": [
        "type(train_tfidf)"
      ],
      "metadata": {
        "colab": {
          "base_uri": "https://localhost:8080/"
        },
        "id": "C8dFlrvUQ6cU",
        "outputId": "5556cad8-9bd7-4282-cdf9-af018b3e7ce3"
      },
      "execution_count": 97,
      "outputs": [
        {
          "output_type": "execute_result",
          "data": {
            "text/plain": [
              "scipy.sparse._csr.csr_matrix"
            ]
          },
          "metadata": {},
          "execution_count": 97
        }
      ]
    },
    {
      "cell_type": "code",
      "execution_count": 95,
      "metadata": {
        "id": "SmzWu6Xhoxnt",
        "colab": {
          "base_uri": "https://localhost:8080/",
          "height": 381
        },
        "outputId": "2c28f029-12e4-41aa-c118-2e3751557854"
      },
      "outputs": [
        {
          "output_type": "error",
          "ename": "ValueError",
          "evalue": "ignored",
          "traceback": [
            "\u001b[0;31m---------------------------------------------------------------------------\u001b[0m",
            "\u001b[0;31mValueError\u001b[0m                                Traceback (most recent call last)",
            "\u001b[0;32m<ipython-input-95-7dcd8e5f5576>\u001b[0m in \u001b[0;36m<cell line: 6>\u001b[0;34m()\u001b[0m\n\u001b[1;32m      4\u001b[0m \u001b[0mX\u001b[0m \u001b[0;34m=\u001b[0m \u001b[0;34m[\u001b[0m\u001b[0mdf_hybrid_train\u001b[0m\u001b[0;34m[\u001b[0m\u001b[0;34m'User'\u001b[0m\u001b[0;34m]\u001b[0m\u001b[0;34m,\u001b[0m \u001b[0mdf_hybrid_train\u001b[0m\u001b[0;34m[\u001b[0m\u001b[0;34m'Movie'\u001b[0m\u001b[0;34m]\u001b[0m\u001b[0;34m,\u001b[0m \u001b[0mtrain_tfidf\u001b[0m\u001b[0;34m]\u001b[0m\u001b[0;34m\u001b[0m\u001b[0;34m\u001b[0m\u001b[0m\n\u001b[1;32m      5\u001b[0m \u001b[0my\u001b[0m \u001b[0;34m=\u001b[0m \u001b[0mdf_hybrid_train\u001b[0m\u001b[0;34m[\u001b[0m\u001b[0;34m'Rating'\u001b[0m\u001b[0;34m]\u001b[0m\u001b[0;34m\u001b[0m\u001b[0;34m\u001b[0m\u001b[0m\n\u001b[0;32m----> 6\u001b[0;31m model.fit(X, y,\n\u001b[0m\u001b[1;32m      7\u001b[0m           \u001b[0mbatch_size\u001b[0m\u001b[0;34m=\u001b[0m\u001b[0mbatch_size\u001b[0m\u001b[0;34m,\u001b[0m\u001b[0;34m\u001b[0m\u001b[0;34m\u001b[0m\u001b[0m\n\u001b[1;32m      8\u001b[0m           \u001b[0mepochs\u001b[0m\u001b[0;34m=\u001b[0m\u001b[0mepochs\u001b[0m\u001b[0;34m,\u001b[0m \u001b[0;31m## Change the epochs to find better improved model.\u001b[0m\u001b[0;34m\u001b[0m\u001b[0;34m\u001b[0m\u001b[0m\n",
            "\u001b[0;32m/usr/local/lib/python3.10/dist-packages/keras/utils/traceback_utils.py\u001b[0m in \u001b[0;36merror_handler\u001b[0;34m(*args, **kwargs)\u001b[0m\n\u001b[1;32m     68\u001b[0m             \u001b[0;31m# To get the full stack trace, call:\u001b[0m\u001b[0;34m\u001b[0m\u001b[0;34m\u001b[0m\u001b[0m\n\u001b[1;32m     69\u001b[0m             \u001b[0;31m# `tf.debugging.disable_traceback_filtering()`\u001b[0m\u001b[0;34m\u001b[0m\u001b[0;34m\u001b[0m\u001b[0m\n\u001b[0;32m---> 70\u001b[0;31m             \u001b[0;32mraise\u001b[0m \u001b[0me\u001b[0m\u001b[0;34m.\u001b[0m\u001b[0mwith_traceback\u001b[0m\u001b[0;34m(\u001b[0m\u001b[0mfiltered_tb\u001b[0m\u001b[0;34m)\u001b[0m \u001b[0;32mfrom\u001b[0m \u001b[0;32mNone\u001b[0m\u001b[0;34m\u001b[0m\u001b[0;34m\u001b[0m\u001b[0m\n\u001b[0m\u001b[1;32m     71\u001b[0m         \u001b[0;32mfinally\u001b[0m\u001b[0;34m:\u001b[0m\u001b[0;34m\u001b[0m\u001b[0;34m\u001b[0m\u001b[0m\n\u001b[1;32m     72\u001b[0m             \u001b[0;32mdel\u001b[0m \u001b[0mfiltered_tb\u001b[0m\u001b[0;34m\u001b[0m\u001b[0;34m\u001b[0m\u001b[0m\n",
            "\u001b[0;32m/usr/local/lib/python3.10/dist-packages/keras/engine/data_adapter.py\u001b[0m in \u001b[0;36mtrain_validation_split\u001b[0;34m(arrays, validation_split)\u001b[0m\n\u001b[1;32m   1666\u001b[0m     \u001b[0munsplitable\u001b[0m \u001b[0;34m=\u001b[0m \u001b[0;34m[\u001b[0m\u001b[0mtype\u001b[0m\u001b[0;34m(\u001b[0m\u001b[0mt\u001b[0m\u001b[0;34m)\u001b[0m \u001b[0;32mfor\u001b[0m \u001b[0mt\u001b[0m \u001b[0;32min\u001b[0m \u001b[0mflat_arrays\u001b[0m \u001b[0;32mif\u001b[0m \u001b[0;32mnot\u001b[0m \u001b[0m_can_split\u001b[0m\u001b[0;34m(\u001b[0m\u001b[0mt\u001b[0m\u001b[0;34m)\u001b[0m\u001b[0;34m]\u001b[0m\u001b[0;34m\u001b[0m\u001b[0;34m\u001b[0m\u001b[0m\n\u001b[1;32m   1667\u001b[0m     \u001b[0;32mif\u001b[0m \u001b[0munsplitable\u001b[0m\u001b[0;34m:\u001b[0m\u001b[0;34m\u001b[0m\u001b[0;34m\u001b[0m\u001b[0m\n\u001b[0;32m-> 1668\u001b[0;31m         raise ValueError(\n\u001b[0m\u001b[1;32m   1669\u001b[0m             \u001b[0;34m\"`validation_split` is only supported for Tensors or NumPy \"\u001b[0m\u001b[0;34m\u001b[0m\u001b[0;34m\u001b[0m\u001b[0m\n\u001b[1;32m   1670\u001b[0m             \u001b[0;34m\"arrays, found following types in the input: {}\"\u001b[0m\u001b[0;34m.\u001b[0m\u001b[0mformat\u001b[0m\u001b[0;34m(\u001b[0m\u001b[0munsplitable\u001b[0m\u001b[0;34m)\u001b[0m\u001b[0;34m\u001b[0m\u001b[0;34m\u001b[0m\u001b[0m\n",
            "\u001b[0;31mValueError\u001b[0m: `validation_split` is only supported for Tensors or NumPy arrays, found following types in the input: [<class 'scipy.sparse._csr.csr_matrix'>]"
          ]
        }
      ],
      "source": [
        "# fit the model\n",
        "batch_size=1024\n",
        "epochs=10\n",
        "X = [df_hybrid_train['User'], df_hybrid_train['Movie'], train_tfidf]\n",
        "y = df_hybrid_train['Rating']\n",
        "model.fit(X, y,\n",
        "          batch_size=batch_size, \n",
        "          epochs=epochs, ## Change the epochs to find better improved model.\n",
        "          validation_split=0.1,\n",
        "          shuffle=True)"
      ]
    },
    {
      "cell_type": "code",
      "execution_count": null,
      "metadata": {
        "id": "ZLkTXmxhpK7r"
      },
      "outputs": [],
      "source": [
        "# create test input data and true outputs\n",
        "X_test = [df_hybrid_test['User'], df_hybrid_test['Movie'], test_tfidf]\n",
        "y_true = df_hybrid_test['Rating'].values \n",
        "\n",
        "# Test model by making predictions on test data\n",
        "y_pred = model.predict(X_test).ravel()\n",
        "# clip upper and lower ratings\n",
        "y_pred = list(map(lambda x: 1.0 if x < 1 else 5.0 if x > 5.0 else x, y_pred))\n",
        "\n",
        "#  Compute RMSE\n",
        "rmse = np.sqrt(mean_squared_error(y_pred=y_pred, y_true=y_true))\n",
        "print('\\n\\nTesting Result With DL Hybrid Recommender: {:.4f} RMSE'.format(rmse))"
      ]
    },
    {
      "cell_type": "code",
      "execution_count": null,
      "metadata": {
        "id": "ecgDG4C9pLAG"
      },
      "outputs": [],
      "source": [
        "## Let's see how our collaborative model performs by seeing the predicted and actual rating for the given user and movie pair\n",
        "results_df = pd.DataFrame({\n",
        "    'User ID': df_hybrid_test['User'].values,\n",
        "    'Movie ID': df_hybrid_test['Movie'].values,\n",
        "    'Movie Name': [movie_titles['Name'].iloc[item] for item in df_hybrid_test['Movie']],\n",
        "    'Predicted Rating': np.round(y_pred, 1),\n",
        "    'Actual Rating': y_true\n",
        "})\n",
        "\n",
        "results_df.head(20)"
      ]
    }
  ],
  "metadata": {
    "colab": {
      "machine_shape": "hm",
      "provenance": []
    },
    "kernelspec": {
      "display_name": "Python 3 (ipykernel)",
      "language": "python",
      "name": "python3"
    },
    "language_info": {
      "codemirror_mode": {
        "name": "ipython",
        "version": 3
      },
      "file_extension": ".py",
      "mimetype": "text/x-python",
      "name": "python",
      "nbconvert_exporter": "python",
      "pygments_lexer": "ipython3",
      "version": "3.9.13"
    }
  },
  "nbformat": 4,
  "nbformat_minor": 0
}