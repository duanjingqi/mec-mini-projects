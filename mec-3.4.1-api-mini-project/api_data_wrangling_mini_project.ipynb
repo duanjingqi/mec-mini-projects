{
 "cells": [
  {
   "cell_type": "markdown",
   "metadata": {},
   "source": [
    "This exercise will require you to pull some data from https://data.nasdaq.com/ (formerly Quandl API)."
   ]
  },
  {
   "cell_type": "markdown",
   "metadata": {},
   "source": [
    "As a first step, you will need to register a free account on the https://data.nasdaq.com/ website."
   ]
  },
  {
   "cell_type": "markdown",
   "metadata": {},
   "source": [
    "After you register, you will be provided with a unique API key, that you should store:\r\n",
    "\r\n",
    "*Note*: Use a `.env` file and put your key in there and `python-dotenv` to access it in this notebook. \r\n",
    "\r\n",
    "The code below uses a key that was used when generating this project but has since been deleted. Never submit your keys to source control. There is a `.env-example` file in this repository to illusrtate what you need. Copy that to a file called `.env` and use your own api key in that `.env` file. Make sure you also have a `.gitignore` file with a line for `.env` added to it. \r\n",
    "\r\n",
    "The standard Python gitignore is [here](https://github.com/github/gitignore/blob/master/Python.gitignore) you can just copy that. "
   ]
  },
  {
   "cell_type": "code",
   "execution_count": 1,
   "metadata": {},
   "outputs": [
    {
     "name": "stdout",
     "output_type": "stream",
     "text": [
      "NqNSzHiNrV1p3VDS5kC9\n"
     ]
    }
   ],
   "source": [
    "# get api key from your .env file\n",
    "import os\n",
    "from dotenv import load_dotenv  # if missing this module, simply run `pip install python-dotenv`\n",
    "\n",
    "load_dotenv()\n",
    "API_KEY = os.getenv('NASDAQ_API_KEY')\n",
    "\n",
    "print(API_KEY)"
   ]
  },
  {
   "cell_type": "markdown",
   "metadata": {},
   "source": [
    "Nasdaq Data has a large number of data sources, but, unfortunately, most of them require a Premium subscription. Still, there are also a good number of free datasets."
   ]
  },
  {
   "cell_type": "markdown",
   "metadata": {},
   "source": [
    "For this mini project, we will focus on equities data from the Frankfurt Stock Exhange (FSE), which is available for free. We'll try and analyze the stock prices of a company called Carl Zeiss Meditec, which manufactures tools for eye examinations, as well as medical lasers for laser eye surgery: https://www.zeiss.com/meditec/int/home.html. The company is listed under the stock ticker AFX_X."
   ]
  },
  {
   "cell_type": "markdown",
   "metadata": {},
   "source": [
    "You can find the detailed Nasdaq Data API instructions here: https://docs.data.nasdaq.com/docs/in-depth-usage"
   ]
  },
  {
   "cell_type": "markdown",
   "metadata": {},
   "source": [
    "While there is a dedicated Python package for connecting to the Nasdaq API, we would prefer that you use the *requests* package, which can be easily downloaded using *pip* or *conda*. You can find the documentation for the package here: http://docs.python-requests.org/en/master/ "
   ]
  },
  {
   "cell_type": "markdown",
   "metadata": {},
   "source": [
    "Finally, apart from the *requests* package, you are encouraged to not use any third party Python packages, such as *pandas*, and instead focus on what's available in the Python Standard Library (the *collections* module might come in handy: https://pymotw.com/3/collections/).\n",
    "Also, since you won't have access to DataFrames, you are encouraged to us Python's native data structures - preferably dictionaries, though some questions can also be answered using lists.\n",
    "You can read more on these data structures here: https://docs.python.org/3/tutorial/datastructures.html"
   ]
  },
  {
   "cell_type": "markdown",
   "metadata": {},
   "source": [
    "Keep in mind that the JSON responses you will be getting from the API map almost one-to-one to Python's dictionaries. Unfortunately, they can be very nested, so make sure you read up on indexing dictionaries in the documentation provided above."
   ]
  },
  {
   "cell_type": "code",
   "execution_count": 3,
   "metadata": {},
   "outputs": [],
   "source": [
    "# First, import the relevant modules\n",
    "import os,sys\n",
    "import json\n",
    "import requests"
   ]
  },
  {
   "cell_type": "markdown",
   "metadata": {},
   "source": [
    "Note: API's can change a bit with each version, for this exercise it is reccomended to use the nasdaq api at `https://data.nasdaq.com/api/v3/`. This is the same api as what used to be quandl so `https://www.quandl.com/api/v3/` should work too.\r\n",
    "\r\n",
    "Hint: We are looking for the `AFX_X` data on the `datasets/FSE/` dataset."
   ]
  },
  {
   "cell_type": "code",
   "execution_count": 4,
   "metadata": {},
   "outputs": [
    {
     "name": "stdout",
     "output_type": "stream",
     "text": [
      "200\n"
     ]
    }
   ],
   "source": [
    "# Now, call the Nasdaq API and pull out a small sample of the data (only one day) to get a glimpse\n",
    "# into the JSON structure that will be returned\n",
    "base_url = \"https://data.nasdaq.com/api/v3/datasets/FSE/AFX_X/data.json\"\n",
    "search_params = {'api_key':API_KEY, 'start_date': '2022-11-01', 'end_date':'2022-11-01'}\n",
    "req_small = requests.get(base_url, params=search_params)\n",
    "print (req_small.status_code)"
   ]
  },
  {
   "cell_type": "code",
   "execution_count": 8,
   "metadata": {},
   "outputs": [
    {
     "data": {
      "text/plain": [
       "{'dataset_data': {'limit': None,\n",
       "  'transform': None,\n",
       "  'column_index': None,\n",
       "  'column_names': ['Date',\n",
       "   'Open',\n",
       "   'High',\n",
       "   'Low',\n",
       "   'Close',\n",
       "   'Change',\n",
       "   'Traded Volume',\n",
       "   'Turnover',\n",
       "   'Last Price of the Day',\n",
       "   'Daily Traded Units',\n",
       "   'Daily Turnover'],\n",
       "  'start_date': '2022-11-01',\n",
       "  'end_date': '2020-12-01',\n",
       "  'frequency': 'daily',\n",
       "  'data': [],\n",
       "  'collapse': None,\n",
       "  'order': None}}"
      ]
     },
     "execution_count": 8,
     "metadata": {},
     "output_type": "execute_result"
    }
   ],
   "source": [
    "# Inspect the JSON structure of the object you created, and take note of how nested it is,\n",
    "# as well as the overall structure\n",
    "data_small = json.loads(req_small.content.decode('utf-8'))\n",
    "data_small"
   ]
  },
  {
   "cell_type": "markdown",
   "metadata": {},
   "source": [
    "These are your tasks for this mini project:\n",
    "\n",
    "1. Collect data from the Franfurt Stock Exchange, for the ticker AFX_X, for the whole year 2017 (keep in mind that the date format is YYYY-MM-DD).\n",
    "2. Convert the returned JSON object into a Python dictionary.\n",
    "3. Calculate what the highest and lowest opening prices were for the stock in this period.\n",
    "4. What was the largest change in any one day (based on High and Low price)?\n",
    "5. What was the largest change between any two days (based on Closing Price)?\n",
    "6. What was the average daily trading volume during this year?\n",
    "7. (Optional) What was the median trading volume during this year. (Note: you may need to implement your own function for calculating the median.)"
   ]
  },
  {
   "cell_type": "code",
   "execution_count": 9,
   "metadata": {},
   "outputs": [
    {
     "data": {
      "text/plain": [
       "200"
      ]
     },
     "execution_count": 9,
     "metadata": {},
     "output_type": "execute_result"
    }
   ],
   "source": [
    "# Task1 \n",
    "search_params.update(start_date='2017-01-01', end_date='2017-12-31')\n",
    "req = requests.get(base_url, params=search_params)\n",
    "req.status_code"
   ]
  },
  {
   "cell_type": "code",
   "execution_count": 15,
   "metadata": {},
   "outputs": [
    {
     "name": "stdout",
     "output_type": "stream",
     "text": [
      "255\n"
     ]
    },
    {
     "data": {
      "text/plain": [
       "{'Date': '2017-12-29',\n",
       " 'Open': 51.76,\n",
       " 'High': 51.94,\n",
       " 'Low': 51.45,\n",
       " 'Close': 51.76,\n",
       " 'Change': None,\n",
       " 'Traded Volume': 34640.0,\n",
       " 'Turnover': 1792304.0,\n",
       " 'Last Price of the Day': None,\n",
       " 'Daily Traded Units': None,\n",
       " 'Daily Turnover': None}"
      ]
     },
     "execution_count": 15,
     "metadata": {},
     "output_type": "execute_result"
    }
   ],
   "source": [
    "# Task2\n",
    "raw = json.loads(req.content.decode('utf-8'))\n",
    "dataset = []\n",
    "for data in raw['dataset_data']['data'] : \n",
    "    dataset.append(dict(zip(raw['dataset_data']['column_names'], data)))\n",
    "print (len(dataset))\n",
    "dataset[0]"
   ]
  },
  {
   "cell_type": "code",
   "execution_count": 24,
   "metadata": {},
   "outputs": [
    {
     "name": "stdout",
     "output_type": "stream",
     "text": [
      "Highest open is 53.11, occurred on 2017-12-14\n",
      "Lowest open is 34.0, occurred on 2017-01-24\n"
     ]
    }
   ],
   "source": [
    "# 3.Calculate what the highest and lowest opening prices were for the stock in this period.\n",
    "import numpy as np\n",
    "data_has_open = [data for data in dataset if data['Open'] is not None]\n",
    "open_sorted = sorted(data_has_open, key=lambda data: data['Open'], reverse=True)\n",
    "print ('Highest open is %s, occurred on %s' %(open_sorted[0]['Open'], open_sorted[0]['Date']))\n",
    "print ('Lowest open is %s, occurred on %s' %(open_sorted[-1]['Open'], open_sorted[-1]['Date']))"
   ]
  },
  {
   "cell_type": "code",
   "execution_count": 31,
   "metadata": {},
   "outputs": [
    {
     "name": "stdout",
     "output_type": "stream",
     "text": [
      "The largest change is 2.8100000000000023, occurred on 2017-05-11\n"
     ]
    }
   ],
   "source": [
    "# 4.What was the largest change in any one day (based on High and Low price)?\n",
    "for data in dataset : \n",
    "    diff = float(data['High']) - float(data['Low'])\n",
    "    data.update(Diff = str(diff))\n",
    "diff_sorted = sorted(dataset, key = lambda data: data['Diff'], reverse = True)\n",
    "print ('The largest change is %s, occurred on %s' %(diff_sorted[0]['Diff'], diff_sorted[0]['Date']))"
   ]
  },
  {
   "cell_type": "code",
   "execution_count": 35,
   "metadata": {},
   "outputs": [
    {
     "name": "stdout",
     "output_type": "stream",
     "text": [
      "The close price had changed the most in between 2017-08-08 and 2017-08-09, the difference is 2.559999999999995\n"
     ]
    }
   ],
   "source": [
    "# 5. What was the largest change between any two days (based on Closing Price)?\n",
    "date_sorted = sorted(dataset, key = lambda data: data['Date'])\n",
    "change_list = []\n",
    "i = 0 \n",
    "while i < len(date_sorted)-1 : \n",
    "    change = abs(float(date_sorted[i]['Close']) - float(date_sorted[i+1]['Close']))\n",
    "    change_list.append([date_sorted[i], date_sorted[i+1], {'Close_change':str(change)}])\n",
    "    i += 1 \n",
    "change_sorted = sorted(change_list, key = lambda data: data[2]['Close_change'], reverse = True)\n",
    "print ('The close price had changed the most in between %s and %s, the difference is %s' %(change_sorted[0][0]['Date'], change_sorted[0][1]['Date'], change_sorted[0][2]['Close_change']))\n",
    "    "
   ]
  },
  {
   "cell_type": "code",
   "execution_count": 39,
   "metadata": {},
   "outputs": [
    {
     "name": "stdout",
     "output_type": "stream",
     "text": [
      "The average daily trading volume in 2017 is 89124.337255\n"
     ]
    }
   ],
   "source": [
    "# 6. What was the average daily trading volume during this year?\n",
    "tradeVol_list = [float(data['Traded Volume']) for data in dataset if data['Traded Volume'] is not None]\n",
    "print ('The average daily trading volume in 2017 is %f' % (sum(tradeVol_list)/len(tradeVol_list)))"
   ]
  },
  {
   "cell_type": "code",
   "execution_count": 53,
   "metadata": {},
   "outputs": [
    {
     "name": "stdout",
     "output_type": "stream",
     "text": [
      "The median trading volume in 2017 is 76286.0\n"
     ]
    }
   ],
   "source": [
    "# 7. What was the median trading volume during this year. (Note: you may need to implement your own function for calculating the median.)\n",
    "def get_median(alist) : \n",
    "    # make sure the items in alist are numbers\n",
    "    new = [float(x) for x in alist]        \n",
    "    new.sort()\n",
    "    N = len(new)\n",
    "    if N % 2 == 0 : \n",
    "        i = int(N/2-1)\n",
    "        median = (new[i] + new[i+1])/2\n",
    "    else : \n",
    "        i = int((N-1)/2)\n",
    "        median = new[i]\n",
    "    return str(median)\n",
    "print ('The median trading volume in 2017 is %s' % get_median(tradeVol_list))"
   ]
  },
  {
   "cell_type": "code",
   "execution_count": null,
   "metadata": {},
   "outputs": [],
   "source": []
  },
  {
   "cell_type": "code",
   "execution_count": null,
   "metadata": {},
   "outputs": [],
   "source": []
  }
 ],
 "metadata": {
  "interpreter": {
   "hash": "4885f37acae9217c235118400878352aafa7b76e66df698a1f601374f86939a7"
  },
  "kernelspec": {
   "display_name": "Python 3",
   "language": "python",
   "name": "python3"
  },
  "language_info": {
   "codemirror_mode": {
    "name": "ipython",
    "version": 3
   },
   "file_extension": ".py",
   "mimetype": "text/x-python",
   "name": "python",
   "nbconvert_exporter": "python",
   "pygments_lexer": "ipython3",
   "version": "3.7.15"
  }
 },
 "nbformat": 4,
 "nbformat_minor": 4
}
